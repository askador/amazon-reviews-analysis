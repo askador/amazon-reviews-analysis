{
 "cells": [
  {
   "cell_type": "markdown",
   "metadata": {},
   "source": [
    "# Amazon Gaming Mice Review Analysis "
   ]
  },
  {
   "cell_type": "markdown",
   "metadata": {},
   "source": [
    "## Scraping reviews"
   ]
  },
  {
   "cell_type": "markdown",
   "metadata": {},
   "source": [
    "### Libraries"
   ]
  },
  {
   "cell_type": "code",
   "execution_count": 1,
   "metadata": {},
   "outputs": [],
   "source": [
    "import re\n",
    "import csv\n",
    "import time\n",
    "import json\n",
    "import random\n",
    "import requests\n",
    "import pandas as pd\n",
    "from bs4 import BeautifulSoup\n",
    "from tqdm.notebook import tqdm"
   ]
  },
  {
   "cell_type": "markdown",
   "metadata": {},
   "source": [
    "### Scraping gaming mouse products"
   ]
  },
  {
   "cell_type": "code",
   "execution_count": 2,
   "metadata": {},
   "outputs": [],
   "source": [
    "headers = {\n",
    "    \"accept-language\": \"en-GB,en;q=0.9\",\n",
    "    \"user-agent\": \"Mozilla/5.0 (Macintosh; Intel Mac OS X 10_15_7) AppleWebKit/605.1.15 (KHTML, like Gecko) Version/16.1 Safari/605.1.15\",\n",
    "}"
   ]
  },
  {
   "cell_type": "code",
   "execution_count": 3,
   "metadata": {},
   "outputs": [],
   "source": [
    "def get_page(url):\n",
    "    try:\n",
    "        response = requests.get(url, headers=headers)\n",
    "        if \"captcha\" in response.text.lower():\n",
    "            print(\n",
    "                \"CAPTCHA detected. Please solve the CAPTCHA manually or use an anti-CAPTCHA service.\"\n",
    "            )\n",
    "            return None\n",
    "        return BeautifulSoup(response.text, \"lxml\")\n",
    "    except requests.exceptions.RequestException as e:\n",
    "        print(f\"Request failed: {e}\")\n",
    "        return None\n",
    "\n",
    "\n",
    "def parse_product_list(page):\n",
    "    products = []\n",
    "    for product in page.select(\".s-main-slot .s-result-item\"):\n",
    "        title = product.select_one(\"h2 .a-link-normal\")\n",
    "        if title:\n",
    "            link = title[\"href\"]\n",
    "            link = re.sub(r'^.*?https:\\/\\/www\\.amazon\\.com\\/', 'https://www.amazon.com/', link)\n",
    "            products.append(\n",
    "                {\n",
    "                    \"title\": title.get_text(strip=True),\n",
    "                    \"link\": f\"https://www.amazon.com{link}\",\n",
    "                }\n",
    "            )\n",
    "    return products\n",
    "\n",
    "\n",
    "def paginate_products(base_url, max_pages=100):\n",
    "    products = []\n",
    "\n",
    "    for page_number in range(1, max_pages + 1):\n",
    "        paginated_url = f\"{base_url}&page={page_number}\"\n",
    "        print(f\"Fetching page {page_number}: {paginated_url}\")\n",
    "        page = get_page(paginated_url)\n",
    "        if not page:\n",
    "            break\n",
    "\n",
    "        products.extend(parse_product_list(page))\n",
    "\n",
    "        time.sleep(random.uniform(2, 5))  # Random sleep to mimic human behavior\n",
    "\n",
    "    return products"
   ]
  },
  {
   "cell_type": "code",
   "execution_count": 17,
   "metadata": {},
   "outputs": [
    {
     "name": "stdout",
     "output_type": "stream",
     "text": [
      "Fetching page 1: https://www.amazon.com/s?k=gaming mouse&page=1\n",
      "Fetching page 2: https://www.amazon.com/s?k=gaming mouse&page=2\n",
      "Fetching page 3: https://www.amazon.com/s?k=gaming mouse&page=3\n",
      "Fetching page 4: https://www.amazon.com/s?k=gaming mouse&page=4\n",
      "Fetching page 5: https://www.amazon.com/s?k=gaming mouse&page=5\n",
      "Fetching page 6: https://www.amazon.com/s?k=gaming mouse&page=6\n",
      "Fetching page 7: https://www.amazon.com/s?k=gaming mouse&page=7\n",
      "Fetching page 8: https://www.amazon.com/s?k=gaming mouse&page=8\n",
      "Fetching page 9: https://www.amazon.com/s?k=gaming mouse&page=9\n",
      "Fetching page 10: https://www.amazon.com/s?k=gaming mouse&page=10\n",
      "Fetching page 11: https://www.amazon.com/s?k=gaming mouse&page=11\n",
      "Fetching page 12: https://www.amazon.com/s?k=gaming mouse&page=12\n",
      "Fetching page 13: https://www.amazon.com/s?k=gaming mouse&page=13\n",
      "Fetching page 14: https://www.amazon.com/s?k=gaming mouse&page=14\n",
      "Fetching page 15: https://www.amazon.com/s?k=gaming mouse&page=15\n",
      "Fetching page 16: https://www.amazon.com/s?k=gaming mouse&page=16\n",
      "Fetching page 17: https://www.amazon.com/s?k=gaming mouse&page=17\n",
      "Fetching page 18: https://www.amazon.com/s?k=gaming mouse&page=18\n",
      "Fetching page 19: https://www.amazon.com/s?k=gaming mouse&page=19\n",
      "Fetching page 20: https://www.amazon.com/s?k=gaming mouse&page=20\n"
     ]
    }
   ],
   "source": [
    "base_url = \"https://www.amazon.com/s?k=gaming mouse\"\n",
    "products = paginate_products(base_url, 20)"
   ]
  },
  {
   "cell_type": "code",
   "execution_count": 5,
   "metadata": {},
   "outputs": [],
   "source": [
    "def filter_products(products):\n",
    "    seen_links = set()\n",
    "    filtered_products = []\n",
    "\n",
    "    for product in products:\n",
    "        link = re.sub(r'^.*?https:\\/\\/www\\.amazon\\.com\\/', 'https://www.amazon.com/', product['link'])\n",
    "\n",
    "        if 'pad' not in product['title'].lower() and link not in seen_links:\n",
    "            filtered_products.append({\n",
    "                'title': product['title'],\n",
    "                'link': link\n",
    "            })\n",
    "            seen_links.add(link)\n",
    "\n",
    "    return filtered_products\n",
    "    \n",
    "\n",
    "products_filtered = filter_products(products)"
   ]
  },
  {
   "cell_type": "code",
   "execution_count": 7,
   "metadata": {},
   "outputs": [],
   "source": [
    "with open(\"products.json\", \"w\") as f:\n",
    "    json.dump(products_filtered, f, indent=4, ensure_ascii=True)"
   ]
  },
  {
   "cell_type": "markdown",
   "metadata": {},
   "source": [
    "### Scraping reviews"
   ]
  },
  {
   "cell_type": "code",
   "execution_count": 13,
   "metadata": {},
   "outputs": [],
   "source": [
    "def parse_reviews(product_url):\n",
    "    reviews = []\n",
    "    page = get_page(product_url)\n",
    "    if not page:\n",
    "        return reviews\n",
    "    for review in page.select(\".review\"):\n",
    "        rating_title = review.select_one(\".review-title\").get_text(strip=True) # type: ignore\n",
    "        rating = review.select_one(\".review-rating\").get_text(strip=True) # type: ignore\n",
    "        title = rating_title.split(\"stars\")[-1]\n",
    "        text = review.select_one(\".review-text\").get_text(strip=True) # type: ignore\n",
    "        text = re.sub(r'Read More\"*$', '', text)\n",
    "        reviews.append(\n",
    "            {\n",
    "                \"title\": title,\n",
    "                \"rating\": rating,\n",
    "                \"text\": text,\n",
    "            }\n",
    "        )\n",
    "    return reviews\n",
    "\n",
    "\n",
    "def parse_product_reviews(products, file_name=\"data/reviews.csv\"):\n",
    "    with open(file_name, mode=\"a\", newline=\"\", encoding=\"utf-8\") as file:\n",
    "        writer = csv.writer(file)\n",
    "        writer.writerow([\"product_title\", \"product_link\", \"title\", \"rating\", \"text\"])\n",
    "\n",
    "        for product in tqdm(products):\n",
    "            product_reviews = parse_reviews(product[\"link\"])\n",
    "            for review in tqdm(product_reviews):\n",
    "                writer.writerow(\n",
    "                    [\n",
    "                        product[\"title\"],\n",
    "                        product[\"link\"],\n",
    "                        review[\"title\"],\n",
    "                        review[\"rating\"],\n",
    "                        review[\"text\"],\n",
    "                    ]\n",
    "                )\n",
    "            time.sleep(random.uniform(2, 5))  # Random sleep to mimic human behavior"
   ]
  },
  {
   "cell_type": "code",
   "execution_count": 8,
   "metadata": {},
   "outputs": [],
   "source": [
    "with open(\"products.json\", \"r\") as f:\n",
    "    products = json.load(f)"
   ]
  },
  {
   "cell_type": "code",
   "execution_count": 26,
   "metadata": {},
   "outputs": [
    {
     "data": {
      "application/vnd.jupyter.widget-view+json": {
       "model_id": "c1a0f4ac938f4a7b99f180e4aa7ce19b",
       "version_major": 2,
       "version_minor": 0
      },
      "text/plain": [
       "  0%|          | 0/419 [00:00<?, ?it/s]"
      ]
     },
     "metadata": {},
     "output_type": "display_data"
    },
    {
     "data": {
      "application/vnd.jupyter.widget-view+json": {
       "model_id": "807e07aaf51e4ac4b22399fe4b6a0e33",
       "version_major": 2,
       "version_minor": 0
      },
      "text/plain": [
       "  0%|          | 0/13 [00:00<?, ?it/s]"
      ]
     },
     "metadata": {},
     "output_type": "display_data"
    },
    {
     "data": {
      "application/vnd.jupyter.widget-view+json": {
       "model_id": "ec52f2aa70e24921940cc5cb881c0278",
       "version_major": 2,
       "version_minor": 0
      },
      "text/plain": [
       "  0%|          | 0/8 [00:00<?, ?it/s]"
      ]
     },
     "metadata": {},
     "output_type": "display_data"
    },
    {
     "data": {
      "application/vnd.jupyter.widget-view+json": {
       "model_id": "9a1051b4255247ddb1baa9e3d5659f4a",
       "version_major": 2,
       "version_minor": 0
      },
      "text/plain": [
       "  0%|          | 0/11 [00:00<?, ?it/s]"
      ]
     },
     "metadata": {},
     "output_type": "display_data"
    },
    {
     "data": {
      "application/vnd.jupyter.widget-view+json": {
       "model_id": "579abf9f011f48eda7ddc0d99a2b4d47",
       "version_major": 2,
       "version_minor": 0
      },
      "text/plain": [
       "  0%|          | 0/8 [00:00<?, ?it/s]"
      ]
     },
     "metadata": {},
     "output_type": "display_data"
    },
    {
     "data": {
      "application/vnd.jupyter.widget-view+json": {
       "model_id": "fbfaabd49c0a4ba69323af05c0ea703c",
       "version_major": 2,
       "version_minor": 0
      },
      "text/plain": [
       "  0%|          | 0/12 [00:00<?, ?it/s]"
      ]
     },
     "metadata": {},
     "output_type": "display_data"
    },
    {
     "data": {
      "application/vnd.jupyter.widget-view+json": {
       "model_id": "2e43c41f7560451caefbffb7b81fa947",
       "version_major": 2,
       "version_minor": 0
      },
      "text/plain": [
       "  0%|          | 0/8 [00:00<?, ?it/s]"
      ]
     },
     "metadata": {},
     "output_type": "display_data"
    },
    {
     "data": {
      "application/vnd.jupyter.widget-view+json": {
       "model_id": "afe95b0927aa44ba86653e03738eac88",
       "version_major": 2,
       "version_minor": 0
      },
      "text/plain": [
       "  0%|          | 0/8 [00:00<?, ?it/s]"
      ]
     },
     "metadata": {},
     "output_type": "display_data"
    },
    {
     "data": {
      "application/vnd.jupyter.widget-view+json": {
       "model_id": "37af0fa88f4e4885b4e6ec6544625ece",
       "version_major": 2,
       "version_minor": 0
      },
      "text/plain": [
       "  0%|          | 0/9 [00:00<?, ?it/s]"
      ]
     },
     "metadata": {},
     "output_type": "display_data"
    },
    {
     "data": {
      "application/vnd.jupyter.widget-view+json": {
       "model_id": "65d889a37203496d8f68d7f6c13da600",
       "version_major": 2,
       "version_minor": 0
      },
      "text/plain": [
       "  0%|          | 0/8 [00:00<?, ?it/s]"
      ]
     },
     "metadata": {},
     "output_type": "display_data"
    },
    {
     "data": {
      "application/vnd.jupyter.widget-view+json": {
       "model_id": "100d9698d79d4bf1bd1ad471219c5249",
       "version_major": 2,
       "version_minor": 0
      },
      "text/plain": [
       "  0%|          | 0/13 [00:00<?, ?it/s]"
      ]
     },
     "metadata": {},
     "output_type": "display_data"
    },
    {
     "data": {
      "application/vnd.jupyter.widget-view+json": {
       "model_id": "79dde3a190ef4af4a29a4f20073a4253",
       "version_major": 2,
       "version_minor": 0
      },
      "text/plain": [
       "  0%|          | 0/8 [00:00<?, ?it/s]"
      ]
     },
     "metadata": {},
     "output_type": "display_data"
    },
    {
     "data": {
      "application/vnd.jupyter.widget-view+json": {
       "model_id": "add9cee33c8945d2ae68abec5e36bac2",
       "version_major": 2,
       "version_minor": 0
      },
      "text/plain": [
       "  0%|          | 0/13 [00:00<?, ?it/s]"
      ]
     },
     "metadata": {},
     "output_type": "display_data"
    },
    {
     "data": {
      "application/vnd.jupyter.widget-view+json": {
       "model_id": "38a3d57612154b5893772aa7acd73698",
       "version_major": 2,
       "version_minor": 0
      },
      "text/plain": [
       "  0%|          | 0/7 [00:00<?, ?it/s]"
      ]
     },
     "metadata": {},
     "output_type": "display_data"
    },
    {
     "data": {
      "application/vnd.jupyter.widget-view+json": {
       "model_id": "8a2a95aa83ce4d099effada9ef6edd64",
       "version_major": 2,
       "version_minor": 0
      },
      "text/plain": [
       "  0%|          | 0/8 [00:00<?, ?it/s]"
      ]
     },
     "metadata": {},
     "output_type": "display_data"
    },
    {
     "data": {
      "application/vnd.jupyter.widget-view+json": {
       "model_id": "c34326b2ba8e4f61becd3730f078355c",
       "version_major": 2,
       "version_minor": 0
      },
      "text/plain": [
       "  0%|          | 0/10 [00:00<?, ?it/s]"
      ]
     },
     "metadata": {},
     "output_type": "display_data"
    },
    {
     "data": {
      "application/vnd.jupyter.widget-view+json": {
       "model_id": "f0159714202d4fd6b29c6d6a951278c3",
       "version_major": 2,
       "version_minor": 0
      },
      "text/plain": [
       "  0%|          | 0/9 [00:00<?, ?it/s]"
      ]
     },
     "metadata": {},
     "output_type": "display_data"
    },
    {
     "name": "stdout",
     "output_type": "stream",
     "text": [
      "Request failed: HTTPSConnectionPool(host='www.amazon.comhttps', port=443): Max retries exceeded with url: /aax-us-iad.amazon.com/x/c/JDJE5mHmZOQT-A7KIv3GPD4AAAGRgY0fuAEAAAH2AQBvbm9fdHhuX2JpZDMgICBvbm9fdHhuX2ltcDEgICB79onT/https://www.amazon.com/Logitech-Superlight-Lightspeed-Lightweight-Programmable/dp/B09NBWL8J5/ref=sxin_25_sbv_search_btf?content-id=amzn1.sym.5cde1a09-4942-4242-87c5-e66d2d3b6a3c%3Aamzn1.sym.5cde1a09-4942-4242-87c5-e66d2d3b6a3c&cv_ct_cx=gaming+mouse&dib=eyJ2IjoiMSJ9.Tk7SCN-M2rCIicnW98Z5Lw.JBtBpVBXo4czZH1ntDW9DqI4WIiygC7UcBVFgTjVTeo&dib_tag=se&keywords=gaming+mouse&pd_rd_i=B09NBWL8J5&pd_rd_r=56580e53-39df-41db-a06a-db7d410edcf1&pd_rd_w=qIgy2&pd_rd_wg=ehuY3&pf_rd_p=5cde1a09-4942-4242-87c5-e66d2d3b6a3c&pf_rd_r=NZMK9XT69Z8VSR6XKC0C&qid=1724455395&sbo=RZvfv%2F%2FHxDF%2BO5021pAnSA%3D%3D&sr=1-1-5190daf0-67e3-427c-bea6-c72c1df98776 (Caused by NameResolutionError(\"<urllib3.connection.HTTPSConnection object at 0x0000020909FD4740>: Failed to resolve 'www.amazon.comhttps' ([Errno 11001] getaddrinfo failed)\"))\n"
     ]
    },
    {
     "data": {
      "application/vnd.jupyter.widget-view+json": {
       "model_id": "3b3abbaa2e214cdc87cf47f1f11a5374",
       "version_major": 2,
       "version_minor": 0
      },
      "text/plain": [
       "0it [00:00, ?it/s]"
      ]
     },
     "metadata": {},
     "output_type": "display_data"
    },
    {
     "data": {
      "application/vnd.jupyter.widget-view+json": {
       "model_id": "572df4d40014454da5e58dd698f0d9e7",
       "version_major": 2,
       "version_minor": 0
      },
      "text/plain": [
       "  0%|          | 0/9 [00:00<?, ?it/s]"
      ]
     },
     "metadata": {},
     "output_type": "display_data"
    },
    {
     "data": {
      "application/vnd.jupyter.widget-view+json": {
       "model_id": "0cd90ce6e78249209f86325d32c543c2",
       "version_major": 2,
       "version_minor": 0
      },
      "text/plain": [
       "  0%|          | 0/9 [00:00<?, ?it/s]"
      ]
     },
     "metadata": {},
     "output_type": "display_data"
    },
    {
     "data": {
      "application/vnd.jupyter.widget-view+json": {
       "model_id": "1de03db2352e40afb15610cc08b32a02",
       "version_major": 2,
       "version_minor": 0
      },
      "text/plain": [
       "  0%|          | 0/10 [00:00<?, ?it/s]"
      ]
     },
     "metadata": {},
     "output_type": "display_data"
    },
    {
     "data": {
      "application/vnd.jupyter.widget-view+json": {
       "model_id": "6ab3ed7e76314e8aaf40fcd8c6b7797d",
       "version_major": 2,
       "version_minor": 0
      },
      "text/plain": [
       "  0%|          | 0/8 [00:00<?, ?it/s]"
      ]
     },
     "metadata": {},
     "output_type": "display_data"
    },
    {
     "data": {
      "application/vnd.jupyter.widget-view+json": {
       "model_id": "d895fd8c499d43019b400fcbce44a8bf",
       "version_major": 2,
       "version_minor": 0
      },
      "text/plain": [
       "  0%|          | 0/8 [00:00<?, ?it/s]"
      ]
     },
     "metadata": {},
     "output_type": "display_data"
    },
    {
     "data": {
      "application/vnd.jupyter.widget-view+json": {
       "model_id": "b65fee45357947f299adc019d3b8631a",
       "version_major": 2,
       "version_minor": 0
      },
      "text/plain": [
       "  0%|          | 0/8 [00:00<?, ?it/s]"
      ]
     },
     "metadata": {},
     "output_type": "display_data"
    },
    {
     "data": {
      "application/vnd.jupyter.widget-view+json": {
       "model_id": "b82ad4bb0e1245039e43e57d6000df97",
       "version_major": 2,
       "version_minor": 0
      },
      "text/plain": [
       "  0%|          | 0/13 [00:00<?, ?it/s]"
      ]
     },
     "metadata": {},
     "output_type": "display_data"
    },
    {
     "data": {
      "application/vnd.jupyter.widget-view+json": {
       "model_id": "b0479189d0f64fde984dc7aee6a50afa",
       "version_major": 2,
       "version_minor": 0
      },
      "text/plain": [
       "  0%|          | 0/10 [00:00<?, ?it/s]"
      ]
     },
     "metadata": {},
     "output_type": "display_data"
    },
    {
     "data": {
      "application/vnd.jupyter.widget-view+json": {
       "model_id": "8224c573bfd34bb6a760ed97d7ea80e8",
       "version_major": 2,
       "version_minor": 0
      },
      "text/plain": [
       "  0%|          | 0/7 [00:00<?, ?it/s]"
      ]
     },
     "metadata": {},
     "output_type": "display_data"
    },
    {
     "data": {
      "application/vnd.jupyter.widget-view+json": {
       "model_id": "784c9038190442dd9bfbdc73674234ce",
       "version_major": 2,
       "version_minor": 0
      },
      "text/plain": [
       "  0%|          | 0/13 [00:00<?, ?it/s]"
      ]
     },
     "metadata": {},
     "output_type": "display_data"
    },
    {
     "data": {
      "application/vnd.jupyter.widget-view+json": {
       "model_id": "e6f9b4d2f9644f1ab63fafc523acb53e",
       "version_major": 2,
       "version_minor": 0
      },
      "text/plain": [
       "  0%|          | 0/13 [00:00<?, ?it/s]"
      ]
     },
     "metadata": {},
     "output_type": "display_data"
    },
    {
     "data": {
      "application/vnd.jupyter.widget-view+json": {
       "model_id": "007385881d114f8db86c783267355887",
       "version_major": 2,
       "version_minor": 0
      },
      "text/plain": [
       "  0%|          | 0/13 [00:00<?, ?it/s]"
      ]
     },
     "metadata": {},
     "output_type": "display_data"
    },
    {
     "data": {
      "application/vnd.jupyter.widget-view+json": {
       "model_id": "f907ae57e80842b887e3e56e78fecb49",
       "version_major": 2,
       "version_minor": 0
      },
      "text/plain": [
       "  0%|          | 0/13 [00:00<?, ?it/s]"
      ]
     },
     "metadata": {},
     "output_type": "display_data"
    },
    {
     "data": {
      "application/vnd.jupyter.widget-view+json": {
       "model_id": "7d148997ff894474bc7841f1d90d9382",
       "version_major": 2,
       "version_minor": 0
      },
      "text/plain": [
       "  0%|          | 0/13 [00:00<?, ?it/s]"
      ]
     },
     "metadata": {},
     "output_type": "display_data"
    },
    {
     "data": {
      "application/vnd.jupyter.widget-view+json": {
       "model_id": "0ba52af532744c089971fb1c2dce3a97",
       "version_major": 2,
       "version_minor": 0
      },
      "text/plain": [
       "  0%|          | 0/9 [00:00<?, ?it/s]"
      ]
     },
     "metadata": {},
     "output_type": "display_data"
    },
    {
     "data": {
      "application/vnd.jupyter.widget-view+json": {
       "model_id": "44ad66a881144dff979c48440745b949",
       "version_major": 2,
       "version_minor": 0
      },
      "text/plain": [
       "  0%|          | 0/8 [00:00<?, ?it/s]"
      ]
     },
     "metadata": {},
     "output_type": "display_data"
    },
    {
     "data": {
      "application/vnd.jupyter.widget-view+json": {
       "model_id": "88a5a8d34a254d71a606518ed408a8bc",
       "version_major": 2,
       "version_minor": 0
      },
      "text/plain": [
       "  0%|          | 0/10 [00:00<?, ?it/s]"
      ]
     },
     "metadata": {},
     "output_type": "display_data"
    },
    {
     "data": {
      "application/vnd.jupyter.widget-view+json": {
       "model_id": "27a50ac7954f46f9b78bf4371d3c2f82",
       "version_major": 2,
       "version_minor": 0
      },
      "text/plain": [
       "  0%|          | 0/7 [00:00<?, ?it/s]"
      ]
     },
     "metadata": {},
     "output_type": "display_data"
    },
    {
     "data": {
      "application/vnd.jupyter.widget-view+json": {
       "model_id": "7256275bcd8f40c0b53d2b14c07921af",
       "version_major": 2,
       "version_minor": 0
      },
      "text/plain": [
       "  0%|          | 0/8 [00:00<?, ?it/s]"
      ]
     },
     "metadata": {},
     "output_type": "display_data"
    },
    {
     "data": {
      "application/vnd.jupyter.widget-view+json": {
       "model_id": "423000eea01548e8ba8367a23e44a491",
       "version_major": 2,
       "version_minor": 0
      },
      "text/plain": [
       "  0%|          | 0/7 [00:00<?, ?it/s]"
      ]
     },
     "metadata": {},
     "output_type": "display_data"
    },
    {
     "data": {
      "application/vnd.jupyter.widget-view+json": {
       "model_id": "e2dac344c3c143b38319675e14a388ef",
       "version_major": 2,
       "version_minor": 0
      },
      "text/plain": [
       "  0%|          | 0/8 [00:00<?, ?it/s]"
      ]
     },
     "metadata": {},
     "output_type": "display_data"
    },
    {
     "data": {
      "application/vnd.jupyter.widget-view+json": {
       "model_id": "d7f8a4a342844e4bb5974bf53305c4e9",
       "version_major": 2,
       "version_minor": 0
      },
      "text/plain": [
       "  0%|          | 0/13 [00:00<?, ?it/s]"
      ]
     },
     "metadata": {},
     "output_type": "display_data"
    },
    {
     "data": {
      "application/vnd.jupyter.widget-view+json": {
       "model_id": "53bf9208528643dfa9c1b5929c9bfaae",
       "version_major": 2,
       "version_minor": 0
      },
      "text/plain": [
       "  0%|          | 0/10 [00:00<?, ?it/s]"
      ]
     },
     "metadata": {},
     "output_type": "display_data"
    },
    {
     "data": {
      "application/vnd.jupyter.widget-view+json": {
       "model_id": "a79ee8a1ddf34ec7be560ee9e1d82f90",
       "version_major": 2,
       "version_minor": 0
      },
      "text/plain": [
       "  0%|          | 0/8 [00:00<?, ?it/s]"
      ]
     },
     "metadata": {},
     "output_type": "display_data"
    },
    {
     "data": {
      "application/vnd.jupyter.widget-view+json": {
       "model_id": "1e146cc2138647e2b17288d9b4ad55fa",
       "version_major": 2,
       "version_minor": 0
      },
      "text/plain": [
       "  0%|          | 0/6 [00:00<?, ?it/s]"
      ]
     },
     "metadata": {},
     "output_type": "display_data"
    },
    {
     "data": {
      "application/vnd.jupyter.widget-view+json": {
       "model_id": "99c91702d6a645b49774ab7a8b3596dc",
       "version_major": 2,
       "version_minor": 0
      },
      "text/plain": [
       "  0%|          | 0/9 [00:00<?, ?it/s]"
      ]
     },
     "metadata": {},
     "output_type": "display_data"
    },
    {
     "data": {
      "application/vnd.jupyter.widget-view+json": {
       "model_id": "72a1d299921f4c699eb8a811c9f97092",
       "version_major": 2,
       "version_minor": 0
      },
      "text/plain": [
       "  0%|          | 0/13 [00:00<?, ?it/s]"
      ]
     },
     "metadata": {},
     "output_type": "display_data"
    },
    {
     "data": {
      "application/vnd.jupyter.widget-view+json": {
       "model_id": "62d796ee87f745279678c134b55aee8a",
       "version_major": 2,
       "version_minor": 0
      },
      "text/plain": [
       "  0%|          | 0/10 [00:00<?, ?it/s]"
      ]
     },
     "metadata": {},
     "output_type": "display_data"
    },
    {
     "data": {
      "application/vnd.jupyter.widget-view+json": {
       "model_id": "ef06ad81f89e45f7a1140df93c1c5c22",
       "version_major": 2,
       "version_minor": 0
      },
      "text/plain": [
       "  0%|          | 0/8 [00:00<?, ?it/s]"
      ]
     },
     "metadata": {},
     "output_type": "display_data"
    },
    {
     "data": {
      "application/vnd.jupyter.widget-view+json": {
       "model_id": "4b54731ee574498784887b13149a9048",
       "version_major": 2,
       "version_minor": 0
      },
      "text/plain": [
       "  0%|          | 0/8 [00:00<?, ?it/s]"
      ]
     },
     "metadata": {},
     "output_type": "display_data"
    },
    {
     "data": {
      "application/vnd.jupyter.widget-view+json": {
       "model_id": "87524a55fd7e477f9bf70c6f4567f733",
       "version_major": 2,
       "version_minor": 0
      },
      "text/plain": [
       "  0%|          | 0/7 [00:00<?, ?it/s]"
      ]
     },
     "metadata": {},
     "output_type": "display_data"
    },
    {
     "data": {
      "application/vnd.jupyter.widget-view+json": {
       "model_id": "485b4eae57f94a3d9eadfe124c07d0ef",
       "version_major": 2,
       "version_minor": 0
      },
      "text/plain": [
       "  0%|          | 0/13 [00:00<?, ?it/s]"
      ]
     },
     "metadata": {},
     "output_type": "display_data"
    },
    {
     "data": {
      "application/vnd.jupyter.widget-view+json": {
       "model_id": "a1de7e7d5f534c23b6234975b681b8a1",
       "version_major": 2,
       "version_minor": 0
      },
      "text/plain": [
       "  0%|          | 0/9 [00:00<?, ?it/s]"
      ]
     },
     "metadata": {},
     "output_type": "display_data"
    },
    {
     "data": {
      "application/vnd.jupyter.widget-view+json": {
       "model_id": "8dcd0684920e45eb8f77dd8966f98f11",
       "version_major": 2,
       "version_minor": 0
      },
      "text/plain": [
       "  0%|          | 0/10 [00:00<?, ?it/s]"
      ]
     },
     "metadata": {},
     "output_type": "display_data"
    },
    {
     "data": {
      "application/vnd.jupyter.widget-view+json": {
       "model_id": "51f5db1536e24ca987c4cf6f3a758377",
       "version_major": 2,
       "version_minor": 0
      },
      "text/plain": [
       "  0%|          | 0/8 [00:00<?, ?it/s]"
      ]
     },
     "metadata": {},
     "output_type": "display_data"
    },
    {
     "data": {
      "application/vnd.jupyter.widget-view+json": {
       "model_id": "e3c78c430b784d87b033cf6350f66f82",
       "version_major": 2,
       "version_minor": 0
      },
      "text/plain": [
       "  0%|          | 0/9 [00:00<?, ?it/s]"
      ]
     },
     "metadata": {},
     "output_type": "display_data"
    },
    {
     "data": {
      "application/vnd.jupyter.widget-view+json": {
       "model_id": "0c89e44f54ad4e4696def70be113237d",
       "version_major": 2,
       "version_minor": 0
      },
      "text/plain": [
       "  0%|          | 0/9 [00:00<?, ?it/s]"
      ]
     },
     "metadata": {},
     "output_type": "display_data"
    },
    {
     "data": {
      "application/vnd.jupyter.widget-view+json": {
       "model_id": "cac5a5617f2c49bfbc9c13f208312a9b",
       "version_major": 2,
       "version_minor": 0
      },
      "text/plain": [
       "  0%|          | 0/8 [00:00<?, ?it/s]"
      ]
     },
     "metadata": {},
     "output_type": "display_data"
    },
    {
     "data": {
      "application/vnd.jupyter.widget-view+json": {
       "model_id": "b618a01d70ee454cb3185f9523a51eac",
       "version_major": 2,
       "version_minor": 0
      },
      "text/plain": [
       "  0%|          | 0/7 [00:00<?, ?it/s]"
      ]
     },
     "metadata": {},
     "output_type": "display_data"
    },
    {
     "data": {
      "application/vnd.jupyter.widget-view+json": {
       "model_id": "42dbe485e8fb40c094fd936f887f449c",
       "version_major": 2,
       "version_minor": 0
      },
      "text/plain": [
       "  0%|          | 0/8 [00:00<?, ?it/s]"
      ]
     },
     "metadata": {},
     "output_type": "display_data"
    },
    {
     "data": {
      "application/vnd.jupyter.widget-view+json": {
       "model_id": "1aa4697e992e4af983e1797486fc03e0",
       "version_major": 2,
       "version_minor": 0
      },
      "text/plain": [
       "  0%|          | 0/8 [00:00<?, ?it/s]"
      ]
     },
     "metadata": {},
     "output_type": "display_data"
    },
    {
     "data": {
      "application/vnd.jupyter.widget-view+json": {
       "model_id": "11d764283d81435db232f8eca947a111",
       "version_major": 2,
       "version_minor": 0
      },
      "text/plain": [
       "  0%|          | 0/13 [00:00<?, ?it/s]"
      ]
     },
     "metadata": {},
     "output_type": "display_data"
    },
    {
     "data": {
      "application/vnd.jupyter.widget-view+json": {
       "model_id": "c195a56b2a8646b788dd1a18900b72f8",
       "version_major": 2,
       "version_minor": 0
      },
      "text/plain": [
       "  0%|          | 0/7 [00:00<?, ?it/s]"
      ]
     },
     "metadata": {},
     "output_type": "display_data"
    },
    {
     "data": {
      "application/vnd.jupyter.widget-view+json": {
       "model_id": "13fd700a4c5045b7ad68e1114a4ee992",
       "version_major": 2,
       "version_minor": 0
      },
      "text/plain": [
       "  0%|          | 0/13 [00:00<?, ?it/s]"
      ]
     },
     "metadata": {},
     "output_type": "display_data"
    },
    {
     "data": {
      "application/vnd.jupyter.widget-view+json": {
       "model_id": "6a588b9ba06640c996569f38f5b8ba8d",
       "version_major": 2,
       "version_minor": 0
      },
      "text/plain": [
       "  0%|          | 0/8 [00:00<?, ?it/s]"
      ]
     },
     "metadata": {},
     "output_type": "display_data"
    },
    {
     "data": {
      "application/vnd.jupyter.widget-view+json": {
       "model_id": "272ab339e288425d8cf5b4ed33369a4b",
       "version_major": 2,
       "version_minor": 0
      },
      "text/plain": [
       "  0%|          | 0/8 [00:00<?, ?it/s]"
      ]
     },
     "metadata": {},
     "output_type": "display_data"
    },
    {
     "data": {
      "application/vnd.jupyter.widget-view+json": {
       "model_id": "a447fe589c5b4b4eb875c7490e438b5b",
       "version_major": 2,
       "version_minor": 0
      },
      "text/plain": [
       "  0%|          | 0/8 [00:00<?, ?it/s]"
      ]
     },
     "metadata": {},
     "output_type": "display_data"
    },
    {
     "data": {
      "application/vnd.jupyter.widget-view+json": {
       "model_id": "5ed976f6e2664fd2918008b2631f1edd",
       "version_major": 2,
       "version_minor": 0
      },
      "text/plain": [
       "  0%|          | 0/5 [00:00<?, ?it/s]"
      ]
     },
     "metadata": {},
     "output_type": "display_data"
    },
    {
     "data": {
      "application/vnd.jupyter.widget-view+json": {
       "model_id": "dda5aaf3b0e5466e8ae2c279f89a8c26",
       "version_major": 2,
       "version_minor": 0
      },
      "text/plain": [
       "  0%|          | 0/8 [00:00<?, ?it/s]"
      ]
     },
     "metadata": {},
     "output_type": "display_data"
    },
    {
     "data": {
      "application/vnd.jupyter.widget-view+json": {
       "model_id": "39fcdcc0791e4874a539b90a26b1b615",
       "version_major": 2,
       "version_minor": 0
      },
      "text/plain": [
       "  0%|          | 0/11 [00:00<?, ?it/s]"
      ]
     },
     "metadata": {},
     "output_type": "display_data"
    },
    {
     "data": {
      "application/vnd.jupyter.widget-view+json": {
       "model_id": "ee4d6fd5dca84d24b54d017734e8a33b",
       "version_major": 2,
       "version_minor": 0
      },
      "text/plain": [
       "  0%|          | 0/9 [00:00<?, ?it/s]"
      ]
     },
     "metadata": {},
     "output_type": "display_data"
    },
    {
     "data": {
      "application/vnd.jupyter.widget-view+json": {
       "model_id": "06489b92fa724f74b1a1b7ef1d03b4b9",
       "version_major": 2,
       "version_minor": 0
      },
      "text/plain": [
       "  0%|          | 0/8 [00:00<?, ?it/s]"
      ]
     },
     "metadata": {},
     "output_type": "display_data"
    },
    {
     "data": {
      "application/vnd.jupyter.widget-view+json": {
       "model_id": "25c113808080466db82bb0e2050f66c7",
       "version_major": 2,
       "version_minor": 0
      },
      "text/plain": [
       "  0%|          | 0/13 [00:00<?, ?it/s]"
      ]
     },
     "metadata": {},
     "output_type": "display_data"
    },
    {
     "data": {
      "application/vnd.jupyter.widget-view+json": {
       "model_id": "fa82338b7871414b984e5215677b27be",
       "version_major": 2,
       "version_minor": 0
      },
      "text/plain": [
       "  0%|          | 0/13 [00:00<?, ?it/s]"
      ]
     },
     "metadata": {},
     "output_type": "display_data"
    },
    {
     "data": {
      "application/vnd.jupyter.widget-view+json": {
       "model_id": "a74ce4d632cd4a189af8aa6ed1c011ce",
       "version_major": 2,
       "version_minor": 0
      },
      "text/plain": [
       "  0%|          | 0/8 [00:00<?, ?it/s]"
      ]
     },
     "metadata": {},
     "output_type": "display_data"
    },
    {
     "data": {
      "application/vnd.jupyter.widget-view+json": {
       "model_id": "16ae02927ed1402eb92c5d8156fbf05e",
       "version_major": 2,
       "version_minor": 0
      },
      "text/plain": [
       "  0%|          | 0/8 [00:00<?, ?it/s]"
      ]
     },
     "metadata": {},
     "output_type": "display_data"
    },
    {
     "data": {
      "application/vnd.jupyter.widget-view+json": {
       "model_id": "e1367a1fa9c5402f9ac9a7ca1bc9a698",
       "version_major": 2,
       "version_minor": 0
      },
      "text/plain": [
       "  0%|          | 0/8 [00:00<?, ?it/s]"
      ]
     },
     "metadata": {},
     "output_type": "display_data"
    },
    {
     "data": {
      "application/vnd.jupyter.widget-view+json": {
       "model_id": "ce5ee725e31d404aa734eaba1c363f25",
       "version_major": 2,
       "version_minor": 0
      },
      "text/plain": [
       "  0%|          | 0/13 [00:00<?, ?it/s]"
      ]
     },
     "metadata": {},
     "output_type": "display_data"
    },
    {
     "name": "stdout",
     "output_type": "stream",
     "text": [
      "Request failed: HTTPSConnectionPool(host='www.amazon.comhttps', port=443): Max retries exceeded with url: /aax-us-iad.amazon.com/x/c/JJxHaWwVUFnk0nydhNgzlC8AAAGRgY1KVgEAAAH2AQBvbm9fdHhuX2JpZDYgICBvbm9fdHhuX2ltcDEgICAxGT-7/https://www.amazon.com/Logitech-G-Artanis-WL-Black/dp/B092CB69Q4/ref=sxbs_sbv_search_btf?content-id=amzn1.sym.805ca70d-e057-4820-b9b3-729eee71f8a9%3Aamzn1.sym.805ca70d-e057-4820-b9b3-729eee71f8a9&cv_ct_cx=gaming+mouse&dib=eyJ2IjoiMSJ9.yuzqdy56fc0lAIanyPLCWA.iuGrs8b8XYGrwgLMaCfWkyVVGKSH-aqWvXlw-Ejzxu4&dib_tag=se&keywords=gaming+mouse&pd_rd_i=B092CB69Q4&pd_rd_r=3d264e32-042e-4409-991b-5508341d3445&pd_rd_w=n7Uhe&pd_rd_wg=Rorms&pf_rd_p=805ca70d-e057-4820-b9b3-729eee71f8a9&pf_rd_r=23BKSMQACVV7ES84PVZQ&qid=1724455405&sbo=RZvfv%2F%2FHxDF%2BO5021pAnSA%3D%3D&sr=1-33-48f7baba-8e26-45f3-8811-e1a601ad20bf (Caused by NameResolutionError(\"<urllib3.connection.HTTPSConnection object at 0x0000020908DF7E30>: Failed to resolve 'www.amazon.comhttps' ([Errno 11001] getaddrinfo failed)\"))\n"
     ]
    },
    {
     "data": {
      "application/vnd.jupyter.widget-view+json": {
       "model_id": "4b5e77c5642c4e77af572af79d57c438",
       "version_major": 2,
       "version_minor": 0
      },
      "text/plain": [
       "0it [00:00, ?it/s]"
      ]
     },
     "metadata": {},
     "output_type": "display_data"
    },
    {
     "data": {
      "application/vnd.jupyter.widget-view+json": {
       "model_id": "06a02af0d20042888ed79807cec57c86",
       "version_major": 2,
       "version_minor": 0
      },
      "text/plain": [
       "  0%|          | 0/9 [00:00<?, ?it/s]"
      ]
     },
     "metadata": {},
     "output_type": "display_data"
    },
    {
     "data": {
      "application/vnd.jupyter.widget-view+json": {
       "model_id": "bad21446443f46bf9502e2752140e8cb",
       "version_major": 2,
       "version_minor": 0
      },
      "text/plain": [
       "  0%|          | 0/8 [00:00<?, ?it/s]"
      ]
     },
     "metadata": {},
     "output_type": "display_data"
    },
    {
     "data": {
      "application/vnd.jupyter.widget-view+json": {
       "model_id": "b12d1bb3fbee4fecb250ef5dee0f8130",
       "version_major": 2,
       "version_minor": 0
      },
      "text/plain": [
       "  0%|          | 0/11 [00:00<?, ?it/s]"
      ]
     },
     "metadata": {},
     "output_type": "display_data"
    },
    {
     "data": {
      "application/vnd.jupyter.widget-view+json": {
       "model_id": "66a68ff3c4be426d95f3df037acaf366",
       "version_major": 2,
       "version_minor": 0
      },
      "text/plain": [
       "  0%|          | 0/13 [00:00<?, ?it/s]"
      ]
     },
     "metadata": {},
     "output_type": "display_data"
    },
    {
     "data": {
      "application/vnd.jupyter.widget-view+json": {
       "model_id": "602ba71e4c224ee881ea122f7f3d9415",
       "version_major": 2,
       "version_minor": 0
      },
      "text/plain": [
       "  0%|          | 0/10 [00:00<?, ?it/s]"
      ]
     },
     "metadata": {},
     "output_type": "display_data"
    },
    {
     "data": {
      "application/vnd.jupyter.widget-view+json": {
       "model_id": "89d7cd89e0c546dab4ebcdd0a68bc197",
       "version_major": 2,
       "version_minor": 0
      },
      "text/plain": [
       "  0%|          | 0/7 [00:00<?, ?it/s]"
      ]
     },
     "metadata": {},
     "output_type": "display_data"
    },
    {
     "data": {
      "application/vnd.jupyter.widget-view+json": {
       "model_id": "bfd81f6a717949cc9c1550097622b880",
       "version_major": 2,
       "version_minor": 0
      },
      "text/plain": [
       "  0%|          | 0/13 [00:00<?, ?it/s]"
      ]
     },
     "metadata": {},
     "output_type": "display_data"
    },
    {
     "data": {
      "application/vnd.jupyter.widget-view+json": {
       "model_id": "8950f8dff9224a538c92ca27e330cf4d",
       "version_major": 2,
       "version_minor": 0
      },
      "text/plain": [
       "  0%|          | 0/9 [00:00<?, ?it/s]"
      ]
     },
     "metadata": {},
     "output_type": "display_data"
    },
    {
     "data": {
      "application/vnd.jupyter.widget-view+json": {
       "model_id": "8a8444564edd4fd0b6aef5f85bd09e1b",
       "version_major": 2,
       "version_minor": 0
      },
      "text/plain": [
       "  0%|          | 0/9 [00:00<?, ?it/s]"
      ]
     },
     "metadata": {},
     "output_type": "display_data"
    },
    {
     "data": {
      "application/vnd.jupyter.widget-view+json": {
       "model_id": "dc774e39c1b74ccc8f8feb911941c7dc",
       "version_major": 2,
       "version_minor": 0
      },
      "text/plain": [
       "  0%|          | 0/9 [00:00<?, ?it/s]"
      ]
     },
     "metadata": {},
     "output_type": "display_data"
    },
    {
     "data": {
      "application/vnd.jupyter.widget-view+json": {
       "model_id": "df99e3206e994d2f94819c89892c1057",
       "version_major": 2,
       "version_minor": 0
      },
      "text/plain": [
       "  0%|          | 0/6 [00:00<?, ?it/s]"
      ]
     },
     "metadata": {},
     "output_type": "display_data"
    },
    {
     "data": {
      "application/vnd.jupyter.widget-view+json": {
       "model_id": "a6973895e89f47389065a3dff218b483",
       "version_major": 2,
       "version_minor": 0
      },
      "text/plain": [
       "  0%|          | 0/7 [00:00<?, ?it/s]"
      ]
     },
     "metadata": {},
     "output_type": "display_data"
    },
    {
     "data": {
      "application/vnd.jupyter.widget-view+json": {
       "model_id": "4df089d16e6f4dc3bb7c0a610696b983",
       "version_major": 2,
       "version_minor": 0
      },
      "text/plain": [
       "  0%|          | 0/9 [00:00<?, ?it/s]"
      ]
     },
     "metadata": {},
     "output_type": "display_data"
    },
    {
     "data": {
      "application/vnd.jupyter.widget-view+json": {
       "model_id": "00b2f514a8dd4bdeb3184a6eb3a45cef",
       "version_major": 2,
       "version_minor": 0
      },
      "text/plain": [
       "  0%|          | 0/7 [00:00<?, ?it/s]"
      ]
     },
     "metadata": {},
     "output_type": "display_data"
    },
    {
     "data": {
      "application/vnd.jupyter.widget-view+json": {
       "model_id": "4fcffcf634464a8b9a63aa79aaa5199c",
       "version_major": 2,
       "version_minor": 0
      },
      "text/plain": [
       "  0%|          | 0/10 [00:00<?, ?it/s]"
      ]
     },
     "metadata": {},
     "output_type": "display_data"
    },
    {
     "data": {
      "application/vnd.jupyter.widget-view+json": {
       "model_id": "41ecfd45759b4d6088b41c3929dbeac5",
       "version_major": 2,
       "version_minor": 0
      },
      "text/plain": [
       "  0%|          | 0/10 [00:00<?, ?it/s]"
      ]
     },
     "metadata": {},
     "output_type": "display_data"
    },
    {
     "data": {
      "application/vnd.jupyter.widget-view+json": {
       "model_id": "1adaac0a1e3d49a2b9a4b0360d0f9e2b",
       "version_major": 2,
       "version_minor": 0
      },
      "text/plain": [
       "  0%|          | 0/10 [00:00<?, ?it/s]"
      ]
     },
     "metadata": {},
     "output_type": "display_data"
    },
    {
     "data": {
      "application/vnd.jupyter.widget-view+json": {
       "model_id": "ab5dcb3c036348538080bccea840f818",
       "version_major": 2,
       "version_minor": 0
      },
      "text/plain": [
       "  0%|          | 0/9 [00:00<?, ?it/s]"
      ]
     },
     "metadata": {},
     "output_type": "display_data"
    },
    {
     "data": {
      "application/vnd.jupyter.widget-view+json": {
       "model_id": "9150543d429d443689b5ffd165a8fb48",
       "version_major": 2,
       "version_minor": 0
      },
      "text/plain": [
       "  0%|          | 0/9 [00:00<?, ?it/s]"
      ]
     },
     "metadata": {},
     "output_type": "display_data"
    },
    {
     "data": {
      "application/vnd.jupyter.widget-view+json": {
       "model_id": "cd8ea81167b5461dbdc8f46e843dc060",
       "version_major": 2,
       "version_minor": 0
      },
      "text/plain": [
       "  0%|          | 0/8 [00:00<?, ?it/s]"
      ]
     },
     "metadata": {},
     "output_type": "display_data"
    },
    {
     "data": {
      "application/vnd.jupyter.widget-view+json": {
       "model_id": "5ce082d6810845fc86c3e4e6d7881eb4",
       "version_major": 2,
       "version_minor": 0
      },
      "text/plain": [
       "  0%|          | 0/3 [00:00<?, ?it/s]"
      ]
     },
     "metadata": {},
     "output_type": "display_data"
    },
    {
     "data": {
      "application/vnd.jupyter.widget-view+json": {
       "model_id": "337f7fc45b004ec0b872486739784e9b",
       "version_major": 2,
       "version_minor": 0
      },
      "text/plain": [
       "  0%|          | 0/8 [00:00<?, ?it/s]"
      ]
     },
     "metadata": {},
     "output_type": "display_data"
    },
    {
     "name": "stdout",
     "output_type": "stream",
     "text": [
      "Request failed: HTTPSConnectionPool(host='www.amazon.comhttps', port=443): Max retries exceeded with url: /aax-us-iad.amazon.com/x/c/JNpyRiTOYCSMAPSF_mBMmuMAAAGRgY1aJAEAAAH2AQBvbm9fdHhuX2JpZDMgICBvbm9fdHhuX2ltcDEgICDHwy3c/https://www.amazon.com/Logitech-G-Artanis-WL-Black/dp/B092CB69Q4/ref=sxbs_sbv_search_btf?content-id=amzn1.sym.805ca70d-e057-4820-b9b3-729eee71f8a9%3Aamzn1.sym.805ca70d-e057-4820-b9b3-729eee71f8a9&cv_ct_cx=gaming+mouse&dib=eyJ2IjoiMSJ9.yuzqdy56fc0lAIanyPLCWA.NwQ4SSyQHhel8mGf1C2fZBYf50RogDGBlc3PuF2BS3I&dib_tag=se&keywords=gaming+mouse&pd_rd_i=B092CB69Q4&pd_rd_r=704b2cd1-6304-43e7-a950-f08a3f7ff7e3&pd_rd_w=D6pKw&pd_rd_wg=4L7hA&pf_rd_p=805ca70d-e057-4820-b9b3-729eee71f8a9&pf_rd_r=547G1DGHC4RKVM1CGY2T&qid=1724455410&sbo=RZvfv%2F%2FHxDF%2BO5021pAnSA%3D%3D&sr=1-49-48f7baba-8e26-45f3-8811-e1a601ad20bf (Caused by NameResolutionError(\"<urllib3.connection.HTTPSConnection object at 0x0000020907AF9640>: Failed to resolve 'www.amazon.comhttps' ([Errno 11001] getaddrinfo failed)\"))\n"
     ]
    },
    {
     "data": {
      "application/vnd.jupyter.widget-view+json": {
       "model_id": "2ea49e02846b476bbbfe14d4b552ed71",
       "version_major": 2,
       "version_minor": 0
      },
      "text/plain": [
       "0it [00:00, ?it/s]"
      ]
     },
     "metadata": {},
     "output_type": "display_data"
    },
    {
     "data": {
      "application/vnd.jupyter.widget-view+json": {
       "model_id": "5b8a3264c823485cb10c908b8e74e747",
       "version_major": 2,
       "version_minor": 0
      },
      "text/plain": [
       "  0%|          | 0/9 [00:00<?, ?it/s]"
      ]
     },
     "metadata": {},
     "output_type": "display_data"
    },
    {
     "data": {
      "application/vnd.jupyter.widget-view+json": {
       "model_id": "f9975d3a70f64a9d87fe022d561a87e6",
       "version_major": 2,
       "version_minor": 0
      },
      "text/plain": [
       "  0%|          | 0/13 [00:00<?, ?it/s]"
      ]
     },
     "metadata": {},
     "output_type": "display_data"
    },
    {
     "data": {
      "application/vnd.jupyter.widget-view+json": {
       "model_id": "6a457d479b614a11bf35ad9a27334436",
       "version_major": 2,
       "version_minor": 0
      },
      "text/plain": [
       "  0%|          | 0/13 [00:00<?, ?it/s]"
      ]
     },
     "metadata": {},
     "output_type": "display_data"
    },
    {
     "data": {
      "application/vnd.jupyter.widget-view+json": {
       "model_id": "d53584122a25494bb178bf5fb891eb12",
       "version_major": 2,
       "version_minor": 0
      },
      "text/plain": [
       "  0%|          | 0/13 [00:00<?, ?it/s]"
      ]
     },
     "metadata": {},
     "output_type": "display_data"
    },
    {
     "data": {
      "application/vnd.jupyter.widget-view+json": {
       "model_id": "b45358a2d1bc459caf0e1d3fa74853cc",
       "version_major": 2,
       "version_minor": 0
      },
      "text/plain": [
       "  0%|          | 0/11 [00:00<?, ?it/s]"
      ]
     },
     "metadata": {},
     "output_type": "display_data"
    },
    {
     "data": {
      "application/vnd.jupyter.widget-view+json": {
       "model_id": "43a6b984014a4beeaee001d3353ecacf",
       "version_major": 2,
       "version_minor": 0
      },
      "text/plain": [
       "  0%|          | 0/8 [00:00<?, ?it/s]"
      ]
     },
     "metadata": {},
     "output_type": "display_data"
    },
    {
     "data": {
      "application/vnd.jupyter.widget-view+json": {
       "model_id": "cdd91c6ba0ca4027ae3096692f92847a",
       "version_major": 2,
       "version_minor": 0
      },
      "text/plain": [
       "  0%|          | 0/8 [00:00<?, ?it/s]"
      ]
     },
     "metadata": {},
     "output_type": "display_data"
    },
    {
     "data": {
      "application/vnd.jupyter.widget-view+json": {
       "model_id": "e8106303dd0d4ac8a29da465d4e3b2a5",
       "version_major": 2,
       "version_minor": 0
      },
      "text/plain": [
       "  0%|          | 0/9 [00:00<?, ?it/s]"
      ]
     },
     "metadata": {},
     "output_type": "display_data"
    },
    {
     "data": {
      "application/vnd.jupyter.widget-view+json": {
       "model_id": "022eb53cb9b84ad2bc3f4a63949ffe1f",
       "version_major": 2,
       "version_minor": 0
      },
      "text/plain": [
       "  0%|          | 0/13 [00:00<?, ?it/s]"
      ]
     },
     "metadata": {},
     "output_type": "display_data"
    },
    {
     "data": {
      "application/vnd.jupyter.widget-view+json": {
       "model_id": "2937c6005aaa43e4b2fabb5d08ec1d68",
       "version_major": 2,
       "version_minor": 0
      },
      "text/plain": [
       "  0%|          | 0/9 [00:00<?, ?it/s]"
      ]
     },
     "metadata": {},
     "output_type": "display_data"
    },
    {
     "data": {
      "application/vnd.jupyter.widget-view+json": {
       "model_id": "b7558343ffb04d25b0875f71c38b0fba",
       "version_major": 2,
       "version_minor": 0
      },
      "text/plain": [
       "  0%|          | 0/13 [00:00<?, ?it/s]"
      ]
     },
     "metadata": {},
     "output_type": "display_data"
    },
    {
     "data": {
      "application/vnd.jupyter.widget-view+json": {
       "model_id": "26bd00c0d01a438799cca2b2c91b90f0",
       "version_major": 2,
       "version_minor": 0
      },
      "text/plain": [
       "  0%|          | 0/6 [00:00<?, ?it/s]"
      ]
     },
     "metadata": {},
     "output_type": "display_data"
    },
    {
     "data": {
      "application/vnd.jupyter.widget-view+json": {
       "model_id": "5180ff61d20f4d469a484a486452ff8d",
       "version_major": 2,
       "version_minor": 0
      },
      "text/plain": [
       "  0%|          | 0/8 [00:00<?, ?it/s]"
      ]
     },
     "metadata": {},
     "output_type": "display_data"
    },
    {
     "data": {
      "application/vnd.jupyter.widget-view+json": {
       "model_id": "e08de1c64dd14b9ba2091c2296cac770",
       "version_major": 2,
       "version_minor": 0
      },
      "text/plain": [
       "  0%|          | 0/13 [00:00<?, ?it/s]"
      ]
     },
     "metadata": {},
     "output_type": "display_data"
    },
    {
     "data": {
      "application/vnd.jupyter.widget-view+json": {
       "model_id": "976312611ade40b0af27388b755ab26f",
       "version_major": 2,
       "version_minor": 0
      },
      "text/plain": [
       "  0%|          | 0/3 [00:00<?, ?it/s]"
      ]
     },
     "metadata": {},
     "output_type": "display_data"
    },
    {
     "data": {
      "application/vnd.jupyter.widget-view+json": {
       "model_id": "a7fc9af964f845239c212369b1c7ac1f",
       "version_major": 2,
       "version_minor": 0
      },
      "text/plain": [
       "  0%|          | 0/13 [00:00<?, ?it/s]"
      ]
     },
     "metadata": {},
     "output_type": "display_data"
    },
    {
     "data": {
      "application/vnd.jupyter.widget-view+json": {
       "model_id": "c2802358609e499696ac909ef0a9e58e",
       "version_major": 2,
       "version_minor": 0
      },
      "text/plain": [
       "  0%|          | 0/9 [00:00<?, ?it/s]"
      ]
     },
     "metadata": {},
     "output_type": "display_data"
    },
    {
     "data": {
      "application/vnd.jupyter.widget-view+json": {
       "model_id": "1c47bb7400e142698c3871f86706c412",
       "version_major": 2,
       "version_minor": 0
      },
      "text/plain": [
       "  0%|          | 0/9 [00:00<?, ?it/s]"
      ]
     },
     "metadata": {},
     "output_type": "display_data"
    },
    {
     "data": {
      "application/vnd.jupyter.widget-view+json": {
       "model_id": "441eba8e7280401f85bab8775056cdf1",
       "version_major": 2,
       "version_minor": 0
      },
      "text/plain": [
       "  0%|          | 0/8 [00:00<?, ?it/s]"
      ]
     },
     "metadata": {},
     "output_type": "display_data"
    },
    {
     "data": {
      "application/vnd.jupyter.widget-view+json": {
       "model_id": "17ebe292a7d74238a82a4bb8a282f1f4",
       "version_major": 2,
       "version_minor": 0
      },
      "text/plain": [
       "  0%|          | 0/5 [00:00<?, ?it/s]"
      ]
     },
     "metadata": {},
     "output_type": "display_data"
    },
    {
     "data": {
      "application/vnd.jupyter.widget-view+json": {
       "model_id": "d1d20a0b2c17465d935a142ad427daeb",
       "version_major": 2,
       "version_minor": 0
      },
      "text/plain": [
       "  0%|          | 0/8 [00:00<?, ?it/s]"
      ]
     },
     "metadata": {},
     "output_type": "display_data"
    },
    {
     "name": "stdout",
     "output_type": "stream",
     "text": [
      "Request failed: HTTPSConnectionPool(host='www.amazon.comhttps', port=443): Max retries exceeded with url: /aax-us-iad.amazon.com/x/c/JEEhP6kwwpBnA2QYb89EIfUAAAGRgY1uKgEAAAH2AQBvbm9fdHhuX2JpZDMgICBvbm9fdHhuX2ltcDEgICDS-oee/https://www.amazon.com/Logitech-G-Artanis-WL-Black/dp/B092CB69Q4/ref=sxbs_sbv_search_btf?content-id=amzn1.sym.805ca70d-e057-4820-b9b3-729eee71f8a9%3Aamzn1.sym.805ca70d-e057-4820-b9b3-729eee71f8a9&cv_ct_cx=gaming+mouse&dib=eyJ2IjoiMSJ9.yuzqdy56fc0lAIanyPLCWA.-hnSBJeS3bQzwIdfc1v8MIoAz-zMp-Vo6AKtqTntyVQ&dib_tag=se&keywords=gaming+mouse&pd_rd_i=B092CB69Q4&pd_rd_r=b6f3d981-4fac-4e1e-8542-fc9a77e8be13&pd_rd_w=XXntx&pd_rd_wg=1BZ0T&pf_rd_p=805ca70d-e057-4820-b9b3-729eee71f8a9&pf_rd_r=ZR1ZZ4SQKHQ7A89FHXKF&qid=1724455415&sbo=RZvfv%2F%2FHxDF%2BO5021pAnSA%3D%3D&sr=1-65-48f7baba-8e26-45f3-8811-e1a601ad20bf (Caused by NameResolutionError(\"<urllib3.connection.HTTPSConnection object at 0x0000020909FE2E40>: Failed to resolve 'www.amazon.comhttps' ([Errno 11001] getaddrinfo failed)\"))\n"
     ]
    },
    {
     "data": {
      "application/vnd.jupyter.widget-view+json": {
       "model_id": "9fdb0436877a43c4b0c8e4797e555b92",
       "version_major": 2,
       "version_minor": 0
      },
      "text/plain": [
       "0it [00:00, ?it/s]"
      ]
     },
     "metadata": {},
     "output_type": "display_data"
    },
    {
     "data": {
      "application/vnd.jupyter.widget-view+json": {
       "model_id": "73d64f3aa7f9496095a7f66454b17f10",
       "version_major": 2,
       "version_minor": 0
      },
      "text/plain": [
       "  0%|          | 0/9 [00:00<?, ?it/s]"
      ]
     },
     "metadata": {},
     "output_type": "display_data"
    },
    {
     "data": {
      "application/vnd.jupyter.widget-view+json": {
       "model_id": "f18e6545e6dd4b8baf027f2e674513b6",
       "version_major": 2,
       "version_minor": 0
      },
      "text/plain": [
       "  0%|          | 0/5 [00:00<?, ?it/s]"
      ]
     },
     "metadata": {},
     "output_type": "display_data"
    },
    {
     "data": {
      "application/vnd.jupyter.widget-view+json": {
       "model_id": "e56d1d1c9b6043588c0424212c32b0ad",
       "version_major": 2,
       "version_minor": 0
      },
      "text/plain": [
       "  0%|          | 0/9 [00:00<?, ?it/s]"
      ]
     },
     "metadata": {},
     "output_type": "display_data"
    },
    {
     "data": {
      "application/vnd.jupyter.widget-view+json": {
       "model_id": "ca31b2343e574b09b702a50e71860cb7",
       "version_major": 2,
       "version_minor": 0
      },
      "text/plain": [
       "  0%|          | 0/13 [00:00<?, ?it/s]"
      ]
     },
     "metadata": {},
     "output_type": "display_data"
    },
    {
     "data": {
      "application/vnd.jupyter.widget-view+json": {
       "model_id": "2430448877534f2d9a84e7d3a4222b39",
       "version_major": 2,
       "version_minor": 0
      },
      "text/plain": [
       "  0%|          | 0/9 [00:00<?, ?it/s]"
      ]
     },
     "metadata": {},
     "output_type": "display_data"
    },
    {
     "data": {
      "application/vnd.jupyter.widget-view+json": {
       "model_id": "97d830248805403394b5f68048c20250",
       "version_major": 2,
       "version_minor": 0
      },
      "text/plain": [
       "  0%|          | 0/13 [00:00<?, ?it/s]"
      ]
     },
     "metadata": {},
     "output_type": "display_data"
    },
    {
     "data": {
      "application/vnd.jupyter.widget-view+json": {
       "model_id": "a820a88e106b4ea0b309d56402a2a67b",
       "version_major": 2,
       "version_minor": 0
      },
      "text/plain": [
       "  0%|          | 0/9 [00:00<?, ?it/s]"
      ]
     },
     "metadata": {},
     "output_type": "display_data"
    },
    {
     "data": {
      "application/vnd.jupyter.widget-view+json": {
       "model_id": "268d1f4a76b4424c918705c5f4667f3f",
       "version_major": 2,
       "version_minor": 0
      },
      "text/plain": [
       "  0%|          | 0/8 [00:00<?, ?it/s]"
      ]
     },
     "metadata": {},
     "output_type": "display_data"
    },
    {
     "data": {
      "application/vnd.jupyter.widget-view+json": {
       "model_id": "67006b55cdd04a71a1decd564ab34f33",
       "version_major": 2,
       "version_minor": 0
      },
      "text/plain": [
       "  0%|          | 0/10 [00:00<?, ?it/s]"
      ]
     },
     "metadata": {},
     "output_type": "display_data"
    },
    {
     "data": {
      "application/vnd.jupyter.widget-view+json": {
       "model_id": "946919a5efe1428f84683fd5003b97fa",
       "version_major": 2,
       "version_minor": 0
      },
      "text/plain": [
       "  0%|          | 0/9 [00:00<?, ?it/s]"
      ]
     },
     "metadata": {},
     "output_type": "display_data"
    },
    {
     "data": {
      "application/vnd.jupyter.widget-view+json": {
       "model_id": "501bcf47caf14a5798d89bf34be56750",
       "version_major": 2,
       "version_minor": 0
      },
      "text/plain": [
       "  0%|          | 0/9 [00:00<?, ?it/s]"
      ]
     },
     "metadata": {},
     "output_type": "display_data"
    },
    {
     "data": {
      "application/vnd.jupyter.widget-view+json": {
       "model_id": "2341c4062f704040a6bf964b086cbf07",
       "version_major": 2,
       "version_minor": 0
      },
      "text/plain": [
       "  0%|          | 0/9 [00:00<?, ?it/s]"
      ]
     },
     "metadata": {},
     "output_type": "display_data"
    },
    {
     "data": {
      "application/vnd.jupyter.widget-view+json": {
       "model_id": "d7b7dfdfaa2e4c51b58e3b42099b06ef",
       "version_major": 2,
       "version_minor": 0
      },
      "text/plain": [
       "  0%|          | 0/10 [00:00<?, ?it/s]"
      ]
     },
     "metadata": {},
     "output_type": "display_data"
    },
    {
     "data": {
      "application/vnd.jupyter.widget-view+json": {
       "model_id": "292ddf71ec08493aa56d289f5613717c",
       "version_major": 2,
       "version_minor": 0
      },
      "text/plain": [
       "  0%|          | 0/11 [00:00<?, ?it/s]"
      ]
     },
     "metadata": {},
     "output_type": "display_data"
    },
    {
     "data": {
      "application/vnd.jupyter.widget-view+json": {
       "model_id": "8aac026f439842ffb35c96d44dbfa2fc",
       "version_major": 2,
       "version_minor": 0
      },
      "text/plain": [
       "  0%|          | 0/9 [00:00<?, ?it/s]"
      ]
     },
     "metadata": {},
     "output_type": "display_data"
    },
    {
     "data": {
      "application/vnd.jupyter.widget-view+json": {
       "model_id": "2adbd8c5e63c40e084ce1082cc49294e",
       "version_major": 2,
       "version_minor": 0
      },
      "text/plain": [
       "  0%|          | 0/13 [00:00<?, ?it/s]"
      ]
     },
     "metadata": {},
     "output_type": "display_data"
    },
    {
     "data": {
      "application/vnd.jupyter.widget-view+json": {
       "model_id": "1905a787bd7748b1b29a998e78c51d2a",
       "version_major": 2,
       "version_minor": 0
      },
      "text/plain": [
       "  0%|          | 0/13 [00:00<?, ?it/s]"
      ]
     },
     "metadata": {},
     "output_type": "display_data"
    },
    {
     "data": {
      "application/vnd.jupyter.widget-view+json": {
       "model_id": "88b1d5442e70413c811181b8cf9311ed",
       "version_major": 2,
       "version_minor": 0
      },
      "text/plain": [
       "  0%|          | 0/8 [00:00<?, ?it/s]"
      ]
     },
     "metadata": {},
     "output_type": "display_data"
    },
    {
     "data": {
      "application/vnd.jupyter.widget-view+json": {
       "model_id": "b7ff9286b0fb4293a4e603d0cc920086",
       "version_major": 2,
       "version_minor": 0
      },
      "text/plain": [
       "  0%|          | 0/8 [00:00<?, ?it/s]"
      ]
     },
     "metadata": {},
     "output_type": "display_data"
    },
    {
     "data": {
      "application/vnd.jupyter.widget-view+json": {
       "model_id": "c896acd323ee4c3d96d5ee0148fe9330",
       "version_major": 2,
       "version_minor": 0
      },
      "text/plain": [
       "  0%|          | 0/13 [00:00<?, ?it/s]"
      ]
     },
     "metadata": {},
     "output_type": "display_data"
    },
    {
     "data": {
      "application/vnd.jupyter.widget-view+json": {
       "model_id": "b28930d8a122453981721600131000f6",
       "version_major": 2,
       "version_minor": 0
      },
      "text/plain": [
       "  0%|          | 0/6 [00:00<?, ?it/s]"
      ]
     },
     "metadata": {},
     "output_type": "display_data"
    },
    {
     "data": {
      "application/vnd.jupyter.widget-view+json": {
       "model_id": "fc8be62e71b94b2ba3896b18a231bb6f",
       "version_major": 2,
       "version_minor": 0
      },
      "text/plain": [
       "  0%|          | 0/8 [00:00<?, ?it/s]"
      ]
     },
     "metadata": {},
     "output_type": "display_data"
    },
    {
     "name": "stdout",
     "output_type": "stream",
     "text": [
      "Request failed: HTTPSConnectionPool(host='www.amazon.comhttps', port=443): Max retries exceeded with url: /aax-us-iad.amazon.com/x/c/JHRSw3GClRlXafb5yKt91F4AAAGRgY2F6AEAAAH2AQBvbm9fdHhuX2JpZDIgICBvbm9fdHhuX2ltcDEgICCeTkbB/https://www.amazon.com/Logitech-G-Artanis-WL-Black/dp/B092CB69Q4/ref=sxbs_sbv_search_btf?content-id=amzn1.sym.805ca70d-e057-4820-b9b3-729eee71f8a9%3Aamzn1.sym.805ca70d-e057-4820-b9b3-729eee71f8a9&cv_ct_cx=gaming+mouse&dib=eyJ2IjoiMSJ9.yuzqdy56fc0lAIanyPLCWA.UcIndxHbILoDxt6RgyA-hcUvsnnD1CRIT68t9y37Xw8&dib_tag=se&keywords=gaming+mouse&pd_rd_i=B092CB69Q4&pd_rd_r=4f21c6d1-5640-4f6c-8334-812bf8daafb1&pd_rd_w=uZ4tr&pd_rd_wg=0tqyC&pf_rd_p=805ca70d-e057-4820-b9b3-729eee71f8a9&pf_rd_r=Q4TZQ36MFXSVZ17PMYSC&qid=1724455421&sbo=RZvfv%2F%2FHxDF%2BO5021pAnSA%3D%3D&sr=1-81-48f7baba-8e26-45f3-8811-e1a601ad20bf (Caused by NameResolutionError(\"<urllib3.connection.HTTPSConnection object at 0x000002090A762E10>: Failed to resolve 'www.amazon.comhttps' ([Errno 11001] getaddrinfo failed)\"))\n"
     ]
    },
    {
     "data": {
      "application/vnd.jupyter.widget-view+json": {
       "model_id": "1e2831b30ea64f4989552970342e8bd8",
       "version_major": 2,
       "version_minor": 0
      },
      "text/plain": [
       "0it [00:00, ?it/s]"
      ]
     },
     "metadata": {},
     "output_type": "display_data"
    },
    {
     "data": {
      "application/vnd.jupyter.widget-view+json": {
       "model_id": "b69e4ab0a41e44d2a274511bff38793c",
       "version_major": 2,
       "version_minor": 0
      },
      "text/plain": [
       "  0%|          | 0/9 [00:00<?, ?it/s]"
      ]
     },
     "metadata": {},
     "output_type": "display_data"
    },
    {
     "data": {
      "application/vnd.jupyter.widget-view+json": {
       "model_id": "5fe31882b84d41f2982973c4a975b941",
       "version_major": 2,
       "version_minor": 0
      },
      "text/plain": [
       "  0%|          | 0/9 [00:00<?, ?it/s]"
      ]
     },
     "metadata": {},
     "output_type": "display_data"
    },
    {
     "data": {
      "application/vnd.jupyter.widget-view+json": {
       "model_id": "8e0c48af35774243beded27f3c288e35",
       "version_major": 2,
       "version_minor": 0
      },
      "text/plain": [
       "  0%|          | 0/8 [00:00<?, ?it/s]"
      ]
     },
     "metadata": {},
     "output_type": "display_data"
    },
    {
     "data": {
      "application/vnd.jupyter.widget-view+json": {
       "model_id": "49b75a7f8de54463a99f335c42cb03c8",
       "version_major": 2,
       "version_minor": 0
      },
      "text/plain": [
       "  0%|          | 0/13 [00:00<?, ?it/s]"
      ]
     },
     "metadata": {},
     "output_type": "display_data"
    },
    {
     "data": {
      "application/vnd.jupyter.widget-view+json": {
       "model_id": "ccba1c97aeff4e4b83e481a146585606",
       "version_major": 2,
       "version_minor": 0
      },
      "text/plain": [
       "  0%|          | 0/13 [00:00<?, ?it/s]"
      ]
     },
     "metadata": {},
     "output_type": "display_data"
    },
    {
     "data": {
      "application/vnd.jupyter.widget-view+json": {
       "model_id": "9f4028c69c63469cabf1b9d4292e0737",
       "version_major": 2,
       "version_minor": 0
      },
      "text/plain": [
       "  0%|          | 0/12 [00:00<?, ?it/s]"
      ]
     },
     "metadata": {},
     "output_type": "display_data"
    },
    {
     "data": {
      "application/vnd.jupyter.widget-view+json": {
       "model_id": "8744ec85637f4913b93233ec1482b0c0",
       "version_major": 2,
       "version_minor": 0
      },
      "text/plain": [
       "  0%|          | 0/11 [00:00<?, ?it/s]"
      ]
     },
     "metadata": {},
     "output_type": "display_data"
    },
    {
     "data": {
      "application/vnd.jupyter.widget-view+json": {
       "model_id": "5a48821e0b9e455db49f26005c500e9d",
       "version_major": 2,
       "version_minor": 0
      },
      "text/plain": [
       "  0%|          | 0/10 [00:00<?, ?it/s]"
      ]
     },
     "metadata": {},
     "output_type": "display_data"
    },
    {
     "name": "stdout",
     "output_type": "stream",
     "text": [
      "CAPTCHA detected. Please solve the CAPTCHA manually or use an anti-CAPTCHA service.\n"
     ]
    },
    {
     "data": {
      "application/vnd.jupyter.widget-view+json": {
       "model_id": "c14e9fe08cce41a99f7b5fda63cd190c",
       "version_major": 2,
       "version_minor": 0
      },
      "text/plain": [
       "0it [00:00, ?it/s]"
      ]
     },
     "metadata": {},
     "output_type": "display_data"
    },
    {
     "data": {
      "application/vnd.jupyter.widget-view+json": {
       "model_id": "aac648c8be9c407d8445fead7e49b7b3",
       "version_major": 2,
       "version_minor": 0
      },
      "text/plain": [
       "  0%|          | 0/9 [00:00<?, ?it/s]"
      ]
     },
     "metadata": {},
     "output_type": "display_data"
    },
    {
     "data": {
      "application/vnd.jupyter.widget-view+json": {
       "model_id": "456429eda02345018655d6648619f9f7",
       "version_major": 2,
       "version_minor": 0
      },
      "text/plain": [
       "  0%|          | 0/8 [00:00<?, ?it/s]"
      ]
     },
     "metadata": {},
     "output_type": "display_data"
    },
    {
     "data": {
      "application/vnd.jupyter.widget-view+json": {
       "model_id": "f0a6248a3fbb4ebbb592776c5467b53a",
       "version_major": 2,
       "version_minor": 0
      },
      "text/plain": [
       "  0%|          | 0/8 [00:00<?, ?it/s]"
      ]
     },
     "metadata": {},
     "output_type": "display_data"
    },
    {
     "name": "stdout",
     "output_type": "stream",
     "text": [
      "CAPTCHA detected. Please solve the CAPTCHA manually or use an anti-CAPTCHA service.\n"
     ]
    },
    {
     "data": {
      "application/vnd.jupyter.widget-view+json": {
       "model_id": "f712f59a417c4511927cb8a8cb37ebbb",
       "version_major": 2,
       "version_minor": 0
      },
      "text/plain": [
       "0it [00:00, ?it/s]"
      ]
     },
     "metadata": {},
     "output_type": "display_data"
    },
    {
     "name": "stdout",
     "output_type": "stream",
     "text": [
      "CAPTCHA detected. Please solve the CAPTCHA manually or use an anti-CAPTCHA service.\n"
     ]
    },
    {
     "data": {
      "application/vnd.jupyter.widget-view+json": {
       "model_id": "6e998ac9cc5149a88334915d4f0c9ef3",
       "version_major": 2,
       "version_minor": 0
      },
      "text/plain": [
       "0it [00:00, ?it/s]"
      ]
     },
     "metadata": {},
     "output_type": "display_data"
    },
    {
     "name": "stdout",
     "output_type": "stream",
     "text": [
      "CAPTCHA detected. Please solve the CAPTCHA manually or use an anti-CAPTCHA service.\n"
     ]
    },
    {
     "data": {
      "application/vnd.jupyter.widget-view+json": {
       "model_id": "e3afa0e699144b149a645c09c476990e",
       "version_major": 2,
       "version_minor": 0
      },
      "text/plain": [
       "0it [00:00, ?it/s]"
      ]
     },
     "metadata": {},
     "output_type": "display_data"
    },
    {
     "data": {
      "application/vnd.jupyter.widget-view+json": {
       "model_id": "9ad5a497b24849b2815ee4715558e3c7",
       "version_major": 2,
       "version_minor": 0
      },
      "text/plain": [
       "  0%|          | 0/10 [00:00<?, ?it/s]"
      ]
     },
     "metadata": {},
     "output_type": "display_data"
    },
    {
     "name": "stdout",
     "output_type": "stream",
     "text": [
      "CAPTCHA detected. Please solve the CAPTCHA manually or use an anti-CAPTCHA service.\n"
     ]
    },
    {
     "data": {
      "application/vnd.jupyter.widget-view+json": {
       "model_id": "7c333edfe008403dba2b6766b0d857f8",
       "version_major": 2,
       "version_minor": 0
      },
      "text/plain": [
       "0it [00:00, ?it/s]"
      ]
     },
     "metadata": {},
     "output_type": "display_data"
    },
    {
     "name": "stdout",
     "output_type": "stream",
     "text": [
      "CAPTCHA detected. Please solve the CAPTCHA manually or use an anti-CAPTCHA service.\n"
     ]
    },
    {
     "data": {
      "application/vnd.jupyter.widget-view+json": {
       "model_id": "175448cf5fe040d2b78cd8f676153b33",
       "version_major": 2,
       "version_minor": 0
      },
      "text/plain": [
       "0it [00:00, ?it/s]"
      ]
     },
     "metadata": {},
     "output_type": "display_data"
    },
    {
     "name": "stdout",
     "output_type": "stream",
     "text": [
      "CAPTCHA detected. Please solve the CAPTCHA manually or use an anti-CAPTCHA service.\n"
     ]
    },
    {
     "data": {
      "application/vnd.jupyter.widget-view+json": {
       "model_id": "c360bc49e2164347a4197deb2e9ae5b7",
       "version_major": 2,
       "version_minor": 0
      },
      "text/plain": [
       "0it [00:00, ?it/s]"
      ]
     },
     "metadata": {},
     "output_type": "display_data"
    },
    {
     "name": "stdout",
     "output_type": "stream",
     "text": [
      "CAPTCHA detected. Please solve the CAPTCHA manually or use an anti-CAPTCHA service.\n"
     ]
    },
    {
     "data": {
      "application/vnd.jupyter.widget-view+json": {
       "model_id": "641f48a813404ad58f4c5842b2e1c19d",
       "version_major": 2,
       "version_minor": 0
      },
      "text/plain": [
       "0it [00:00, ?it/s]"
      ]
     },
     "metadata": {},
     "output_type": "display_data"
    },
    {
     "data": {
      "application/vnd.jupyter.widget-view+json": {
       "model_id": "b0eaaf7a28f642a5b1cf27eb74c02578",
       "version_major": 2,
       "version_minor": 0
      },
      "text/plain": [
       "  0%|          | 0/8 [00:00<?, ?it/s]"
      ]
     },
     "metadata": {},
     "output_type": "display_data"
    },
    {
     "data": {
      "application/vnd.jupyter.widget-view+json": {
       "model_id": "c054116b87f94f97b36ecade73596c9f",
       "version_major": 2,
       "version_minor": 0
      },
      "text/plain": [
       "  0%|          | 0/9 [00:00<?, ?it/s]"
      ]
     },
     "metadata": {},
     "output_type": "display_data"
    },
    {
     "data": {
      "application/vnd.jupyter.widget-view+json": {
       "model_id": "bea279fa3d8f429d86312a6ae8d42408",
       "version_major": 2,
       "version_minor": 0
      },
      "text/plain": [
       "  0%|          | 0/9 [00:00<?, ?it/s]"
      ]
     },
     "metadata": {},
     "output_type": "display_data"
    },
    {
     "data": {
      "application/vnd.jupyter.widget-view+json": {
       "model_id": "7fcf695815b0402ca43596158a7610ee",
       "version_major": 2,
       "version_minor": 0
      },
      "text/plain": [
       "  0%|          | 0/11 [00:00<?, ?it/s]"
      ]
     },
     "metadata": {},
     "output_type": "display_data"
    },
    {
     "name": "stdout",
     "output_type": "stream",
     "text": [
      "CAPTCHA detected. Please solve the CAPTCHA manually or use an anti-CAPTCHA service.\n"
     ]
    },
    {
     "data": {
      "application/vnd.jupyter.widget-view+json": {
       "model_id": "6d6c8403d0024af38afed9361caa5453",
       "version_major": 2,
       "version_minor": 0
      },
      "text/plain": [
       "0it [00:00, ?it/s]"
      ]
     },
     "metadata": {},
     "output_type": "display_data"
    },
    {
     "name": "stdout",
     "output_type": "stream",
     "text": [
      "CAPTCHA detected. Please solve the CAPTCHA manually or use an anti-CAPTCHA service.\n"
     ]
    },
    {
     "data": {
      "application/vnd.jupyter.widget-view+json": {
       "model_id": "6927df2bbd9a49678055156fd888d1eb",
       "version_major": 2,
       "version_minor": 0
      },
      "text/plain": [
       "0it [00:00, ?it/s]"
      ]
     },
     "metadata": {},
     "output_type": "display_data"
    },
    {
     "data": {
      "application/vnd.jupyter.widget-view+json": {
       "model_id": "839d519448414811a0c0e0cc5af3d97a",
       "version_major": 2,
       "version_minor": 0
      },
      "text/plain": [
       "  0%|          | 0/8 [00:00<?, ?it/s]"
      ]
     },
     "metadata": {},
     "output_type": "display_data"
    },
    {
     "name": "stdout",
     "output_type": "stream",
     "text": [
      "CAPTCHA detected. Please solve the CAPTCHA manually or use an anti-CAPTCHA service.\n"
     ]
    },
    {
     "data": {
      "application/vnd.jupyter.widget-view+json": {
       "model_id": "ee5331e2eb994ac9b7c3d54bfd8a5249",
       "version_major": 2,
       "version_minor": 0
      },
      "text/plain": [
       "0it [00:00, ?it/s]"
      ]
     },
     "metadata": {},
     "output_type": "display_data"
    },
    {
     "data": {
      "application/vnd.jupyter.widget-view+json": {
       "model_id": "8c710d2e9b2d4b97bdd1627e72924fbb",
       "version_major": 2,
       "version_minor": 0
      },
      "text/plain": [
       "  0%|          | 0/8 [00:00<?, ?it/s]"
      ]
     },
     "metadata": {},
     "output_type": "display_data"
    },
    {
     "name": "stdout",
     "output_type": "stream",
     "text": [
      "CAPTCHA detected. Please solve the CAPTCHA manually or use an anti-CAPTCHA service.\n"
     ]
    },
    {
     "data": {
      "application/vnd.jupyter.widget-view+json": {
       "model_id": "2c832972f18e40c4a94d1a2c01810e3b",
       "version_major": 2,
       "version_minor": 0
      },
      "text/plain": [
       "0it [00:00, ?it/s]"
      ]
     },
     "metadata": {},
     "output_type": "display_data"
    },
    {
     "name": "stdout",
     "output_type": "stream",
     "text": [
      "CAPTCHA detected. Please solve the CAPTCHA manually or use an anti-CAPTCHA service.\n"
     ]
    },
    {
     "data": {
      "application/vnd.jupyter.widget-view+json": {
       "model_id": "592890264f7746418083879246143103",
       "version_major": 2,
       "version_minor": 0
      },
      "text/plain": [
       "0it [00:00, ?it/s]"
      ]
     },
     "metadata": {},
     "output_type": "display_data"
    },
    {
     "name": "stdout",
     "output_type": "stream",
     "text": [
      "CAPTCHA detected. Please solve the CAPTCHA manually or use an anti-CAPTCHA service.\n"
     ]
    },
    {
     "data": {
      "application/vnd.jupyter.widget-view+json": {
       "model_id": "abe1403d5ae6457e8336e5f8c590597e",
       "version_major": 2,
       "version_minor": 0
      },
      "text/plain": [
       "0it [00:00, ?it/s]"
      ]
     },
     "metadata": {},
     "output_type": "display_data"
    },
    {
     "data": {
      "application/vnd.jupyter.widget-view+json": {
       "model_id": "2ddc1ece860a4adca921cccbe3f3007e",
       "version_major": 2,
       "version_minor": 0
      },
      "text/plain": [
       "  0%|          | 0/13 [00:00<?, ?it/s]"
      ]
     },
     "metadata": {},
     "output_type": "display_data"
    },
    {
     "data": {
      "application/vnd.jupyter.widget-view+json": {
       "model_id": "3d00f5c4221d4a13a5ca988d88b1fa5a",
       "version_major": 2,
       "version_minor": 0
      },
      "text/plain": [
       "  0%|          | 0/9 [00:00<?, ?it/s]"
      ]
     },
     "metadata": {},
     "output_type": "display_data"
    },
    {
     "name": "stdout",
     "output_type": "stream",
     "text": [
      "CAPTCHA detected. Please solve the CAPTCHA manually or use an anti-CAPTCHA service.\n"
     ]
    },
    {
     "data": {
      "application/vnd.jupyter.widget-view+json": {
       "model_id": "b4b6d0fa2c4247a59f327245b3a75ec4",
       "version_major": 2,
       "version_minor": 0
      },
      "text/plain": [
       "0it [00:00, ?it/s]"
      ]
     },
     "metadata": {},
     "output_type": "display_data"
    },
    {
     "data": {
      "application/vnd.jupyter.widget-view+json": {
       "model_id": "d17229033e834d0fa5fb527b55c04547",
       "version_major": 2,
       "version_minor": 0
      },
      "text/plain": [
       "  0%|          | 0/9 [00:00<?, ?it/s]"
      ]
     },
     "metadata": {},
     "output_type": "display_data"
    },
    {
     "name": "stdout",
     "output_type": "stream",
     "text": [
      "CAPTCHA detected. Please solve the CAPTCHA manually or use an anti-CAPTCHA service.\n"
     ]
    },
    {
     "data": {
      "application/vnd.jupyter.widget-view+json": {
       "model_id": "109de76732ed49fdaad4b0655a64ea95",
       "version_major": 2,
       "version_minor": 0
      },
      "text/plain": [
       "0it [00:00, ?it/s]"
      ]
     },
     "metadata": {},
     "output_type": "display_data"
    },
    {
     "name": "stdout",
     "output_type": "stream",
     "text": [
      "CAPTCHA detected. Please solve the CAPTCHA manually or use an anti-CAPTCHA service.\n"
     ]
    },
    {
     "data": {
      "application/vnd.jupyter.widget-view+json": {
       "model_id": "ce09f1976f4442f0bae8ff1ae9cbf4c7",
       "version_major": 2,
       "version_minor": 0
      },
      "text/plain": [
       "0it [00:00, ?it/s]"
      ]
     },
     "metadata": {},
     "output_type": "display_data"
    },
    {
     "name": "stdout",
     "output_type": "stream",
     "text": [
      "CAPTCHA detected. Please solve the CAPTCHA manually or use an anti-CAPTCHA service.\n"
     ]
    },
    {
     "data": {
      "application/vnd.jupyter.widget-view+json": {
       "model_id": "902e7096f44445a0bef3de071aa5ab34",
       "version_major": 2,
       "version_minor": 0
      },
      "text/plain": [
       "0it [00:00, ?it/s]"
      ]
     },
     "metadata": {},
     "output_type": "display_data"
    },
    {
     "name": "stdout",
     "output_type": "stream",
     "text": [
      "CAPTCHA detected. Please solve the CAPTCHA manually or use an anti-CAPTCHA service.\n"
     ]
    },
    {
     "data": {
      "application/vnd.jupyter.widget-view+json": {
       "model_id": "1d43abdf1c6b420ca5155cc640351309",
       "version_major": 2,
       "version_minor": 0
      },
      "text/plain": [
       "0it [00:00, ?it/s]"
      ]
     },
     "metadata": {},
     "output_type": "display_data"
    },
    {
     "data": {
      "application/vnd.jupyter.widget-view+json": {
       "model_id": "26f932463c6b410e9ac2524c2ec01d0f",
       "version_major": 2,
       "version_minor": 0
      },
      "text/plain": [
       "  0%|          | 0/7 [00:00<?, ?it/s]"
      ]
     },
     "metadata": {},
     "output_type": "display_data"
    },
    {
     "name": "stdout",
     "output_type": "stream",
     "text": [
      "CAPTCHA detected. Please solve the CAPTCHA manually or use an anti-CAPTCHA service.\n"
     ]
    },
    {
     "data": {
      "application/vnd.jupyter.widget-view+json": {
       "model_id": "44a7d025f1ae4547890d5b1e5a9dda43",
       "version_major": 2,
       "version_minor": 0
      },
      "text/plain": [
       "0it [00:00, ?it/s]"
      ]
     },
     "metadata": {},
     "output_type": "display_data"
    },
    {
     "data": {
      "application/vnd.jupyter.widget-view+json": {
       "model_id": "d6f64fd585d144829993e3baf39929fe",
       "version_major": 2,
       "version_minor": 0
      },
      "text/plain": [
       "  0%|          | 0/9 [00:00<?, ?it/s]"
      ]
     },
     "metadata": {},
     "output_type": "display_data"
    },
    {
     "data": {
      "application/vnd.jupyter.widget-view+json": {
       "model_id": "868bc42fddf84788b3ef081ad0f2b3b4",
       "version_major": 2,
       "version_minor": 0
      },
      "text/plain": [
       "0it [00:00, ?it/s]"
      ]
     },
     "metadata": {},
     "output_type": "display_data"
    },
    {
     "name": "stdout",
     "output_type": "stream",
     "text": [
      "Request failed: HTTPSConnectionPool(host='www.amazon.comhttps', port=443): Max retries exceeded with url: /aax-us-iad.amazon.com/x/c/JPdqwTV6RcOF3EhyrxfZtmQAAAGRgY2s7QEAAAH2AQBvbm9fdHhuX2JpZDUgICBvbm9fdHhuX2ltcDEgICDFbeSr/https://www.amazon.com/Logitech-G-Artanis-WL-Black/dp/B092CB69Q4/ref=sxbs_sbv_search_btf?content-id=amzn1.sym.805ca70d-e057-4820-b9b3-729eee71f8a9%3Aamzn1.sym.805ca70d-e057-4820-b9b3-729eee71f8a9&cv_ct_cx=gaming+mouse&dib=eyJ2IjoiMSJ9.yuzqdy56fc0lAIanyPLCWA.V884XtOENg1p3wX38TzQLX5TrEUv9aHVSBTDfb_9ZHg&dib_tag=se&keywords=gaming+mouse&pd_rd_i=B092CB69Q4&pd_rd_r=46710c34-1576-443b-9b77-675264be3b07&pd_rd_w=wLipP&pd_rd_wg=TsAkn&pf_rd_p=805ca70d-e057-4820-b9b3-729eee71f8a9&pf_rd_r=RCTFSP0TFDRZC9HDB5N1&qid=1724455431&sbo=RZvfv%2F%2FHxDF%2BO5021pAnSA%3D%3D&sr=1-113-48f7baba-8e26-45f3-8811-e1a601ad20bf (Caused by NameResolutionError(\"<urllib3.connection.HTTPSConnection object at 0x0000020909A7D550>: Failed to resolve 'www.amazon.comhttps' ([Errno 11001] getaddrinfo failed)\"))\n"
     ]
    },
    {
     "data": {
      "application/vnd.jupyter.widget-view+json": {
       "model_id": "dfbf9c61f1d94c588c7c3c58ab7b83b4",
       "version_major": 2,
       "version_minor": 0
      },
      "text/plain": [
       "0it [00:00, ?it/s]"
      ]
     },
     "metadata": {},
     "output_type": "display_data"
    },
    {
     "data": {
      "application/vnd.jupyter.widget-view+json": {
       "model_id": "255a24bdf47243fca2a47c213eaf1469",
       "version_major": 2,
       "version_minor": 0
      },
      "text/plain": [
       "  0%|          | 0/9 [00:00<?, ?it/s]"
      ]
     },
     "metadata": {},
     "output_type": "display_data"
    },
    {
     "name": "stdout",
     "output_type": "stream",
     "text": [
      "CAPTCHA detected. Please solve the CAPTCHA manually or use an anti-CAPTCHA service.\n"
     ]
    },
    {
     "data": {
      "application/vnd.jupyter.widget-view+json": {
       "model_id": "7a687ad99dff40caad7b4c4e301513b3",
       "version_major": 2,
       "version_minor": 0
      },
      "text/plain": [
       "0it [00:00, ?it/s]"
      ]
     },
     "metadata": {},
     "output_type": "display_data"
    },
    {
     "data": {
      "application/vnd.jupyter.widget-view+json": {
       "model_id": "cfbbd3bfb45e4d149ec501bbbff99597",
       "version_major": 2,
       "version_minor": 0
      },
      "text/plain": [
       "  0%|          | 0/9 [00:00<?, ?it/s]"
      ]
     },
     "metadata": {},
     "output_type": "display_data"
    },
    {
     "data": {
      "application/vnd.jupyter.widget-view+json": {
       "model_id": "4bd652e012a147cd91d5754f680dbc04",
       "version_major": 2,
       "version_minor": 0
      },
      "text/plain": [
       "  0%|          | 0/8 [00:00<?, ?it/s]"
      ]
     },
     "metadata": {},
     "output_type": "display_data"
    },
    {
     "name": "stdout",
     "output_type": "stream",
     "text": [
      "CAPTCHA detected. Please solve the CAPTCHA manually or use an anti-CAPTCHA service.\n"
     ]
    },
    {
     "data": {
      "application/vnd.jupyter.widget-view+json": {
       "model_id": "fb77190fc34746168cce8bcb7c194843",
       "version_major": 2,
       "version_minor": 0
      },
      "text/plain": [
       "0it [00:00, ?it/s]"
      ]
     },
     "metadata": {},
     "output_type": "display_data"
    },
    {
     "name": "stdout",
     "output_type": "stream",
     "text": [
      "CAPTCHA detected. Please solve the CAPTCHA manually or use an anti-CAPTCHA service.\n"
     ]
    },
    {
     "data": {
      "application/vnd.jupyter.widget-view+json": {
       "model_id": "094b967f823c495298165dd4bd6ce6b0",
       "version_major": 2,
       "version_minor": 0
      },
      "text/plain": [
       "0it [00:00, ?it/s]"
      ]
     },
     "metadata": {},
     "output_type": "display_data"
    },
    {
     "name": "stdout",
     "output_type": "stream",
     "text": [
      "CAPTCHA detected. Please solve the CAPTCHA manually or use an anti-CAPTCHA service.\n"
     ]
    },
    {
     "data": {
      "application/vnd.jupyter.widget-view+json": {
       "model_id": "30a156182d734786822287c3ebfbfca4",
       "version_major": 2,
       "version_minor": 0
      },
      "text/plain": [
       "0it [00:00, ?it/s]"
      ]
     },
     "metadata": {},
     "output_type": "display_data"
    },
    {
     "name": "stdout",
     "output_type": "stream",
     "text": [
      "CAPTCHA detected. Please solve the CAPTCHA manually or use an anti-CAPTCHA service.\n"
     ]
    },
    {
     "data": {
      "application/vnd.jupyter.widget-view+json": {
       "model_id": "20258299b1674131b40845afdf3c7e69",
       "version_major": 2,
       "version_minor": 0
      },
      "text/plain": [
       "0it [00:00, ?it/s]"
      ]
     },
     "metadata": {},
     "output_type": "display_data"
    },
    {
     "name": "stdout",
     "output_type": "stream",
     "text": [
      "CAPTCHA detected. Please solve the CAPTCHA manually or use an anti-CAPTCHA service.\n"
     ]
    },
    {
     "data": {
      "application/vnd.jupyter.widget-view+json": {
       "model_id": "081abdba033f488e9c2492dcd4a3689b",
       "version_major": 2,
       "version_minor": 0
      },
      "text/plain": [
       "0it [00:00, ?it/s]"
      ]
     },
     "metadata": {},
     "output_type": "display_data"
    },
    {
     "data": {
      "application/vnd.jupyter.widget-view+json": {
       "model_id": "03aca94d800a442d9f6719900cbc6a55",
       "version_major": 2,
       "version_minor": 0
      },
      "text/plain": [
       "  0%|          | 0/5 [00:00<?, ?it/s]"
      ]
     },
     "metadata": {},
     "output_type": "display_data"
    },
    {
     "data": {
      "application/vnd.jupyter.widget-view+json": {
       "model_id": "0e5f3f772c124072990ace9b9328d70c",
       "version_major": 2,
       "version_minor": 0
      },
      "text/plain": [
       "0it [00:00, ?it/s]"
      ]
     },
     "metadata": {},
     "output_type": "display_data"
    },
    {
     "name": "stdout",
     "output_type": "stream",
     "text": [
      "CAPTCHA detected. Please solve the CAPTCHA manually or use an anti-CAPTCHA service.\n"
     ]
    },
    {
     "data": {
      "application/vnd.jupyter.widget-view+json": {
       "model_id": "d7b67e49a6854521977480eb9a7a0ef1",
       "version_major": 2,
       "version_minor": 0
      },
      "text/plain": [
       "0it [00:00, ?it/s]"
      ]
     },
     "metadata": {},
     "output_type": "display_data"
    },
    {
     "name": "stdout",
     "output_type": "stream",
     "text": [
      "CAPTCHA detected. Please solve the CAPTCHA manually or use an anti-CAPTCHA service.\n"
     ]
    },
    {
     "data": {
      "application/vnd.jupyter.widget-view+json": {
       "model_id": "ff66a16da271482493a5b5e43dbb37df",
       "version_major": 2,
       "version_minor": 0
      },
      "text/plain": [
       "0it [00:00, ?it/s]"
      ]
     },
     "metadata": {},
     "output_type": "display_data"
    },
    {
     "name": "stdout",
     "output_type": "stream",
     "text": [
      "CAPTCHA detected. Please solve the CAPTCHA manually or use an anti-CAPTCHA service.\n"
     ]
    },
    {
     "data": {
      "application/vnd.jupyter.widget-view+json": {
       "model_id": "e055b2013f434eae97261f8e95255e39",
       "version_major": 2,
       "version_minor": 0
      },
      "text/plain": [
       "0it [00:00, ?it/s]"
      ]
     },
     "metadata": {},
     "output_type": "display_data"
    },
    {
     "name": "stdout",
     "output_type": "stream",
     "text": [
      "CAPTCHA detected. Please solve the CAPTCHA manually or use an anti-CAPTCHA service.\n"
     ]
    },
    {
     "data": {
      "application/vnd.jupyter.widget-view+json": {
       "model_id": "7e3951db88664741a9f7f38cc820fa84",
       "version_major": 2,
       "version_minor": 0
      },
      "text/plain": [
       "0it [00:00, ?it/s]"
      ]
     },
     "metadata": {},
     "output_type": "display_data"
    },
    {
     "name": "stdout",
     "output_type": "stream",
     "text": [
      "CAPTCHA detected. Please solve the CAPTCHA manually or use an anti-CAPTCHA service.\n"
     ]
    },
    {
     "data": {
      "application/vnd.jupyter.widget-view+json": {
       "model_id": "469faad8e3d245bf88df66c403e31537",
       "version_major": 2,
       "version_minor": 0
      },
      "text/plain": [
       "0it [00:00, ?it/s]"
      ]
     },
     "metadata": {},
     "output_type": "display_data"
    },
    {
     "name": "stdout",
     "output_type": "stream",
     "text": [
      "CAPTCHA detected. Please solve the CAPTCHA manually or use an anti-CAPTCHA service.\n"
     ]
    },
    {
     "data": {
      "application/vnd.jupyter.widget-view+json": {
       "model_id": "329d7b2cb6084bffaaea4dd6a78fff7c",
       "version_major": 2,
       "version_minor": 0
      },
      "text/plain": [
       "0it [00:00, ?it/s]"
      ]
     },
     "metadata": {},
     "output_type": "display_data"
    },
    {
     "name": "stdout",
     "output_type": "stream",
     "text": [
      "CAPTCHA detected. Please solve the CAPTCHA manually or use an anti-CAPTCHA service.\n"
     ]
    },
    {
     "data": {
      "application/vnd.jupyter.widget-view+json": {
       "model_id": "9a71247b4b6f46ac8cf2dbe372b52911",
       "version_major": 2,
       "version_minor": 0
      },
      "text/plain": [
       "0it [00:00, ?it/s]"
      ]
     },
     "metadata": {},
     "output_type": "display_data"
    },
    {
     "name": "stdout",
     "output_type": "stream",
     "text": [
      "CAPTCHA detected. Please solve the CAPTCHA manually or use an anti-CAPTCHA service.\n"
     ]
    },
    {
     "data": {
      "application/vnd.jupyter.widget-view+json": {
       "model_id": "f5d202cbebce474e926e912a593ce38e",
       "version_major": 2,
       "version_minor": 0
      },
      "text/plain": [
       "0it [00:00, ?it/s]"
      ]
     },
     "metadata": {},
     "output_type": "display_data"
    },
    {
     "data": {
      "application/vnd.jupyter.widget-view+json": {
       "model_id": "624456b195584535958efe860bbdb0fe",
       "version_major": 2,
       "version_minor": 0
      },
      "text/plain": [
       "  0%|          | 0/7 [00:00<?, ?it/s]"
      ]
     },
     "metadata": {},
     "output_type": "display_data"
    },
    {
     "data": {
      "application/vnd.jupyter.widget-view+json": {
       "model_id": "7154579e607a4ca0a1aba80e23a04d79",
       "version_major": 2,
       "version_minor": 0
      },
      "text/plain": [
       "  0%|          | 0/8 [00:00<?, ?it/s]"
      ]
     },
     "metadata": {},
     "output_type": "display_data"
    },
    {
     "data": {
      "application/vnd.jupyter.widget-view+json": {
       "model_id": "9d9b8d4a46f149aeaf7ab2a606c6ccd1",
       "version_major": 2,
       "version_minor": 0
      },
      "text/plain": [
       "  0%|          | 0/9 [00:00<?, ?it/s]"
      ]
     },
     "metadata": {},
     "output_type": "display_data"
    },
    {
     "name": "stdout",
     "output_type": "stream",
     "text": [
      "CAPTCHA detected. Please solve the CAPTCHA manually or use an anti-CAPTCHA service.\n"
     ]
    },
    {
     "data": {
      "application/vnd.jupyter.widget-view+json": {
       "model_id": "9827855325e7461580e5c961e5e95178",
       "version_major": 2,
       "version_minor": 0
      },
      "text/plain": [
       "0it [00:00, ?it/s]"
      ]
     },
     "metadata": {},
     "output_type": "display_data"
    },
    {
     "name": "stdout",
     "output_type": "stream",
     "text": [
      "CAPTCHA detected. Please solve the CAPTCHA manually or use an anti-CAPTCHA service.\n"
     ]
    },
    {
     "data": {
      "application/vnd.jupyter.widget-view+json": {
       "model_id": "ede5089ab4b54373a5f34ed308a94604",
       "version_major": 2,
       "version_minor": 0
      },
      "text/plain": [
       "0it [00:00, ?it/s]"
      ]
     },
     "metadata": {},
     "output_type": "display_data"
    },
    {
     "name": "stdout",
     "output_type": "stream",
     "text": [
      "CAPTCHA detected. Please solve the CAPTCHA manually or use an anti-CAPTCHA service.\n"
     ]
    },
    {
     "data": {
      "application/vnd.jupyter.widget-view+json": {
       "model_id": "c714104ce66f45e094fac79660a4e0c1",
       "version_major": 2,
       "version_minor": 0
      },
      "text/plain": [
       "0it [00:00, ?it/s]"
      ]
     },
     "metadata": {},
     "output_type": "display_data"
    },
    {
     "name": "stdout",
     "output_type": "stream",
     "text": [
      "CAPTCHA detected. Please solve the CAPTCHA manually or use an anti-CAPTCHA service.\n"
     ]
    },
    {
     "data": {
      "application/vnd.jupyter.widget-view+json": {
       "model_id": "8d9e5591ff954d328d244cf9589304de",
       "version_major": 2,
       "version_minor": 0
      },
      "text/plain": [
       "0it [00:00, ?it/s]"
      ]
     },
     "metadata": {},
     "output_type": "display_data"
    },
    {
     "name": "stdout",
     "output_type": "stream",
     "text": [
      "CAPTCHA detected. Please solve the CAPTCHA manually or use an anti-CAPTCHA service.\n"
     ]
    },
    {
     "data": {
      "application/vnd.jupyter.widget-view+json": {
       "model_id": "a049f3d3e09945d5b1997d2ba56a75e3",
       "version_major": 2,
       "version_minor": 0
      },
      "text/plain": [
       "0it [00:00, ?it/s]"
      ]
     },
     "metadata": {},
     "output_type": "display_data"
    },
    {
     "name": "stdout",
     "output_type": "stream",
     "text": [
      "CAPTCHA detected. Please solve the CAPTCHA manually or use an anti-CAPTCHA service.\n"
     ]
    },
    {
     "data": {
      "application/vnd.jupyter.widget-view+json": {
       "model_id": "8d2b5fa24ea645f1a3a55d2266fcdba9",
       "version_major": 2,
       "version_minor": 0
      },
      "text/plain": [
       "0it [00:00, ?it/s]"
      ]
     },
     "metadata": {},
     "output_type": "display_data"
    },
    {
     "name": "stdout",
     "output_type": "stream",
     "text": [
      "CAPTCHA detected. Please solve the CAPTCHA manually or use an anti-CAPTCHA service.\n"
     ]
    },
    {
     "data": {
      "application/vnd.jupyter.widget-view+json": {
       "model_id": "f887c14361364d0c9c26c60c67ec5f9c",
       "version_major": 2,
       "version_minor": 0
      },
      "text/plain": [
       "0it [00:00, ?it/s]"
      ]
     },
     "metadata": {},
     "output_type": "display_data"
    },
    {
     "data": {
      "application/vnd.jupyter.widget-view+json": {
       "model_id": "297b8e9711bd4664a95878d05eb898a7",
       "version_major": 2,
       "version_minor": 0
      },
      "text/plain": [
       "  0%|          | 0/9 [00:00<?, ?it/s]"
      ]
     },
     "metadata": {},
     "output_type": "display_data"
    },
    {
     "data": {
      "application/vnd.jupyter.widget-view+json": {
       "model_id": "4625b5ab6252466ebc38c1044492d81f",
       "version_major": 2,
       "version_minor": 0
      },
      "text/plain": [
       "  0%|          | 0/8 [00:00<?, ?it/s]"
      ]
     },
     "metadata": {},
     "output_type": "display_data"
    },
    {
     "name": "stdout",
     "output_type": "stream",
     "text": [
      "CAPTCHA detected. Please solve the CAPTCHA manually or use an anti-CAPTCHA service.\n"
     ]
    },
    {
     "data": {
      "application/vnd.jupyter.widget-view+json": {
       "model_id": "a60e04200fb44461a91906fb8d2e0aa2",
       "version_major": 2,
       "version_minor": 0
      },
      "text/plain": [
       "0it [00:00, ?it/s]"
      ]
     },
     "metadata": {},
     "output_type": "display_data"
    },
    {
     "name": "stdout",
     "output_type": "stream",
     "text": [
      "CAPTCHA detected. Please solve the CAPTCHA manually or use an anti-CAPTCHA service.\n"
     ]
    },
    {
     "data": {
      "application/vnd.jupyter.widget-view+json": {
       "model_id": "eb8c50fb21c741dbab4a2030161c0fd2",
       "version_major": 2,
       "version_minor": 0
      },
      "text/plain": [
       "0it [00:00, ?it/s]"
      ]
     },
     "metadata": {},
     "output_type": "display_data"
    },
    {
     "name": "stdout",
     "output_type": "stream",
     "text": [
      "CAPTCHA detected. Please solve the CAPTCHA manually or use an anti-CAPTCHA service.\n"
     ]
    },
    {
     "data": {
      "application/vnd.jupyter.widget-view+json": {
       "model_id": "ced6514e1c4c4910b7349954ccf85db1",
       "version_major": 2,
       "version_minor": 0
      },
      "text/plain": [
       "0it [00:00, ?it/s]"
      ]
     },
     "metadata": {},
     "output_type": "display_data"
    },
    {
     "name": "stdout",
     "output_type": "stream",
     "text": [
      "CAPTCHA detected. Please solve the CAPTCHA manually or use an anti-CAPTCHA service.\n"
     ]
    },
    {
     "data": {
      "application/vnd.jupyter.widget-view+json": {
       "model_id": "f9237e5359ab4b3182a2027dc4c60545",
       "version_major": 2,
       "version_minor": 0
      },
      "text/plain": [
       "0it [00:00, ?it/s]"
      ]
     },
     "metadata": {},
     "output_type": "display_data"
    },
    {
     "name": "stdout",
     "output_type": "stream",
     "text": [
      "CAPTCHA detected. Please solve the CAPTCHA manually or use an anti-CAPTCHA service.\n"
     ]
    },
    {
     "data": {
      "application/vnd.jupyter.widget-view+json": {
       "model_id": "13b0b8d48e7a4f61bef7b5c24fe42185",
       "version_major": 2,
       "version_minor": 0
      },
      "text/plain": [
       "0it [00:00, ?it/s]"
      ]
     },
     "metadata": {},
     "output_type": "display_data"
    },
    {
     "name": "stdout",
     "output_type": "stream",
     "text": [
      "CAPTCHA detected. Please solve the CAPTCHA manually or use an anti-CAPTCHA service.\n"
     ]
    },
    {
     "data": {
      "application/vnd.jupyter.widget-view+json": {
       "model_id": "c920f2183e25404aaf943d9f8e8177ae",
       "version_major": 2,
       "version_minor": 0
      },
      "text/plain": [
       "0it [00:00, ?it/s]"
      ]
     },
     "metadata": {},
     "output_type": "display_data"
    },
    {
     "name": "stdout",
     "output_type": "stream",
     "text": [
      "CAPTCHA detected. Please solve the CAPTCHA manually or use an anti-CAPTCHA service.\n"
     ]
    },
    {
     "data": {
      "application/vnd.jupyter.widget-view+json": {
       "model_id": "53ffff0ff5ee4872a0b982eff1a53013",
       "version_major": 2,
       "version_minor": 0
      },
      "text/plain": [
       "0it [00:00, ?it/s]"
      ]
     },
     "metadata": {},
     "output_type": "display_data"
    },
    {
     "name": "stdout",
     "output_type": "stream",
     "text": [
      "CAPTCHA detected. Please solve the CAPTCHA manually or use an anti-CAPTCHA service.\n"
     ]
    },
    {
     "data": {
      "application/vnd.jupyter.widget-view+json": {
       "model_id": "cef7c0090cfa47d599fba4222f8359c1",
       "version_major": 2,
       "version_minor": 0
      },
      "text/plain": [
       "0it [00:00, ?it/s]"
      ]
     },
     "metadata": {},
     "output_type": "display_data"
    },
    {
     "data": {
      "application/vnd.jupyter.widget-view+json": {
       "model_id": "d36797f463ac450bb54fed59a025d7b3",
       "version_major": 2,
       "version_minor": 0
      },
      "text/plain": [
       "  0%|          | 0/13 [00:00<?, ?it/s]"
      ]
     },
     "metadata": {},
     "output_type": "display_data"
    },
    {
     "data": {
      "application/vnd.jupyter.widget-view+json": {
       "model_id": "7b668faf3d924323aa02c239bf566764",
       "version_major": 2,
       "version_minor": 0
      },
      "text/plain": [
       "  0%|          | 0/8 [00:00<?, ?it/s]"
      ]
     },
     "metadata": {},
     "output_type": "display_data"
    },
    {
     "name": "stdout",
     "output_type": "stream",
     "text": [
      "Request failed: HTTPSConnectionPool(host='www.amazon.comhttps', port=443): Max retries exceeded with url: /aax-us-iad.amazon.com/x/c/JGv__qZeN0W1xgNsXdbV9PEAAAGRgY3bYAEAAAH2AQBvbm9fdHhuX2JpZDIgICBvbm9fdHhuX2ltcDEgICDPN4k5/https://www.amazon.com/Logitech-G-Artanis-WL-Black/dp/B092CB69Q4/ref=sxbs_sbv_search_btf?content-id=amzn1.sym.805ca70d-e057-4820-b9b3-729eee71f8a9%3Aamzn1.sym.805ca70d-e057-4820-b9b3-729eee71f8a9&cv_ct_cx=gaming+mouse&dib=eyJ2IjoiMSJ9.yuzqdy56fc0lAIanyPLCWA.Sz854iSgOprzhonRui4CC7H6bXGLNKgu5hTVUNRbavI&dib_tag=se&keywords=gaming+mouse&pd_rd_i=B092CB69Q4&pd_rd_r=66facfd4-c497-4cda-9725-f57d32230460&pd_rd_w=tFKFJ&pd_rd_wg=kfMuQ&pf_rd_p=805ca70d-e057-4820-b9b3-729eee71f8a9&pf_rd_r=ZV47H0PW2V8S7PVDVPKC&qid=1724455443&sbo=RZvfv%2F%2FHxDF%2BO5021pAnSA%3D%3D&sr=1-145-48f7baba-8e26-45f3-8811-e1a601ad20bf (Caused by NameResolutionError(\"<urllib3.connection.HTTPSConnection object at 0x0000020909F1B9B0>: Failed to resolve 'www.amazon.comhttps' ([Errno 11001] getaddrinfo failed)\"))\n"
     ]
    },
    {
     "data": {
      "application/vnd.jupyter.widget-view+json": {
       "model_id": "cf4767e0c2b1478592db9b2ac1f055a1",
       "version_major": 2,
       "version_minor": 0
      },
      "text/plain": [
       "0it [00:00, ?it/s]"
      ]
     },
     "metadata": {},
     "output_type": "display_data"
    },
    {
     "data": {
      "application/vnd.jupyter.widget-view+json": {
       "model_id": "2593ab6b6ed745feba082ed64b7aa558",
       "version_major": 2,
       "version_minor": 0
      },
      "text/plain": [
       "  0%|          | 0/9 [00:00<?, ?it/s]"
      ]
     },
     "metadata": {},
     "output_type": "display_data"
    },
    {
     "data": {
      "application/vnd.jupyter.widget-view+json": {
       "model_id": "4ac997cfb4234508b99c6362f9a54d38",
       "version_major": 2,
       "version_minor": 0
      },
      "text/plain": [
       "  0%|          | 0/8 [00:00<?, ?it/s]"
      ]
     },
     "metadata": {},
     "output_type": "display_data"
    },
    {
     "name": "stdout",
     "output_type": "stream",
     "text": [
      "CAPTCHA detected. Please solve the CAPTCHA manually or use an anti-CAPTCHA service.\n"
     ]
    },
    {
     "data": {
      "application/vnd.jupyter.widget-view+json": {
       "model_id": "694dd61f918746028b0cf997c03aa1c7",
       "version_major": 2,
       "version_minor": 0
      },
      "text/plain": [
       "0it [00:00, ?it/s]"
      ]
     },
     "metadata": {},
     "output_type": "display_data"
    },
    {
     "name": "stdout",
     "output_type": "stream",
     "text": [
      "CAPTCHA detected. Please solve the CAPTCHA manually or use an anti-CAPTCHA service.\n"
     ]
    },
    {
     "data": {
      "application/vnd.jupyter.widget-view+json": {
       "model_id": "d0725d9673a145b195089d597f6d1614",
       "version_major": 2,
       "version_minor": 0
      },
      "text/plain": [
       "0it [00:00, ?it/s]"
      ]
     },
     "metadata": {},
     "output_type": "display_data"
    },
    {
     "name": "stdout",
     "output_type": "stream",
     "text": [
      "CAPTCHA detected. Please solve the CAPTCHA manually or use an anti-CAPTCHA service.\n"
     ]
    },
    {
     "data": {
      "application/vnd.jupyter.widget-view+json": {
       "model_id": "a4e3437580ba4eca86b5b155f5e284e4",
       "version_major": 2,
       "version_minor": 0
      },
      "text/plain": [
       "0it [00:00, ?it/s]"
      ]
     },
     "metadata": {},
     "output_type": "display_data"
    },
    {
     "name": "stdout",
     "output_type": "stream",
     "text": [
      "CAPTCHA detected. Please solve the CAPTCHA manually or use an anti-CAPTCHA service.\n"
     ]
    },
    {
     "data": {
      "application/vnd.jupyter.widget-view+json": {
       "model_id": "49683daf98c64cb0a16be86835ab3c02",
       "version_major": 2,
       "version_minor": 0
      },
      "text/plain": [
       "0it [00:00, ?it/s]"
      ]
     },
     "metadata": {},
     "output_type": "display_data"
    },
    {
     "name": "stdout",
     "output_type": "stream",
     "text": [
      "CAPTCHA detected. Please solve the CAPTCHA manually or use an anti-CAPTCHA service.\n"
     ]
    },
    {
     "data": {
      "application/vnd.jupyter.widget-view+json": {
       "model_id": "1f0d491c18d54373bb44f6522054a105",
       "version_major": 2,
       "version_minor": 0
      },
      "text/plain": [
       "0it [00:00, ?it/s]"
      ]
     },
     "metadata": {},
     "output_type": "display_data"
    },
    {
     "name": "stdout",
     "output_type": "stream",
     "text": [
      "CAPTCHA detected. Please solve the CAPTCHA manually or use an anti-CAPTCHA service.\n"
     ]
    },
    {
     "data": {
      "application/vnd.jupyter.widget-view+json": {
       "model_id": "c29255c163a744cd8a9782db33b11e19",
       "version_major": 2,
       "version_minor": 0
      },
      "text/plain": [
       "0it [00:00, ?it/s]"
      ]
     },
     "metadata": {},
     "output_type": "display_data"
    },
    {
     "data": {
      "application/vnd.jupyter.widget-view+json": {
       "model_id": "844b8506a0a64e2c80fb94decfe67348",
       "version_major": 2,
       "version_minor": 0
      },
      "text/plain": [
       "  0%|          | 0/9 [00:00<?, ?it/s]"
      ]
     },
     "metadata": {},
     "output_type": "display_data"
    },
    {
     "name": "stdout",
     "output_type": "stream",
     "text": [
      "CAPTCHA detected. Please solve the CAPTCHA manually or use an anti-CAPTCHA service.\n"
     ]
    },
    {
     "data": {
      "application/vnd.jupyter.widget-view+json": {
       "model_id": "9e96346a575a4cd5acf00bd08cc5df94",
       "version_major": 2,
       "version_minor": 0
      },
      "text/plain": [
       "0it [00:00, ?it/s]"
      ]
     },
     "metadata": {},
     "output_type": "display_data"
    },
    {
     "data": {
      "application/vnd.jupyter.widget-view+json": {
       "model_id": "50297945ac9c4a528babaa480556e73f",
       "version_major": 2,
       "version_minor": 0
      },
      "text/plain": [
       "  0%|          | 0/8 [00:00<?, ?it/s]"
      ]
     },
     "metadata": {},
     "output_type": "display_data"
    },
    {
     "name": "stdout",
     "output_type": "stream",
     "text": [
      "CAPTCHA detected. Please solve the CAPTCHA manually or use an anti-CAPTCHA service.\n"
     ]
    },
    {
     "data": {
      "application/vnd.jupyter.widget-view+json": {
       "model_id": "27fadb1dc3f446e48106ab4b903d22b8",
       "version_major": 2,
       "version_minor": 0
      },
      "text/plain": [
       "0it [00:00, ?it/s]"
      ]
     },
     "metadata": {},
     "output_type": "display_data"
    },
    {
     "name": "stdout",
     "output_type": "stream",
     "text": [
      "CAPTCHA detected. Please solve the CAPTCHA manually or use an anti-CAPTCHA service.\n"
     ]
    },
    {
     "data": {
      "application/vnd.jupyter.widget-view+json": {
       "model_id": "1273c68ac61d41408d4d052e04cb7635",
       "version_major": 2,
       "version_minor": 0
      },
      "text/plain": [
       "0it [00:00, ?it/s]"
      ]
     },
     "metadata": {},
     "output_type": "display_data"
    },
    {
     "name": "stdout",
     "output_type": "stream",
     "text": [
      "CAPTCHA detected. Please solve the CAPTCHA manually or use an anti-CAPTCHA service.\n"
     ]
    },
    {
     "data": {
      "application/vnd.jupyter.widget-view+json": {
       "model_id": "6c8b3436a1d84b539a25f986035b581c",
       "version_major": 2,
       "version_minor": 0
      },
      "text/plain": [
       "0it [00:00, ?it/s]"
      ]
     },
     "metadata": {},
     "output_type": "display_data"
    },
    {
     "name": "stdout",
     "output_type": "stream",
     "text": [
      "CAPTCHA detected. Please solve the CAPTCHA manually or use an anti-CAPTCHA service.\n"
     ]
    },
    {
     "data": {
      "application/vnd.jupyter.widget-view+json": {
       "model_id": "2aedf2e8bfc64aaca23546da6d6ed571",
       "version_major": 2,
       "version_minor": 0
      },
      "text/plain": [
       "0it [00:00, ?it/s]"
      ]
     },
     "metadata": {},
     "output_type": "display_data"
    },
    {
     "name": "stdout",
     "output_type": "stream",
     "text": [
      "CAPTCHA detected. Please solve the CAPTCHA manually or use an anti-CAPTCHA service.\n"
     ]
    },
    {
     "data": {
      "application/vnd.jupyter.widget-view+json": {
       "model_id": "45a583faedf4435cb7a7f268d10a84ac",
       "version_major": 2,
       "version_minor": 0
      },
      "text/plain": [
       "0it [00:00, ?it/s]"
      ]
     },
     "metadata": {},
     "output_type": "display_data"
    },
    {
     "name": "stdout",
     "output_type": "stream",
     "text": [
      "CAPTCHA detected. Please solve the CAPTCHA manually or use an anti-CAPTCHA service.\n"
     ]
    },
    {
     "data": {
      "application/vnd.jupyter.widget-view+json": {
       "model_id": "0d3bc39007304eec955611ec83e44484",
       "version_major": 2,
       "version_minor": 0
      },
      "text/plain": [
       "0it [00:00, ?it/s]"
      ]
     },
     "metadata": {},
     "output_type": "display_data"
    },
    {
     "data": {
      "application/vnd.jupyter.widget-view+json": {
       "model_id": "06180c87fe3a4f64ae14634029905e4c",
       "version_major": 2,
       "version_minor": 0
      },
      "text/plain": [
       "  0%|          | 0/8 [00:00<?, ?it/s]"
      ]
     },
     "metadata": {},
     "output_type": "display_data"
    },
    {
     "data": {
      "application/vnd.jupyter.widget-view+json": {
       "model_id": "866ffae4c5404ac9aa142aa68cd3b736",
       "version_major": 2,
       "version_minor": 0
      },
      "text/plain": [
       "0it [00:00, ?it/s]"
      ]
     },
     "metadata": {},
     "output_type": "display_data"
    },
    {
     "data": {
      "application/vnd.jupyter.widget-view+json": {
       "model_id": "bddb6fdd8e114f77ab8983376099f03c",
       "version_major": 2,
       "version_minor": 0
      },
      "text/plain": [
       "  0%|          | 0/9 [00:00<?, ?it/s]"
      ]
     },
     "metadata": {},
     "output_type": "display_data"
    },
    {
     "data": {
      "application/vnd.jupyter.widget-view+json": {
       "model_id": "b270e5e45e3f4f14803fc8ac6fde521e",
       "version_major": 2,
       "version_minor": 0
      },
      "text/plain": [
       "  0%|          | 0/9 [00:00<?, ?it/s]"
      ]
     },
     "metadata": {},
     "output_type": "display_data"
    },
    {
     "name": "stdout",
     "output_type": "stream",
     "text": [
      "CAPTCHA detected. Please solve the CAPTCHA manually or use an anti-CAPTCHA service.\n"
     ]
    },
    {
     "data": {
      "application/vnd.jupyter.widget-view+json": {
       "model_id": "7b6aa60885344de4a9aff921f57b4f9f",
       "version_major": 2,
       "version_minor": 0
      },
      "text/plain": [
       "0it [00:00, ?it/s]"
      ]
     },
     "metadata": {},
     "output_type": "display_data"
    },
    {
     "name": "stdout",
     "output_type": "stream",
     "text": [
      "CAPTCHA detected. Please solve the CAPTCHA manually or use an anti-CAPTCHA service.\n"
     ]
    },
    {
     "data": {
      "application/vnd.jupyter.widget-view+json": {
       "model_id": "54d045691e3d40d9a4484c35bea3ed50",
       "version_major": 2,
       "version_minor": 0
      },
      "text/plain": [
       "0it [00:00, ?it/s]"
      ]
     },
     "metadata": {},
     "output_type": "display_data"
    },
    {
     "name": "stdout",
     "output_type": "stream",
     "text": [
      "CAPTCHA detected. Please solve the CAPTCHA manually or use an anti-CAPTCHA service.\n"
     ]
    },
    {
     "data": {
      "application/vnd.jupyter.widget-view+json": {
       "model_id": "eba0f92b3c59419fba9aa2d7a42269df",
       "version_major": 2,
       "version_minor": 0
      },
      "text/plain": [
       "0it [00:00, ?it/s]"
      ]
     },
     "metadata": {},
     "output_type": "display_data"
    },
    {
     "name": "stdout",
     "output_type": "stream",
     "text": [
      "CAPTCHA detected. Please solve the CAPTCHA manually or use an anti-CAPTCHA service.\n"
     ]
    },
    {
     "data": {
      "application/vnd.jupyter.widget-view+json": {
       "model_id": "6de6d42a48574f6290a8bae8ab4c55d1",
       "version_major": 2,
       "version_minor": 0
      },
      "text/plain": [
       "0it [00:00, ?it/s]"
      ]
     },
     "metadata": {},
     "output_type": "display_data"
    },
    {
     "data": {
      "application/vnd.jupyter.widget-view+json": {
       "model_id": "bd82db0f0ddc47cf99a4032a880b73fb",
       "version_major": 2,
       "version_minor": 0
      },
      "text/plain": [
       "  0%|          | 0/9 [00:00<?, ?it/s]"
      ]
     },
     "metadata": {},
     "output_type": "display_data"
    },
    {
     "data": {
      "application/vnd.jupyter.widget-view+json": {
       "model_id": "11879cbee57c45a1bd2031ece8da6ba3",
       "version_major": 2,
       "version_minor": 0
      },
      "text/plain": [
       "  0%|          | 0/13 [00:00<?, ?it/s]"
      ]
     },
     "metadata": {},
     "output_type": "display_data"
    },
    {
     "name": "stdout",
     "output_type": "stream",
     "text": [
      "CAPTCHA detected. Please solve the CAPTCHA manually or use an anti-CAPTCHA service.\n"
     ]
    },
    {
     "data": {
      "application/vnd.jupyter.widget-view+json": {
       "model_id": "be5abfe3fd73444894438a147b6d572e",
       "version_major": 2,
       "version_minor": 0
      },
      "text/plain": [
       "0it [00:00, ?it/s]"
      ]
     },
     "metadata": {},
     "output_type": "display_data"
    },
    {
     "data": {
      "application/vnd.jupyter.widget-view+json": {
       "model_id": "a2d031c282ba44e796e31a7550c4482e",
       "version_major": 2,
       "version_minor": 0
      },
      "text/plain": [
       "  0%|          | 0/5 [00:00<?, ?it/s]"
      ]
     },
     "metadata": {},
     "output_type": "display_data"
    },
    {
     "data": {
      "application/vnd.jupyter.widget-view+json": {
       "model_id": "e82fadf8219d4a27bd3a344959efd2f9",
       "version_major": 2,
       "version_minor": 0
      },
      "text/plain": [
       "  0%|          | 0/8 [00:00<?, ?it/s]"
      ]
     },
     "metadata": {},
     "output_type": "display_data"
    },
    {
     "name": "stdout",
     "output_type": "stream",
     "text": [
      "CAPTCHA detected. Please solve the CAPTCHA manually or use an anti-CAPTCHA service.\n"
     ]
    },
    {
     "data": {
      "application/vnd.jupyter.widget-view+json": {
       "model_id": "8d22ca48153d4c4c9b9ddda013c253fa",
       "version_major": 2,
       "version_minor": 0
      },
      "text/plain": [
       "0it [00:00, ?it/s]"
      ]
     },
     "metadata": {},
     "output_type": "display_data"
    },
    {
     "name": "stdout",
     "output_type": "stream",
     "text": [
      "CAPTCHA detected. Please solve the CAPTCHA manually or use an anti-CAPTCHA service.\n"
     ]
    },
    {
     "data": {
      "application/vnd.jupyter.widget-view+json": {
       "model_id": "7cf57735a7ae4d6dafc5145e65deda92",
       "version_major": 2,
       "version_minor": 0
      },
      "text/plain": [
       "0it [00:00, ?it/s]"
      ]
     },
     "metadata": {},
     "output_type": "display_data"
    },
    {
     "name": "stdout",
     "output_type": "stream",
     "text": [
      "CAPTCHA detected. Please solve the CAPTCHA manually or use an anti-CAPTCHA service.\n"
     ]
    },
    {
     "data": {
      "application/vnd.jupyter.widget-view+json": {
       "model_id": "236fd2361895460ca0245509676acb92",
       "version_major": 2,
       "version_minor": 0
      },
      "text/plain": [
       "0it [00:00, ?it/s]"
      ]
     },
     "metadata": {},
     "output_type": "display_data"
    },
    {
     "name": "stdout",
     "output_type": "stream",
     "text": [
      "CAPTCHA detected. Please solve the CAPTCHA manually or use an anti-CAPTCHA service.\n"
     ]
    },
    {
     "data": {
      "application/vnd.jupyter.widget-view+json": {
       "model_id": "045560882567437faef02363e2526fbe",
       "version_major": 2,
       "version_minor": 0
      },
      "text/plain": [
       "0it [00:00, ?it/s]"
      ]
     },
     "metadata": {},
     "output_type": "display_data"
    },
    {
     "name": "stdout",
     "output_type": "stream",
     "text": [
      "CAPTCHA detected. Please solve the CAPTCHA manually or use an anti-CAPTCHA service.\n"
     ]
    },
    {
     "data": {
      "application/vnd.jupyter.widget-view+json": {
       "model_id": "8ec0df235da44850a2db207c77892de6",
       "version_major": 2,
       "version_minor": 0
      },
      "text/plain": [
       "0it [00:00, ?it/s]"
      ]
     },
     "metadata": {},
     "output_type": "display_data"
    },
    {
     "data": {
      "application/vnd.jupyter.widget-view+json": {
       "model_id": "b6d8e9ec91cb4b008b75118d4467d8c9",
       "version_major": 2,
       "version_minor": 0
      },
      "text/plain": [
       "  0%|          | 0/13 [00:00<?, ?it/s]"
      ]
     },
     "metadata": {},
     "output_type": "display_data"
    },
    {
     "name": "stdout",
     "output_type": "stream",
     "text": [
      "CAPTCHA detected. Please solve the CAPTCHA manually or use an anti-CAPTCHA service.\n"
     ]
    },
    {
     "data": {
      "application/vnd.jupyter.widget-view+json": {
       "model_id": "f794e921496645bc93256a939d44b778",
       "version_major": 2,
       "version_minor": 0
      },
      "text/plain": [
       "0it [00:00, ?it/s]"
      ]
     },
     "metadata": {},
     "output_type": "display_data"
    },
    {
     "data": {
      "application/vnd.jupyter.widget-view+json": {
       "model_id": "2736cdeabb54412bad3581d44bd29099",
       "version_major": 2,
       "version_minor": 0
      },
      "text/plain": [
       "  0%|          | 0/9 [00:00<?, ?it/s]"
      ]
     },
     "metadata": {},
     "output_type": "display_data"
    },
    {
     "data": {
      "application/vnd.jupyter.widget-view+json": {
       "model_id": "6b98f21befc741cb8554cc7983c06555",
       "version_major": 2,
       "version_minor": 0
      },
      "text/plain": [
       "  0%|          | 0/9 [00:00<?, ?it/s]"
      ]
     },
     "metadata": {},
     "output_type": "display_data"
    },
    {
     "data": {
      "application/vnd.jupyter.widget-view+json": {
       "model_id": "9f573fb7aa0f4b3481881ca4630c9e49",
       "version_major": 2,
       "version_minor": 0
      },
      "text/plain": [
       "  0%|          | 0/9 [00:00<?, ?it/s]"
      ]
     },
     "metadata": {},
     "output_type": "display_data"
    },
    {
     "data": {
      "application/vnd.jupyter.widget-view+json": {
       "model_id": "5ce39c4cc65a493f855d713f7fc9b84b",
       "version_major": 2,
       "version_minor": 0
      },
      "text/plain": [
       "  0%|          | 0/8 [00:00<?, ?it/s]"
      ]
     },
     "metadata": {},
     "output_type": "display_data"
    },
    {
     "name": "stdout",
     "output_type": "stream",
     "text": [
      "CAPTCHA detected. Please solve the CAPTCHA manually or use an anti-CAPTCHA service.\n"
     ]
    },
    {
     "data": {
      "application/vnd.jupyter.widget-view+json": {
       "model_id": "4996ce47460c412f90d98231330f6f8d",
       "version_major": 2,
       "version_minor": 0
      },
      "text/plain": [
       "0it [00:00, ?it/s]"
      ]
     },
     "metadata": {},
     "output_type": "display_data"
    },
    {
     "name": "stdout",
     "output_type": "stream",
     "text": [
      "CAPTCHA detected. Please solve the CAPTCHA manually or use an anti-CAPTCHA service.\n"
     ]
    },
    {
     "data": {
      "application/vnd.jupyter.widget-view+json": {
       "model_id": "0f817eca6717480dad94a43b1d375f15",
       "version_major": 2,
       "version_minor": 0
      },
      "text/plain": [
       "0it [00:00, ?it/s]"
      ]
     },
     "metadata": {},
     "output_type": "display_data"
    },
    {
     "data": {
      "application/vnd.jupyter.widget-view+json": {
       "model_id": "575999c346744804ac076c2127b25a90",
       "version_major": 2,
       "version_minor": 0
      },
      "text/plain": [
       "0it [00:00, ?it/s]"
      ]
     },
     "metadata": {},
     "output_type": "display_data"
    },
    {
     "name": "stdout",
     "output_type": "stream",
     "text": [
      "CAPTCHA detected. Please solve the CAPTCHA manually or use an anti-CAPTCHA service.\n"
     ]
    },
    {
     "data": {
      "application/vnd.jupyter.widget-view+json": {
       "model_id": "f546b8fcf8bb4b5d9e492c19c95ef6d8",
       "version_major": 2,
       "version_minor": 0
      },
      "text/plain": [
       "0it [00:00, ?it/s]"
      ]
     },
     "metadata": {},
     "output_type": "display_data"
    },
    {
     "name": "stdout",
     "output_type": "stream",
     "text": [
      "CAPTCHA detected. Please solve the CAPTCHA manually or use an anti-CAPTCHA service.\n"
     ]
    },
    {
     "data": {
      "application/vnd.jupyter.widget-view+json": {
       "model_id": "16e4e441c9634287a126f0f43d7ec577",
       "version_major": 2,
       "version_minor": 0
      },
      "text/plain": [
       "0it [00:00, ?it/s]"
      ]
     },
     "metadata": {},
     "output_type": "display_data"
    },
    {
     "data": {
      "application/vnd.jupyter.widget-view+json": {
       "model_id": "16fd7c9726da47cb986badb1b6fbc4a0",
       "version_major": 2,
       "version_minor": 0
      },
      "text/plain": [
       "  0%|          | 0/7 [00:00<?, ?it/s]"
      ]
     },
     "metadata": {},
     "output_type": "display_data"
    },
    {
     "name": "stdout",
     "output_type": "stream",
     "text": [
      "CAPTCHA detected. Please solve the CAPTCHA manually or use an anti-CAPTCHA service.\n"
     ]
    },
    {
     "data": {
      "application/vnd.jupyter.widget-view+json": {
       "model_id": "018c4f1103f041b984a2bce6a2e7b385",
       "version_major": 2,
       "version_minor": 0
      },
      "text/plain": [
       "0it [00:00, ?it/s]"
      ]
     },
     "metadata": {},
     "output_type": "display_data"
    },
    {
     "data": {
      "application/vnd.jupyter.widget-view+json": {
       "model_id": "729360440ce74f81a42f119819fa4bd2",
       "version_major": 2,
       "version_minor": 0
      },
      "text/plain": [
       "  0%|          | 0/13 [00:00<?, ?it/s]"
      ]
     },
     "metadata": {},
     "output_type": "display_data"
    },
    {
     "name": "stdout",
     "output_type": "stream",
     "text": [
      "CAPTCHA detected. Please solve the CAPTCHA manually or use an anti-CAPTCHA service.\n"
     ]
    },
    {
     "data": {
      "application/vnd.jupyter.widget-view+json": {
       "model_id": "ebda1597862b46e4a7f329d6c60473b1",
       "version_major": 2,
       "version_minor": 0
      },
      "text/plain": [
       "0it [00:00, ?it/s]"
      ]
     },
     "metadata": {},
     "output_type": "display_data"
    },
    {
     "name": "stdout",
     "output_type": "stream",
     "text": [
      "CAPTCHA detected. Please solve the CAPTCHA manually or use an anti-CAPTCHA service.\n"
     ]
    },
    {
     "data": {
      "application/vnd.jupyter.widget-view+json": {
       "model_id": "c8ca585e231a4d4fb65b43ccad317ed1",
       "version_major": 2,
       "version_minor": 0
      },
      "text/plain": [
       "0it [00:00, ?it/s]"
      ]
     },
     "metadata": {},
     "output_type": "display_data"
    },
    {
     "name": "stdout",
     "output_type": "stream",
     "text": [
      "CAPTCHA detected. Please solve the CAPTCHA manually or use an anti-CAPTCHA service.\n"
     ]
    },
    {
     "data": {
      "application/vnd.jupyter.widget-view+json": {
       "model_id": "eefc9643231e450581900c079b3658dc",
       "version_major": 2,
       "version_minor": 0
      },
      "text/plain": [
       "0it [00:00, ?it/s]"
      ]
     },
     "metadata": {},
     "output_type": "display_data"
    },
    {
     "name": "stdout",
     "output_type": "stream",
     "text": [
      "CAPTCHA detected. Please solve the CAPTCHA manually or use an anti-CAPTCHA service.\n"
     ]
    },
    {
     "data": {
      "application/vnd.jupyter.widget-view+json": {
       "model_id": "fafa39262038462090794fa694aa2fee",
       "version_major": 2,
       "version_minor": 0
      },
      "text/plain": [
       "0it [00:00, ?it/s]"
      ]
     },
     "metadata": {},
     "output_type": "display_data"
    },
    {
     "name": "stdout",
     "output_type": "stream",
     "text": [
      "CAPTCHA detected. Please solve the CAPTCHA manually or use an anti-CAPTCHA service.\n"
     ]
    },
    {
     "data": {
      "application/vnd.jupyter.widget-view+json": {
       "model_id": "276c4ee0f8994c0ba32f59446e0b6491",
       "version_major": 2,
       "version_minor": 0
      },
      "text/plain": [
       "0it [00:00, ?it/s]"
      ]
     },
     "metadata": {},
     "output_type": "display_data"
    },
    {
     "name": "stdout",
     "output_type": "stream",
     "text": [
      "CAPTCHA detected. Please solve the CAPTCHA manually or use an anti-CAPTCHA service.\n"
     ]
    },
    {
     "data": {
      "application/vnd.jupyter.widget-view+json": {
       "model_id": "5768384d0ee94e83b5b1dc3f6f8b16ab",
       "version_major": 2,
       "version_minor": 0
      },
      "text/plain": [
       "0it [00:00, ?it/s]"
      ]
     },
     "metadata": {},
     "output_type": "display_data"
    },
    {
     "name": "stdout",
     "output_type": "stream",
     "text": [
      "CAPTCHA detected. Please solve the CAPTCHA manually or use an anti-CAPTCHA service.\n"
     ]
    },
    {
     "data": {
      "application/vnd.jupyter.widget-view+json": {
       "model_id": "74399faf0b6a4b999bf7a3c4a5490950",
       "version_major": 2,
       "version_minor": 0
      },
      "text/plain": [
       "0it [00:00, ?it/s]"
      ]
     },
     "metadata": {},
     "output_type": "display_data"
    },
    {
     "name": "stdout",
     "output_type": "stream",
     "text": [
      "CAPTCHA detected. Please solve the CAPTCHA manually or use an anti-CAPTCHA service.\n"
     ]
    },
    {
     "data": {
      "application/vnd.jupyter.widget-view+json": {
       "model_id": "bebfb072f03242438f6d765c37fff69c",
       "version_major": 2,
       "version_minor": 0
      },
      "text/plain": [
       "0it [00:00, ?it/s]"
      ]
     },
     "metadata": {},
     "output_type": "display_data"
    },
    {
     "data": {
      "application/vnd.jupyter.widget-view+json": {
       "model_id": "7e1a49fe065848efa386d31f4386c87c",
       "version_major": 2,
       "version_minor": 0
      },
      "text/plain": [
       "  0%|          | 0/8 [00:00<?, ?it/s]"
      ]
     },
     "metadata": {},
     "output_type": "display_data"
    },
    {
     "data": {
      "application/vnd.jupyter.widget-view+json": {
       "model_id": "fe80c97af78a4c7fa05c7d405b0bc76b",
       "version_major": 2,
       "version_minor": 0
      },
      "text/plain": [
       "  0%|          | 0/13 [00:00<?, ?it/s]"
      ]
     },
     "metadata": {},
     "output_type": "display_data"
    },
    {
     "data": {
      "application/vnd.jupyter.widget-view+json": {
       "model_id": "bbd14101f89348b6ba689be29a78c321",
       "version_major": 2,
       "version_minor": 0
      },
      "text/plain": [
       "  0%|          | 0/9 [00:00<?, ?it/s]"
      ]
     },
     "metadata": {},
     "output_type": "display_data"
    },
    {
     "data": {
      "application/vnd.jupyter.widget-view+json": {
       "model_id": "f8d168b5d82b46edafbd1411acd4079a",
       "version_major": 2,
       "version_minor": 0
      },
      "text/plain": [
       "  0%|          | 0/8 [00:00<?, ?it/s]"
      ]
     },
     "metadata": {},
     "output_type": "display_data"
    },
    {
     "name": "stdout",
     "output_type": "stream",
     "text": [
      "CAPTCHA detected. Please solve the CAPTCHA manually or use an anti-CAPTCHA service.\n"
     ]
    },
    {
     "data": {
      "application/vnd.jupyter.widget-view+json": {
       "model_id": "2bb1ff02ad9e450bbdb6bede0b088a05",
       "version_major": 2,
       "version_minor": 0
      },
      "text/plain": [
       "0it [00:00, ?it/s]"
      ]
     },
     "metadata": {},
     "output_type": "display_data"
    },
    {
     "data": {
      "application/vnd.jupyter.widget-view+json": {
       "model_id": "1da5d05095e24d61919eba389d04ea9b",
       "version_major": 2,
       "version_minor": 0
      },
      "text/plain": [
       "  0%|          | 0/6 [00:00<?, ?it/s]"
      ]
     },
     "metadata": {},
     "output_type": "display_data"
    },
    {
     "data": {
      "application/vnd.jupyter.widget-view+json": {
       "model_id": "c92adb187a9f496d9e225358dd4e2737",
       "version_major": 2,
       "version_minor": 0
      },
      "text/plain": [
       "  0%|          | 0/8 [00:00<?, ?it/s]"
      ]
     },
     "metadata": {},
     "output_type": "display_data"
    },
    {
     "name": "stdout",
     "output_type": "stream",
     "text": [
      "CAPTCHA detected. Please solve the CAPTCHA manually or use an anti-CAPTCHA service.\n"
     ]
    },
    {
     "data": {
      "application/vnd.jupyter.widget-view+json": {
       "model_id": "01f86750e64740d98e72ed95b9df3b4a",
       "version_major": 2,
       "version_minor": 0
      },
      "text/plain": [
       "0it [00:00, ?it/s]"
      ]
     },
     "metadata": {},
     "output_type": "display_data"
    },
    {
     "name": "stdout",
     "output_type": "stream",
     "text": [
      "CAPTCHA detected. Please solve the CAPTCHA manually or use an anti-CAPTCHA service.\n"
     ]
    },
    {
     "data": {
      "application/vnd.jupyter.widget-view+json": {
       "model_id": "1978e5cdfa9e4d469fd80440fb76178e",
       "version_major": 2,
       "version_minor": 0
      },
      "text/plain": [
       "0it [00:00, ?it/s]"
      ]
     },
     "metadata": {},
     "output_type": "display_data"
    },
    {
     "name": "stdout",
     "output_type": "stream",
     "text": [
      "CAPTCHA detected. Please solve the CAPTCHA manually or use an anti-CAPTCHA service.\n"
     ]
    },
    {
     "data": {
      "application/vnd.jupyter.widget-view+json": {
       "model_id": "777406c0c6fb451e9ac93a243c5e1961",
       "version_major": 2,
       "version_minor": 0
      },
      "text/plain": [
       "0it [00:00, ?it/s]"
      ]
     },
     "metadata": {},
     "output_type": "display_data"
    },
    {
     "data": {
      "application/vnd.jupyter.widget-view+json": {
       "model_id": "0c575f0f8854469ea7da6a918b8c61a8",
       "version_major": 2,
       "version_minor": 0
      },
      "text/plain": [
       "  0%|          | 0/12 [00:00<?, ?it/s]"
      ]
     },
     "metadata": {},
     "output_type": "display_data"
    },
    {
     "data": {
      "application/vnd.jupyter.widget-view+json": {
       "model_id": "c5f5f4e41018429b94e2607a969c12b1",
       "version_major": 2,
       "version_minor": 0
      },
      "text/plain": [
       "  0%|          | 0/8 [00:00<?, ?it/s]"
      ]
     },
     "metadata": {},
     "output_type": "display_data"
    },
    {
     "name": "stdout",
     "output_type": "stream",
     "text": [
      "CAPTCHA detected. Please solve the CAPTCHA manually or use an anti-CAPTCHA service.\n"
     ]
    },
    {
     "data": {
      "application/vnd.jupyter.widget-view+json": {
       "model_id": "958f2d801b1949cfb4c222dfd6b0d54a",
       "version_major": 2,
       "version_minor": 0
      },
      "text/plain": [
       "0it [00:00, ?it/s]"
      ]
     },
     "metadata": {},
     "output_type": "display_data"
    },
    {
     "name": "stdout",
     "output_type": "stream",
     "text": [
      "CAPTCHA detected. Please solve the CAPTCHA manually or use an anti-CAPTCHA service.\n"
     ]
    },
    {
     "data": {
      "application/vnd.jupyter.widget-view+json": {
       "model_id": "1e9c67e32e494d44880979061ad106b0",
       "version_major": 2,
       "version_minor": 0
      },
      "text/plain": [
       "0it [00:00, ?it/s]"
      ]
     },
     "metadata": {},
     "output_type": "display_data"
    },
    {
     "name": "stdout",
     "output_type": "stream",
     "text": [
      "CAPTCHA detected. Please solve the CAPTCHA manually or use an anti-CAPTCHA service.\n"
     ]
    },
    {
     "data": {
      "application/vnd.jupyter.widget-view+json": {
       "model_id": "446d35a9f8b44c2b9e8ddebd54ac82b8",
       "version_major": 2,
       "version_minor": 0
      },
      "text/plain": [
       "0it [00:00, ?it/s]"
      ]
     },
     "metadata": {},
     "output_type": "display_data"
    },
    {
     "data": {
      "application/vnd.jupyter.widget-view+json": {
       "model_id": "beb55bf6810845cda87e87af009f2ba2",
       "version_major": 2,
       "version_minor": 0
      },
      "text/plain": [
       "  0%|          | 0/8 [00:00<?, ?it/s]"
      ]
     },
     "metadata": {},
     "output_type": "display_data"
    },
    {
     "name": "stdout",
     "output_type": "stream",
     "text": [
      "CAPTCHA detected. Please solve the CAPTCHA manually or use an anti-CAPTCHA service.\n"
     ]
    },
    {
     "data": {
      "application/vnd.jupyter.widget-view+json": {
       "model_id": "e26d633b8281443cb29ab48631dc7136",
       "version_major": 2,
       "version_minor": 0
      },
      "text/plain": [
       "0it [00:00, ?it/s]"
      ]
     },
     "metadata": {},
     "output_type": "display_data"
    },
    {
     "name": "stdout",
     "output_type": "stream",
     "text": [
      "CAPTCHA detected. Please solve the CAPTCHA manually or use an anti-CAPTCHA service.\n"
     ]
    },
    {
     "data": {
      "application/vnd.jupyter.widget-view+json": {
       "model_id": "5f7b3fb0c5904c229c35492ec3a599b3",
       "version_major": 2,
       "version_minor": 0
      },
      "text/plain": [
       "0it [00:00, ?it/s]"
      ]
     },
     "metadata": {},
     "output_type": "display_data"
    },
    {
     "data": {
      "application/vnd.jupyter.widget-view+json": {
       "model_id": "49aeb1eb4228469886d3446514bdcadc",
       "version_major": 2,
       "version_minor": 0
      },
      "text/plain": [
       "  0%|          | 0/13 [00:00<?, ?it/s]"
      ]
     },
     "metadata": {},
     "output_type": "display_data"
    },
    {
     "name": "stdout",
     "output_type": "stream",
     "text": [
      "CAPTCHA detected. Please solve the CAPTCHA manually or use an anti-CAPTCHA service.\n"
     ]
    },
    {
     "data": {
      "application/vnd.jupyter.widget-view+json": {
       "model_id": "87cd86e8c2fd4048b02c0534cf4a67d6",
       "version_major": 2,
       "version_minor": 0
      },
      "text/plain": [
       "0it [00:00, ?it/s]"
      ]
     },
     "metadata": {},
     "output_type": "display_data"
    },
    {
     "data": {
      "application/vnd.jupyter.widget-view+json": {
       "model_id": "5a6c14905fae43d68d8ad02a0c4e868c",
       "version_major": 2,
       "version_minor": 0
      },
      "text/plain": [
       "  0%|          | 0/10 [00:00<?, ?it/s]"
      ]
     },
     "metadata": {},
     "output_type": "display_data"
    },
    {
     "data": {
      "application/vnd.jupyter.widget-view+json": {
       "model_id": "84939e2c949543f881923f24d256315a",
       "version_major": 2,
       "version_minor": 0
      },
      "text/plain": [
       "  0%|          | 0/9 [00:00<?, ?it/s]"
      ]
     },
     "metadata": {},
     "output_type": "display_data"
    },
    {
     "data": {
      "application/vnd.jupyter.widget-view+json": {
       "model_id": "1846574439424adca5cdeae56b124ab5",
       "version_major": 2,
       "version_minor": 0
      },
      "text/plain": [
       "  0%|          | 0/9 [00:00<?, ?it/s]"
      ]
     },
     "metadata": {},
     "output_type": "display_data"
    },
    {
     "data": {
      "application/vnd.jupyter.widget-view+json": {
       "model_id": "c2fdb3d4f7414541a2309c37c3574300",
       "version_major": 2,
       "version_minor": 0
      },
      "text/plain": [
       "  0%|          | 0/13 [00:00<?, ?it/s]"
      ]
     },
     "metadata": {},
     "output_type": "display_data"
    },
    {
     "data": {
      "application/vnd.jupyter.widget-view+json": {
       "model_id": "d962494bd67b451d9296f0432f967d05",
       "version_major": 2,
       "version_minor": 0
      },
      "text/plain": [
       "  0%|          | 0/13 [00:00<?, ?it/s]"
      ]
     },
     "metadata": {},
     "output_type": "display_data"
    },
    {
     "data": {
      "application/vnd.jupyter.widget-view+json": {
       "model_id": "3cdb187886b5423eb4106ad0d59e1fb7",
       "version_major": 2,
       "version_minor": 0
      },
      "text/plain": [
       "  0%|          | 0/13 [00:00<?, ?it/s]"
      ]
     },
     "metadata": {},
     "output_type": "display_data"
    },
    {
     "name": "stdout",
     "output_type": "stream",
     "text": [
      "CAPTCHA detected. Please solve the CAPTCHA manually or use an anti-CAPTCHA service.\n"
     ]
    },
    {
     "data": {
      "application/vnd.jupyter.widget-view+json": {
       "model_id": "2396360ae211418ab42099c051537782",
       "version_major": 2,
       "version_minor": 0
      },
      "text/plain": [
       "0it [00:00, ?it/s]"
      ]
     },
     "metadata": {},
     "output_type": "display_data"
    },
    {
     "name": "stdout",
     "output_type": "stream",
     "text": [
      "CAPTCHA detected. Please solve the CAPTCHA manually or use an anti-CAPTCHA service.\n"
     ]
    },
    {
     "data": {
      "application/vnd.jupyter.widget-view+json": {
       "model_id": "437fdf4b90504128b1f51db855cbc747",
       "version_major": 2,
       "version_minor": 0
      },
      "text/plain": [
       "0it [00:00, ?it/s]"
      ]
     },
     "metadata": {},
     "output_type": "display_data"
    },
    {
     "name": "stdout",
     "output_type": "stream",
     "text": [
      "CAPTCHA detected. Please solve the CAPTCHA manually or use an anti-CAPTCHA service.\n"
     ]
    },
    {
     "data": {
      "application/vnd.jupyter.widget-view+json": {
       "model_id": "8eef8db035df44c3983e20ad1a723af0",
       "version_major": 2,
       "version_minor": 0
      },
      "text/plain": [
       "0it [00:00, ?it/s]"
      ]
     },
     "metadata": {},
     "output_type": "display_data"
    },
    {
     "name": "stdout",
     "output_type": "stream",
     "text": [
      "CAPTCHA detected. Please solve the CAPTCHA manually or use an anti-CAPTCHA service.\n"
     ]
    },
    {
     "data": {
      "application/vnd.jupyter.widget-view+json": {
       "model_id": "8492da74cf96463592463d6c34734b5b",
       "version_major": 2,
       "version_minor": 0
      },
      "text/plain": [
       "0it [00:00, ?it/s]"
      ]
     },
     "metadata": {},
     "output_type": "display_data"
    },
    {
     "name": "stdout",
     "output_type": "stream",
     "text": [
      "CAPTCHA detected. Please solve the CAPTCHA manually or use an anti-CAPTCHA service.\n"
     ]
    },
    {
     "data": {
      "application/vnd.jupyter.widget-view+json": {
       "model_id": "347cc9bc6d1846d2a37710aefcdb1461",
       "version_major": 2,
       "version_minor": 0
      },
      "text/plain": [
       "0it [00:00, ?it/s]"
      ]
     },
     "metadata": {},
     "output_type": "display_data"
    },
    {
     "name": "stdout",
     "output_type": "stream",
     "text": [
      "CAPTCHA detected. Please solve the CAPTCHA manually or use an anti-CAPTCHA service.\n"
     ]
    },
    {
     "data": {
      "application/vnd.jupyter.widget-view+json": {
       "model_id": "0252228f2f41441296c081940edb8cda",
       "version_major": 2,
       "version_minor": 0
      },
      "text/plain": [
       "0it [00:00, ?it/s]"
      ]
     },
     "metadata": {},
     "output_type": "display_data"
    },
    {
     "data": {
      "application/vnd.jupyter.widget-view+json": {
       "model_id": "bedf51ca2213450e987294c165a22c07",
       "version_major": 2,
       "version_minor": 0
      },
      "text/plain": [
       "  0%|          | 0/8 [00:00<?, ?it/s]"
      ]
     },
     "metadata": {},
     "output_type": "display_data"
    },
    {
     "data": {
      "application/vnd.jupyter.widget-view+json": {
       "model_id": "b3be9ce1b515485e909cbdb4c38b0778",
       "version_major": 2,
       "version_minor": 0
      },
      "text/plain": [
       "  0%|          | 0/9 [00:00<?, ?it/s]"
      ]
     },
     "metadata": {},
     "output_type": "display_data"
    },
    {
     "data": {
      "application/vnd.jupyter.widget-view+json": {
       "model_id": "442cc9d4022e4cdc8c436f9a056d738e",
       "version_major": 2,
       "version_minor": 0
      },
      "text/plain": [
       "  0%|          | 0/1 [00:00<?, ?it/s]"
      ]
     },
     "metadata": {},
     "output_type": "display_data"
    },
    {
     "name": "stdout",
     "output_type": "stream",
     "text": [
      "CAPTCHA detected. Please solve the CAPTCHA manually or use an anti-CAPTCHA service.\n"
     ]
    },
    {
     "data": {
      "application/vnd.jupyter.widget-view+json": {
       "model_id": "282f915cfe934f83a98b89950dc88dbd",
       "version_major": 2,
       "version_minor": 0
      },
      "text/plain": [
       "0it [00:00, ?it/s]"
      ]
     },
     "metadata": {},
     "output_type": "display_data"
    },
    {
     "data": {
      "application/vnd.jupyter.widget-view+json": {
       "model_id": "62ce16235774496aae38eb5b8b3ccd54",
       "version_major": 2,
       "version_minor": 0
      },
      "text/plain": [
       "  0%|          | 0/13 [00:00<?, ?it/s]"
      ]
     },
     "metadata": {},
     "output_type": "display_data"
    },
    {
     "name": "stdout",
     "output_type": "stream",
     "text": [
      "CAPTCHA detected. Please solve the CAPTCHA manually or use an anti-CAPTCHA service.\n"
     ]
    },
    {
     "data": {
      "application/vnd.jupyter.widget-view+json": {
       "model_id": "651f302627094cdc97d022fa060e6526",
       "version_major": 2,
       "version_minor": 0
      },
      "text/plain": [
       "0it [00:00, ?it/s]"
      ]
     },
     "metadata": {},
     "output_type": "display_data"
    },
    {
     "name": "stdout",
     "output_type": "stream",
     "text": [
      "CAPTCHA detected. Please solve the CAPTCHA manually or use an anti-CAPTCHA service.\n"
     ]
    },
    {
     "data": {
      "application/vnd.jupyter.widget-view+json": {
       "model_id": "bdeeaf922ac940138f987622796d2355",
       "version_major": 2,
       "version_minor": 0
      },
      "text/plain": [
       "0it [00:00, ?it/s]"
      ]
     },
     "metadata": {},
     "output_type": "display_data"
    },
    {
     "data": {
      "application/vnd.jupyter.widget-view+json": {
       "model_id": "331c58fa546b49f9aebfc1808d14b5e0",
       "version_major": 2,
       "version_minor": 0
      },
      "text/plain": [
       "  0%|          | 0/13 [00:00<?, ?it/s]"
      ]
     },
     "metadata": {},
     "output_type": "display_data"
    },
    {
     "name": "stdout",
     "output_type": "stream",
     "text": [
      "CAPTCHA detected. Please solve the CAPTCHA manually or use an anti-CAPTCHA service.\n"
     ]
    },
    {
     "data": {
      "application/vnd.jupyter.widget-view+json": {
       "model_id": "10291defd47f4bcc80f0aae76fcb6bad",
       "version_major": 2,
       "version_minor": 0
      },
      "text/plain": [
       "0it [00:00, ?it/s]"
      ]
     },
     "metadata": {},
     "output_type": "display_data"
    },
    {
     "data": {
      "application/vnd.jupyter.widget-view+json": {
       "model_id": "6adc6a8406724bee93a0e00e3c48ca5b",
       "version_major": 2,
       "version_minor": 0
      },
      "text/plain": [
       "0it [00:00, ?it/s]"
      ]
     },
     "metadata": {},
     "output_type": "display_data"
    },
    {
     "data": {
      "application/vnd.jupyter.widget-view+json": {
       "model_id": "12801a8fe21a4a3babcaa01d63b3d477",
       "version_major": 2,
       "version_minor": 0
      },
      "text/plain": [
       "  0%|          | 0/5 [00:00<?, ?it/s]"
      ]
     },
     "metadata": {},
     "output_type": "display_data"
    },
    {
     "data": {
      "application/vnd.jupyter.widget-view+json": {
       "model_id": "1ba08d13ce2b40b7afdf147c1ebe1f8b",
       "version_major": 2,
       "version_minor": 0
      },
      "text/plain": [
       "  0%|          | 0/9 [00:00<?, ?it/s]"
      ]
     },
     "metadata": {},
     "output_type": "display_data"
    },
    {
     "data": {
      "application/vnd.jupyter.widget-view+json": {
       "model_id": "75147fdcffc94c2f805b3253ef443e1e",
       "version_major": 2,
       "version_minor": 0
      },
      "text/plain": [
       "  0%|          | 0/8 [00:00<?, ?it/s]"
      ]
     },
     "metadata": {},
     "output_type": "display_data"
    },
    {
     "name": "stdout",
     "output_type": "stream",
     "text": [
      "CAPTCHA detected. Please solve the CAPTCHA manually or use an anti-CAPTCHA service.\n"
     ]
    },
    {
     "data": {
      "application/vnd.jupyter.widget-view+json": {
       "model_id": "b56cd31f85fa45d490c00f5710508f61",
       "version_major": 2,
       "version_minor": 0
      },
      "text/plain": [
       "0it [00:00, ?it/s]"
      ]
     },
     "metadata": {},
     "output_type": "display_data"
    },
    {
     "name": "stdout",
     "output_type": "stream",
     "text": [
      "CAPTCHA detected. Please solve the CAPTCHA manually or use an anti-CAPTCHA service.\n"
     ]
    },
    {
     "data": {
      "application/vnd.jupyter.widget-view+json": {
       "model_id": "b1e8477058014a9ca074fca4a00a695d",
       "version_major": 2,
       "version_minor": 0
      },
      "text/plain": [
       "0it [00:00, ?it/s]"
      ]
     },
     "metadata": {},
     "output_type": "display_data"
    },
    {
     "name": "stdout",
     "output_type": "stream",
     "text": [
      "CAPTCHA detected. Please solve the CAPTCHA manually or use an anti-CAPTCHA service.\n"
     ]
    },
    {
     "data": {
      "application/vnd.jupyter.widget-view+json": {
       "model_id": "79c564e9cf2a405ca25272c598b4cddc",
       "version_major": 2,
       "version_minor": 0
      },
      "text/plain": [
       "0it [00:00, ?it/s]"
      ]
     },
     "metadata": {},
     "output_type": "display_data"
    },
    {
     "name": "stdout",
     "output_type": "stream",
     "text": [
      "CAPTCHA detected. Please solve the CAPTCHA manually or use an anti-CAPTCHA service.\n"
     ]
    },
    {
     "data": {
      "application/vnd.jupyter.widget-view+json": {
       "model_id": "dd6a43fcc5ca4a8a9800aeebd29420a8",
       "version_major": 2,
       "version_minor": 0
      },
      "text/plain": [
       "0it [00:00, ?it/s]"
      ]
     },
     "metadata": {},
     "output_type": "display_data"
    },
    {
     "name": "stdout",
     "output_type": "stream",
     "text": [
      "CAPTCHA detected. Please solve the CAPTCHA manually or use an anti-CAPTCHA service.\n"
     ]
    },
    {
     "data": {
      "application/vnd.jupyter.widget-view+json": {
       "model_id": "b509cd912970443a9b699e303b042cd5",
       "version_major": 2,
       "version_minor": 0
      },
      "text/plain": [
       "0it [00:00, ?it/s]"
      ]
     },
     "metadata": {},
     "output_type": "display_data"
    },
    {
     "name": "stdout",
     "output_type": "stream",
     "text": [
      "CAPTCHA detected. Please solve the CAPTCHA manually or use an anti-CAPTCHA service.\n"
     ]
    },
    {
     "data": {
      "application/vnd.jupyter.widget-view+json": {
       "model_id": "01b44e99e20e48fc98f58cc2950e8059",
       "version_major": 2,
       "version_minor": 0
      },
      "text/plain": [
       "0it [00:00, ?it/s]"
      ]
     },
     "metadata": {},
     "output_type": "display_data"
    },
    {
     "name": "stdout",
     "output_type": "stream",
     "text": [
      "CAPTCHA detected. Please solve the CAPTCHA manually or use an anti-CAPTCHA service.\n"
     ]
    },
    {
     "data": {
      "application/vnd.jupyter.widget-view+json": {
       "model_id": "3bce6f2633c04c3099210dccf9ed3b02",
       "version_major": 2,
       "version_minor": 0
      },
      "text/plain": [
       "0it [00:00, ?it/s]"
      ]
     },
     "metadata": {},
     "output_type": "display_data"
    },
    {
     "data": {
      "application/vnd.jupyter.widget-view+json": {
       "model_id": "3251355d58d1458292eb97cfcf7c43fb",
       "version_major": 2,
       "version_minor": 0
      },
      "text/plain": [
       "  0%|          | 0/13 [00:00<?, ?it/s]"
      ]
     },
     "metadata": {},
     "output_type": "display_data"
    },
    {
     "data": {
      "application/vnd.jupyter.widget-view+json": {
       "model_id": "7bcaa0d8fb33426e991811ca37412979",
       "version_major": 2,
       "version_minor": 0
      },
      "text/plain": [
       "  0%|          | 0/10 [00:00<?, ?it/s]"
      ]
     },
     "metadata": {},
     "output_type": "display_data"
    },
    {
     "name": "stdout",
     "output_type": "stream",
     "text": [
      "CAPTCHA detected. Please solve the CAPTCHA manually or use an anti-CAPTCHA service.\n"
     ]
    },
    {
     "data": {
      "application/vnd.jupyter.widget-view+json": {
       "model_id": "a144ddd8e9ca47c09ecb66e4cecec1b1",
       "version_major": 2,
       "version_minor": 0
      },
      "text/plain": [
       "0it [00:00, ?it/s]"
      ]
     },
     "metadata": {},
     "output_type": "display_data"
    },
    {
     "name": "stdout",
     "output_type": "stream",
     "text": [
      "CAPTCHA detected. Please solve the CAPTCHA manually or use an anti-CAPTCHA service.\n"
     ]
    },
    {
     "data": {
      "application/vnd.jupyter.widget-view+json": {
       "model_id": "99974ca566ef4f589c5d9f3343f3457c",
       "version_major": 2,
       "version_minor": 0
      },
      "text/plain": [
       "0it [00:00, ?it/s]"
      ]
     },
     "metadata": {},
     "output_type": "display_data"
    },
    {
     "name": "stdout",
     "output_type": "stream",
     "text": [
      "CAPTCHA detected. Please solve the CAPTCHA manually or use an anti-CAPTCHA service.\n"
     ]
    },
    {
     "data": {
      "application/vnd.jupyter.widget-view+json": {
       "model_id": "c101922ab5024977b72735d648f285ad",
       "version_major": 2,
       "version_minor": 0
      },
      "text/plain": [
       "0it [00:00, ?it/s]"
      ]
     },
     "metadata": {},
     "output_type": "display_data"
    },
    {
     "name": "stdout",
     "output_type": "stream",
     "text": [
      "CAPTCHA detected. Please solve the CAPTCHA manually or use an anti-CAPTCHA service.\n"
     ]
    },
    {
     "data": {
      "application/vnd.jupyter.widget-view+json": {
       "model_id": "1a36dfb25a0d43a89554aea08412bcc4",
       "version_major": 2,
       "version_minor": 0
      },
      "text/plain": [
       "0it [00:00, ?it/s]"
      ]
     },
     "metadata": {},
     "output_type": "display_data"
    },
    {
     "name": "stdout",
     "output_type": "stream",
     "text": [
      "CAPTCHA detected. Please solve the CAPTCHA manually or use an anti-CAPTCHA service.\n"
     ]
    },
    {
     "data": {
      "application/vnd.jupyter.widget-view+json": {
       "model_id": "4271812c4e1d4f62aa0ede7ff6a7ad1a",
       "version_major": 2,
       "version_minor": 0
      },
      "text/plain": [
       "0it [00:00, ?it/s]"
      ]
     },
     "metadata": {},
     "output_type": "display_data"
    },
    {
     "name": "stdout",
     "output_type": "stream",
     "text": [
      "CAPTCHA detected. Please solve the CAPTCHA manually or use an anti-CAPTCHA service.\n"
     ]
    },
    {
     "data": {
      "application/vnd.jupyter.widget-view+json": {
       "model_id": "4925e3d195bf4a749bcf04b7d920b137",
       "version_major": 2,
       "version_minor": 0
      },
      "text/plain": [
       "0it [00:00, ?it/s]"
      ]
     },
     "metadata": {},
     "output_type": "display_data"
    },
    {
     "name": "stdout",
     "output_type": "stream",
     "text": [
      "CAPTCHA detected. Please solve the CAPTCHA manually or use an anti-CAPTCHA service.\n"
     ]
    },
    {
     "data": {
      "application/vnd.jupyter.widget-view+json": {
       "model_id": "bb44313c1deb4b96bbf3e0b56d73852c",
       "version_major": 2,
       "version_minor": 0
      },
      "text/plain": [
       "0it [00:00, ?it/s]"
      ]
     },
     "metadata": {},
     "output_type": "display_data"
    },
    {
     "data": {
      "application/vnd.jupyter.widget-view+json": {
       "model_id": "e10fbb789c284cceb83579a5baf9d55f",
       "version_major": 2,
       "version_minor": 0
      },
      "text/plain": [
       "  0%|          | 0/6 [00:00<?, ?it/s]"
      ]
     },
     "metadata": {},
     "output_type": "display_data"
    },
    {
     "data": {
      "application/vnd.jupyter.widget-view+json": {
       "model_id": "526b62e071be43d685cf12f45728d936",
       "version_major": 2,
       "version_minor": 0
      },
      "text/plain": [
       "  0%|          | 0/8 [00:00<?, ?it/s]"
      ]
     },
     "metadata": {},
     "output_type": "display_data"
    },
    {
     "data": {
      "application/vnd.jupyter.widget-view+json": {
       "model_id": "d2286cf5f5674703ae54872562062306",
       "version_major": 2,
       "version_minor": 0
      },
      "text/plain": [
       "  0%|          | 0/3 [00:00<?, ?it/s]"
      ]
     },
     "metadata": {},
     "output_type": "display_data"
    },
    {
     "data": {
      "application/vnd.jupyter.widget-view+json": {
       "model_id": "c3b4a6eeb9444d36a6a43016cd15135c",
       "version_major": 2,
       "version_minor": 0
      },
      "text/plain": [
       "  0%|          | 0/5 [00:00<?, ?it/s]"
      ]
     },
     "metadata": {},
     "output_type": "display_data"
    },
    {
     "name": "stdout",
     "output_type": "stream",
     "text": [
      "CAPTCHA detected. Please solve the CAPTCHA manually or use an anti-CAPTCHA service.\n"
     ]
    },
    {
     "data": {
      "application/vnd.jupyter.widget-view+json": {
       "model_id": "08d4d19d59444303996531f91503450e",
       "version_major": 2,
       "version_minor": 0
      },
      "text/plain": [
       "0it [00:00, ?it/s]"
      ]
     },
     "metadata": {},
     "output_type": "display_data"
    },
    {
     "name": "stdout",
     "output_type": "stream",
     "text": [
      "CAPTCHA detected. Please solve the CAPTCHA manually or use an anti-CAPTCHA service.\n"
     ]
    },
    {
     "data": {
      "application/vnd.jupyter.widget-view+json": {
       "model_id": "b9b85bfcfd3f4b8eb987f229377da1b0",
       "version_major": 2,
       "version_minor": 0
      },
      "text/plain": [
       "0it [00:00, ?it/s]"
      ]
     },
     "metadata": {},
     "output_type": "display_data"
    },
    {
     "name": "stdout",
     "output_type": "stream",
     "text": [
      "CAPTCHA detected. Please solve the CAPTCHA manually or use an anti-CAPTCHA service.\n"
     ]
    },
    {
     "data": {
      "application/vnd.jupyter.widget-view+json": {
       "model_id": "bda6ff52934044119e23375862471190",
       "version_major": 2,
       "version_minor": 0
      },
      "text/plain": [
       "0it [00:00, ?it/s]"
      ]
     },
     "metadata": {},
     "output_type": "display_data"
    },
    {
     "name": "stdout",
     "output_type": "stream",
     "text": [
      "CAPTCHA detected. Please solve the CAPTCHA manually or use an anti-CAPTCHA service.\n"
     ]
    },
    {
     "data": {
      "application/vnd.jupyter.widget-view+json": {
       "model_id": "bcb105237f374c92b46c02c73b20daab",
       "version_major": 2,
       "version_minor": 0
      },
      "text/plain": [
       "0it [00:00, ?it/s]"
      ]
     },
     "metadata": {},
     "output_type": "display_data"
    },
    {
     "name": "stdout",
     "output_type": "stream",
     "text": [
      "CAPTCHA detected. Please solve the CAPTCHA manually or use an anti-CAPTCHA service.\n"
     ]
    },
    {
     "data": {
      "application/vnd.jupyter.widget-view+json": {
       "model_id": "f39f042d30ba4042ba45966ac66938bd",
       "version_major": 2,
       "version_minor": 0
      },
      "text/plain": [
       "0it [00:00, ?it/s]"
      ]
     },
     "metadata": {},
     "output_type": "display_data"
    },
    {
     "data": {
      "application/vnd.jupyter.widget-view+json": {
       "model_id": "740da3d3d6a54babb4da7395aef09a0b",
       "version_major": 2,
       "version_minor": 0
      },
      "text/plain": [
       "  0%|          | 0/8 [00:00<?, ?it/s]"
      ]
     },
     "metadata": {},
     "output_type": "display_data"
    },
    {
     "name": "stdout",
     "output_type": "stream",
     "text": [
      "CAPTCHA detected. Please solve the CAPTCHA manually or use an anti-CAPTCHA service.\n"
     ]
    },
    {
     "data": {
      "application/vnd.jupyter.widget-view+json": {
       "model_id": "71dc0ee049b74a67bdd024b106915158",
       "version_major": 2,
       "version_minor": 0
      },
      "text/plain": [
       "0it [00:00, ?it/s]"
      ]
     },
     "metadata": {},
     "output_type": "display_data"
    },
    {
     "data": {
      "application/vnd.jupyter.widget-view+json": {
       "model_id": "0fcfb8258ec84180a94a8ff54379a904",
       "version_major": 2,
       "version_minor": 0
      },
      "text/plain": [
       "  0%|          | 0/9 [00:00<?, ?it/s]"
      ]
     },
     "metadata": {},
     "output_type": "display_data"
    },
    {
     "data": {
      "application/vnd.jupyter.widget-view+json": {
       "model_id": "bebb10a6d4914ba48ffd1e7e1cfc3087",
       "version_major": 2,
       "version_minor": 0
      },
      "text/plain": [
       "  0%|          | 0/9 [00:00<?, ?it/s]"
      ]
     },
     "metadata": {},
     "output_type": "display_data"
    },
    {
     "name": "stdout",
     "output_type": "stream",
     "text": [
      "CAPTCHA detected. Please solve the CAPTCHA manually or use an anti-CAPTCHA service.\n"
     ]
    },
    {
     "data": {
      "application/vnd.jupyter.widget-view+json": {
       "model_id": "cb36d090673a43cf84ef85415ce985c4",
       "version_major": 2,
       "version_minor": 0
      },
      "text/plain": [
       "0it [00:00, ?it/s]"
      ]
     },
     "metadata": {},
     "output_type": "display_data"
    },
    {
     "name": "stdout",
     "output_type": "stream",
     "text": [
      "CAPTCHA detected. Please solve the CAPTCHA manually or use an anti-CAPTCHA service.\n"
     ]
    },
    {
     "data": {
      "application/vnd.jupyter.widget-view+json": {
       "model_id": "47cb0f0590374406a9a5482cbb898da4",
       "version_major": 2,
       "version_minor": 0
      },
      "text/plain": [
       "0it [00:00, ?it/s]"
      ]
     },
     "metadata": {},
     "output_type": "display_data"
    },
    {
     "name": "stdout",
     "output_type": "stream",
     "text": [
      "CAPTCHA detected. Please solve the CAPTCHA manually or use an anti-CAPTCHA service.\n"
     ]
    },
    {
     "data": {
      "application/vnd.jupyter.widget-view+json": {
       "model_id": "2bee61ada58f4529ae65c54aefabb615",
       "version_major": 2,
       "version_minor": 0
      },
      "text/plain": [
       "0it [00:00, ?it/s]"
      ]
     },
     "metadata": {},
     "output_type": "display_data"
    },
    {
     "name": "stdout",
     "output_type": "stream",
     "text": [
      "CAPTCHA detected. Please solve the CAPTCHA manually or use an anti-CAPTCHA service.\n"
     ]
    },
    {
     "data": {
      "application/vnd.jupyter.widget-view+json": {
       "model_id": "e2b0796f6cca451482be91af6e8a6c08",
       "version_major": 2,
       "version_minor": 0
      },
      "text/plain": [
       "0it [00:00, ?it/s]"
      ]
     },
     "metadata": {},
     "output_type": "display_data"
    },
    {
     "name": "stdout",
     "output_type": "stream",
     "text": [
      "CAPTCHA detected. Please solve the CAPTCHA manually or use an anti-CAPTCHA service.\n"
     ]
    },
    {
     "data": {
      "application/vnd.jupyter.widget-view+json": {
       "model_id": "28f5d1bd281c437e86915e52b04f3219",
       "version_major": 2,
       "version_minor": 0
      },
      "text/plain": [
       "0it [00:00, ?it/s]"
      ]
     },
     "metadata": {},
     "output_type": "display_data"
    },
    {
     "name": "stdout",
     "output_type": "stream",
     "text": [
      "CAPTCHA detected. Please solve the CAPTCHA manually or use an anti-CAPTCHA service.\n"
     ]
    },
    {
     "data": {
      "application/vnd.jupyter.widget-view+json": {
       "model_id": "680eb0753676437eba8befd336ec8839",
       "version_major": 2,
       "version_minor": 0
      },
      "text/plain": [
       "0it [00:00, ?it/s]"
      ]
     },
     "metadata": {},
     "output_type": "display_data"
    },
    {
     "name": "stdout",
     "output_type": "stream",
     "text": [
      "CAPTCHA detected. Please solve the CAPTCHA manually or use an anti-CAPTCHA service.\n"
     ]
    },
    {
     "data": {
      "application/vnd.jupyter.widget-view+json": {
       "model_id": "36c9cc8d44fd461b942e2e1b615e07fe",
       "version_major": 2,
       "version_minor": 0
      },
      "text/plain": [
       "0it [00:00, ?it/s]"
      ]
     },
     "metadata": {},
     "output_type": "display_data"
    },
    {
     "name": "stdout",
     "output_type": "stream",
     "text": [
      "CAPTCHA detected. Please solve the CAPTCHA manually or use an anti-CAPTCHA service.\n"
     ]
    },
    {
     "data": {
      "application/vnd.jupyter.widget-view+json": {
       "model_id": "d88a37d8e4354635801217be085b9c63",
       "version_major": 2,
       "version_minor": 0
      },
      "text/plain": [
       "0it [00:00, ?it/s]"
      ]
     },
     "metadata": {},
     "output_type": "display_data"
    },
    {
     "data": {
      "application/vnd.jupyter.widget-view+json": {
       "model_id": "eb2e41d57444429790da5796074a252f",
       "version_major": 2,
       "version_minor": 0
      },
      "text/plain": [
       "  0%|          | 0/8 [00:00<?, ?it/s]"
      ]
     },
     "metadata": {},
     "output_type": "display_data"
    },
    {
     "data": {
      "application/vnd.jupyter.widget-view+json": {
       "model_id": "a0af9344bdae4351a9b415dafa0af247",
       "version_major": 2,
       "version_minor": 0
      },
      "text/plain": [
       "  0%|          | 0/6 [00:00<?, ?it/s]"
      ]
     },
     "metadata": {},
     "output_type": "display_data"
    },
    {
     "data": {
      "application/vnd.jupyter.widget-view+json": {
       "model_id": "5e1fb10617cb43cc8369b307dc682d1d",
       "version_major": 2,
       "version_minor": 0
      },
      "text/plain": [
       "  0%|          | 0/9 [00:00<?, ?it/s]"
      ]
     },
     "metadata": {},
     "output_type": "display_data"
    },
    {
     "name": "stdout",
     "output_type": "stream",
     "text": [
      "CAPTCHA detected. Please solve the CAPTCHA manually or use an anti-CAPTCHA service.\n"
     ]
    },
    {
     "data": {
      "application/vnd.jupyter.widget-view+json": {
       "model_id": "54efb6819f1445e385971f242e66352c",
       "version_major": 2,
       "version_minor": 0
      },
      "text/plain": [
       "0it [00:00, ?it/s]"
      ]
     },
     "metadata": {},
     "output_type": "display_data"
    },
    {
     "name": "stdout",
     "output_type": "stream",
     "text": [
      "CAPTCHA detected. Please solve the CAPTCHA manually or use an anti-CAPTCHA service.\n"
     ]
    },
    {
     "data": {
      "application/vnd.jupyter.widget-view+json": {
       "model_id": "1a86f8aff1c644168cd0934f4691e027",
       "version_major": 2,
       "version_minor": 0
      },
      "text/plain": [
       "0it [00:00, ?it/s]"
      ]
     },
     "metadata": {},
     "output_type": "display_data"
    },
    {
     "name": "stdout",
     "output_type": "stream",
     "text": [
      "CAPTCHA detected. Please solve the CAPTCHA manually or use an anti-CAPTCHA service.\n"
     ]
    },
    {
     "data": {
      "application/vnd.jupyter.widget-view+json": {
       "model_id": "798273ac7535494c9236c95f46b1e695",
       "version_major": 2,
       "version_minor": 0
      },
      "text/plain": [
       "0it [00:00, ?it/s]"
      ]
     },
     "metadata": {},
     "output_type": "display_data"
    },
    {
     "name": "stdout",
     "output_type": "stream",
     "text": [
      "CAPTCHA detected. Please solve the CAPTCHA manually or use an anti-CAPTCHA service.\n"
     ]
    },
    {
     "data": {
      "application/vnd.jupyter.widget-view+json": {
       "model_id": "97dcc9e3f87b4f7ba116d0f432e95dec",
       "version_major": 2,
       "version_minor": 0
      },
      "text/plain": [
       "0it [00:00, ?it/s]"
      ]
     },
     "metadata": {},
     "output_type": "display_data"
    },
    {
     "data": {
      "application/vnd.jupyter.widget-view+json": {
       "model_id": "4d9e76eebe0c49e5bbbddf8beaa594e8",
       "version_major": 2,
       "version_minor": 0
      },
      "text/plain": [
       "  0%|          | 0/13 [00:00<?, ?it/s]"
      ]
     },
     "metadata": {},
     "output_type": "display_data"
    },
    {
     "name": "stdout",
     "output_type": "stream",
     "text": [
      "CAPTCHA detected. Please solve the CAPTCHA manually or use an anti-CAPTCHA service.\n"
     ]
    },
    {
     "data": {
      "application/vnd.jupyter.widget-view+json": {
       "model_id": "a8e96e339cc544a19d2de7c39ffc4831",
       "version_major": 2,
       "version_minor": 0
      },
      "text/plain": [
       "0it [00:00, ?it/s]"
      ]
     },
     "metadata": {},
     "output_type": "display_data"
    },
    {
     "name": "stdout",
     "output_type": "stream",
     "text": [
      "CAPTCHA detected. Please solve the CAPTCHA manually or use an anti-CAPTCHA service.\n"
     ]
    },
    {
     "data": {
      "application/vnd.jupyter.widget-view+json": {
       "model_id": "69ba4980342a4d499325302ddb857429",
       "version_major": 2,
       "version_minor": 0
      },
      "text/plain": [
       "0it [00:00, ?it/s]"
      ]
     },
     "metadata": {},
     "output_type": "display_data"
    },
    {
     "data": {
      "application/vnd.jupyter.widget-view+json": {
       "model_id": "914fc1b6b7b94646a3660196f0dc382b",
       "version_major": 2,
       "version_minor": 0
      },
      "text/plain": [
       "  0%|          | 0/9 [00:00<?, ?it/s]"
      ]
     },
     "metadata": {},
     "output_type": "display_data"
    },
    {
     "data": {
      "application/vnd.jupyter.widget-view+json": {
       "model_id": "cd80580620f046768e00cd770d3ed72f",
       "version_major": 2,
       "version_minor": 0
      },
      "text/plain": [
       "  0%|          | 0/8 [00:00<?, ?it/s]"
      ]
     },
     "metadata": {},
     "output_type": "display_data"
    },
    {
     "name": "stdout",
     "output_type": "stream",
     "text": [
      "CAPTCHA detected. Please solve the CAPTCHA manually or use an anti-CAPTCHA service.\n"
     ]
    },
    {
     "data": {
      "application/vnd.jupyter.widget-view+json": {
       "model_id": "81844c4f11494bb29a5c291e0f8c53ff",
       "version_major": 2,
       "version_minor": 0
      },
      "text/plain": [
       "0it [00:00, ?it/s]"
      ]
     },
     "metadata": {},
     "output_type": "display_data"
    },
    {
     "name": "stdout",
     "output_type": "stream",
     "text": [
      "CAPTCHA detected. Please solve the CAPTCHA manually or use an anti-CAPTCHA service.\n"
     ]
    },
    {
     "data": {
      "application/vnd.jupyter.widget-view+json": {
       "model_id": "53182403c8f648c7aeebdfb5d13dc8f6",
       "version_major": 2,
       "version_minor": 0
      },
      "text/plain": [
       "0it [00:00, ?it/s]"
      ]
     },
     "metadata": {},
     "output_type": "display_data"
    },
    {
     "name": "stdout",
     "output_type": "stream",
     "text": [
      "CAPTCHA detected. Please solve the CAPTCHA manually or use an anti-CAPTCHA service.\n"
     ]
    },
    {
     "data": {
      "application/vnd.jupyter.widget-view+json": {
       "model_id": "ebc547a8af8649ef8b7bbed52679d278",
       "version_major": 2,
       "version_minor": 0
      },
      "text/plain": [
       "0it [00:00, ?it/s]"
      ]
     },
     "metadata": {},
     "output_type": "display_data"
    },
    {
     "name": "stdout",
     "output_type": "stream",
     "text": [
      "CAPTCHA detected. Please solve the CAPTCHA manually or use an anti-CAPTCHA service.\n"
     ]
    },
    {
     "data": {
      "application/vnd.jupyter.widget-view+json": {
       "model_id": "08bae32ae8964b8e82a6be641bc38392",
       "version_major": 2,
       "version_minor": 0
      },
      "text/plain": [
       "0it [00:00, ?it/s]"
      ]
     },
     "metadata": {},
     "output_type": "display_data"
    },
    {
     "name": "stdout",
     "output_type": "stream",
     "text": [
      "CAPTCHA detected. Please solve the CAPTCHA manually or use an anti-CAPTCHA service.\n"
     ]
    },
    {
     "data": {
      "application/vnd.jupyter.widget-view+json": {
       "model_id": "d954a697110442c1bd956f31ce8f8d14",
       "version_major": 2,
       "version_minor": 0
      },
      "text/plain": [
       "0it [00:00, ?it/s]"
      ]
     },
     "metadata": {},
     "output_type": "display_data"
    },
    {
     "name": "stdout",
     "output_type": "stream",
     "text": [
      "CAPTCHA detected. Please solve the CAPTCHA manually or use an anti-CAPTCHA service.\n"
     ]
    },
    {
     "data": {
      "application/vnd.jupyter.widget-view+json": {
       "model_id": "a354f83068844b8f97cb3610ef598555",
       "version_major": 2,
       "version_minor": 0
      },
      "text/plain": [
       "0it [00:00, ?it/s]"
      ]
     },
     "metadata": {},
     "output_type": "display_data"
    },
    {
     "name": "stdout",
     "output_type": "stream",
     "text": [
      "CAPTCHA detected. Please solve the CAPTCHA manually or use an anti-CAPTCHA service.\n"
     ]
    },
    {
     "data": {
      "application/vnd.jupyter.widget-view+json": {
       "model_id": "e9526c66d92d4ec195b02c969461a744",
       "version_major": 2,
       "version_minor": 0
      },
      "text/plain": [
       "0it [00:00, ?it/s]"
      ]
     },
     "metadata": {},
     "output_type": "display_data"
    },
    {
     "data": {
      "application/vnd.jupyter.widget-view+json": {
       "model_id": "5e9228f1d13e4cf1b3f989b910000370",
       "version_major": 2,
       "version_minor": 0
      },
      "text/plain": [
       "  0%|          | 0/13 [00:00<?, ?it/s]"
      ]
     },
     "metadata": {},
     "output_type": "display_data"
    },
    {
     "data": {
      "application/vnd.jupyter.widget-view+json": {
       "model_id": "38a0249c5d6647a2969d7685908aaf24",
       "version_major": 2,
       "version_minor": 0
      },
      "text/plain": [
       "  0%|          | 0/5 [00:00<?, ?it/s]"
      ]
     },
     "metadata": {},
     "output_type": "display_data"
    },
    {
     "data": {
      "application/vnd.jupyter.widget-view+json": {
       "model_id": "282ccc24a0284682a4d0c4bdb8517989",
       "version_major": 2,
       "version_minor": 0
      },
      "text/plain": [
       "  0%|          | 0/9 [00:00<?, ?it/s]"
      ]
     },
     "metadata": {},
     "output_type": "display_data"
    },
    {
     "data": {
      "application/vnd.jupyter.widget-view+json": {
       "model_id": "74f31d1b91f343ab8695620e64a1a0e0",
       "version_major": 2,
       "version_minor": 0
      },
      "text/plain": [
       "  0%|          | 0/8 [00:00<?, ?it/s]"
      ]
     },
     "metadata": {},
     "output_type": "display_data"
    },
    {
     "name": "stdout",
     "output_type": "stream",
     "text": [
      "CAPTCHA detected. Please solve the CAPTCHA manually or use an anti-CAPTCHA service.\n"
     ]
    },
    {
     "data": {
      "application/vnd.jupyter.widget-view+json": {
       "model_id": "4cf672b07ecd4c79a5a363e04e938a29",
       "version_major": 2,
       "version_minor": 0
      },
      "text/plain": [
       "0it [00:00, ?it/s]"
      ]
     },
     "metadata": {},
     "output_type": "display_data"
    },
    {
     "name": "stdout",
     "output_type": "stream",
     "text": [
      "CAPTCHA detected. Please solve the CAPTCHA manually or use an anti-CAPTCHA service.\n"
     ]
    },
    {
     "data": {
      "application/vnd.jupyter.widget-view+json": {
       "model_id": "15d8a0b94151463f9030519e68a210de",
       "version_major": 2,
       "version_minor": 0
      },
      "text/plain": [
       "0it [00:00, ?it/s]"
      ]
     },
     "metadata": {},
     "output_type": "display_data"
    },
    {
     "name": "stdout",
     "output_type": "stream",
     "text": [
      "CAPTCHA detected. Please solve the CAPTCHA manually or use an anti-CAPTCHA service.\n"
     ]
    },
    {
     "data": {
      "application/vnd.jupyter.widget-view+json": {
       "model_id": "f8b28e43036f4aae9ffc9f20dfc9a1b0",
       "version_major": 2,
       "version_minor": 0
      },
      "text/plain": [
       "0it [00:00, ?it/s]"
      ]
     },
     "metadata": {},
     "output_type": "display_data"
    },
    {
     "name": "stdout",
     "output_type": "stream",
     "text": [
      "CAPTCHA detected. Please solve the CAPTCHA manually or use an anti-CAPTCHA service.\n"
     ]
    },
    {
     "data": {
      "application/vnd.jupyter.widget-view+json": {
       "model_id": "15dee822378f439682025bd06d10a804",
       "version_major": 2,
       "version_minor": 0
      },
      "text/plain": [
       "0it [00:00, ?it/s]"
      ]
     },
     "metadata": {},
     "output_type": "display_data"
    },
    {
     "name": "stdout",
     "output_type": "stream",
     "text": [
      "CAPTCHA detected. Please solve the CAPTCHA manually or use an anti-CAPTCHA service.\n"
     ]
    },
    {
     "data": {
      "application/vnd.jupyter.widget-view+json": {
       "model_id": "a148ac3129e541258213b4651a9ebd58",
       "version_major": 2,
       "version_minor": 0
      },
      "text/plain": [
       "0it [00:00, ?it/s]"
      ]
     },
     "metadata": {},
     "output_type": "display_data"
    },
    {
     "name": "stdout",
     "output_type": "stream",
     "text": [
      "CAPTCHA detected. Please solve the CAPTCHA manually or use an anti-CAPTCHA service.\n"
     ]
    },
    {
     "data": {
      "application/vnd.jupyter.widget-view+json": {
       "model_id": "c5803672183b4374bd044de95736853a",
       "version_major": 2,
       "version_minor": 0
      },
      "text/plain": [
       "0it [00:00, ?it/s]"
      ]
     },
     "metadata": {},
     "output_type": "display_data"
    },
    {
     "name": "stdout",
     "output_type": "stream",
     "text": [
      "CAPTCHA detected. Please solve the CAPTCHA manually or use an anti-CAPTCHA service.\n"
     ]
    },
    {
     "data": {
      "application/vnd.jupyter.widget-view+json": {
       "model_id": "f44702758d124cac825a3db2606dee3b",
       "version_major": 2,
       "version_minor": 0
      },
      "text/plain": [
       "0it [00:00, ?it/s]"
      ]
     },
     "metadata": {},
     "output_type": "display_data"
    },
    {
     "data": {
      "application/vnd.jupyter.widget-view+json": {
       "model_id": "a624d2bb384f46359744ca40abe49387",
       "version_major": 2,
       "version_minor": 0
      },
      "text/plain": [
       "  0%|          | 0/9 [00:00<?, ?it/s]"
      ]
     },
     "metadata": {},
     "output_type": "display_data"
    },
    {
     "data": {
      "application/vnd.jupyter.widget-view+json": {
       "model_id": "df62f9759c4f4c679b8de853979ff0e0",
       "version_major": 2,
       "version_minor": 0
      },
      "text/plain": [
       "  0%|          | 0/6 [00:00<?, ?it/s]"
      ]
     },
     "metadata": {},
     "output_type": "display_data"
    },
    {
     "name": "stdout",
     "output_type": "stream",
     "text": [
      "CAPTCHA detected. Please solve the CAPTCHA manually or use an anti-CAPTCHA service.\n"
     ]
    },
    {
     "data": {
      "application/vnd.jupyter.widget-view+json": {
       "model_id": "93c0add01ff74a5a8874d0f7db5223f0",
       "version_major": 2,
       "version_minor": 0
      },
      "text/plain": [
       "0it [00:00, ?it/s]"
      ]
     },
     "metadata": {},
     "output_type": "display_data"
    },
    {
     "name": "stdout",
     "output_type": "stream",
     "text": [
      "CAPTCHA detected. Please solve the CAPTCHA manually or use an anti-CAPTCHA service.\n"
     ]
    },
    {
     "data": {
      "application/vnd.jupyter.widget-view+json": {
       "model_id": "3667388d0a5d45cc9f76a397468e12e2",
       "version_major": 2,
       "version_minor": 0
      },
      "text/plain": [
       "0it [00:00, ?it/s]"
      ]
     },
     "metadata": {},
     "output_type": "display_data"
    },
    {
     "name": "stdout",
     "output_type": "stream",
     "text": [
      "CAPTCHA detected. Please solve the CAPTCHA manually or use an anti-CAPTCHA service.\n"
     ]
    },
    {
     "data": {
      "application/vnd.jupyter.widget-view+json": {
       "model_id": "b8c4b9fb5fbe4b018f0cf988dbd01830",
       "version_major": 2,
       "version_minor": 0
      },
      "text/plain": [
       "0it [00:00, ?it/s]"
      ]
     },
     "metadata": {},
     "output_type": "display_data"
    },
    {
     "name": "stdout",
     "output_type": "stream",
     "text": [
      "CAPTCHA detected. Please solve the CAPTCHA manually or use an anti-CAPTCHA service.\n"
     ]
    },
    {
     "data": {
      "application/vnd.jupyter.widget-view+json": {
       "model_id": "06e3ffef995c45d5814ebec80b74840e",
       "version_major": 2,
       "version_minor": 0
      },
      "text/plain": [
       "0it [00:00, ?it/s]"
      ]
     },
     "metadata": {},
     "output_type": "display_data"
    },
    {
     "name": "stdout",
     "output_type": "stream",
     "text": [
      "CAPTCHA detected. Please solve the CAPTCHA manually or use an anti-CAPTCHA service.\n"
     ]
    },
    {
     "data": {
      "application/vnd.jupyter.widget-view+json": {
       "model_id": "af3fe957e0eb48b28458e9dea83d3bca",
       "version_major": 2,
       "version_minor": 0
      },
      "text/plain": [
       "0it [00:00, ?it/s]"
      ]
     },
     "metadata": {},
     "output_type": "display_data"
    },
    {
     "name": "stdout",
     "output_type": "stream",
     "text": [
      "CAPTCHA detected. Please solve the CAPTCHA manually or use an anti-CAPTCHA service.\n"
     ]
    },
    {
     "data": {
      "application/vnd.jupyter.widget-view+json": {
       "model_id": "d41f9a62577a4ce2b0e546e037979639",
       "version_major": 2,
       "version_minor": 0
      },
      "text/plain": [
       "0it [00:00, ?it/s]"
      ]
     },
     "metadata": {},
     "output_type": "display_data"
    },
    {
     "name": "stdout",
     "output_type": "stream",
     "text": [
      "CAPTCHA detected. Please solve the CAPTCHA manually or use an anti-CAPTCHA service.\n"
     ]
    },
    {
     "data": {
      "application/vnd.jupyter.widget-view+json": {
       "model_id": "a992f24371d54db897bd50d597d522f1",
       "version_major": 2,
       "version_minor": 0
      },
      "text/plain": [
       "0it [00:00, ?it/s]"
      ]
     },
     "metadata": {},
     "output_type": "display_data"
    },
    {
     "name": "stdout",
     "output_type": "stream",
     "text": [
      "CAPTCHA detected. Please solve the CAPTCHA manually or use an anti-CAPTCHA service.\n"
     ]
    },
    {
     "data": {
      "application/vnd.jupyter.widget-view+json": {
       "model_id": "80310ee60ff44fd193c453998e86812d",
       "version_major": 2,
       "version_minor": 0
      },
      "text/plain": [
       "0it [00:00, ?it/s]"
      ]
     },
     "metadata": {},
     "output_type": "display_data"
    },
    {
     "data": {
      "application/vnd.jupyter.widget-view+json": {
       "model_id": "f99f1da82e2a4e48bd8cbc59c50641a7",
       "version_major": 2,
       "version_minor": 0
      },
      "text/plain": [
       "  0%|          | 0/5 [00:00<?, ?it/s]"
      ]
     },
     "metadata": {},
     "output_type": "display_data"
    },
    {
     "data": {
      "application/vnd.jupyter.widget-view+json": {
       "model_id": "a756700038cf4c31b2f8c63159a75796",
       "version_major": 2,
       "version_minor": 0
      },
      "text/plain": [
       "0it [00:00, ?it/s]"
      ]
     },
     "metadata": {},
     "output_type": "display_data"
    },
    {
     "data": {
      "application/vnd.jupyter.widget-view+json": {
       "model_id": "e5562ba8bb1744e9990564389a42b592",
       "version_major": 2,
       "version_minor": 0
      },
      "text/plain": [
       "  0%|          | 0/9 [00:00<?, ?it/s]"
      ]
     },
     "metadata": {},
     "output_type": "display_data"
    },
    {
     "data": {
      "application/vnd.jupyter.widget-view+json": {
       "model_id": "ef8a8e575fd941a0ad793d977184fb2c",
       "version_major": 2,
       "version_minor": 0
      },
      "text/plain": [
       "  0%|          | 0/8 [00:00<?, ?it/s]"
      ]
     },
     "metadata": {},
     "output_type": "display_data"
    },
    {
     "name": "stdout",
     "output_type": "stream",
     "text": [
      "CAPTCHA detected. Please solve the CAPTCHA manually or use an anti-CAPTCHA service.\n"
     ]
    },
    {
     "data": {
      "application/vnd.jupyter.widget-view+json": {
       "model_id": "4f4c4b41ba684e1980751014affa2557",
       "version_major": 2,
       "version_minor": 0
      },
      "text/plain": [
       "0it [00:00, ?it/s]"
      ]
     },
     "metadata": {},
     "output_type": "display_data"
    },
    {
     "data": {
      "application/vnd.jupyter.widget-view+json": {
       "model_id": "5386768e09334660800601b9e54f1612",
       "version_major": 2,
       "version_minor": 0
      },
      "text/plain": [
       "  0%|          | 0/13 [00:00<?, ?it/s]"
      ]
     },
     "metadata": {},
     "output_type": "display_data"
    },
    {
     "data": {
      "application/vnd.jupyter.widget-view+json": {
       "model_id": "6a13652382164416a30d3958586375fa",
       "version_major": 2,
       "version_minor": 0
      },
      "text/plain": [
       "  0%|          | 0/8 [00:00<?, ?it/s]"
      ]
     },
     "metadata": {},
     "output_type": "display_data"
    },
    {
     "data": {
      "application/vnd.jupyter.widget-view+json": {
       "model_id": "63d5a93cef56421d963e2ae9481c9de4",
       "version_major": 2,
       "version_minor": 0
      },
      "text/plain": [
       "  0%|          | 0/8 [00:00<?, ?it/s]"
      ]
     },
     "metadata": {},
     "output_type": "display_data"
    },
    {
     "name": "stdout",
     "output_type": "stream",
     "text": [
      "Request failed: HTTPSConnectionPool(host='www.amazon.comhttps', port=443): Max retries exceeded with url: /aax-us-iad.amazon.com/x/c/JF4DH8MZVTsTIWDYBymw5wMAAAGRgY6ZsQEAAAH2AQBvbm9fdHhuX2JpZDEgICBvbm9fdHhuX2ltcDEgICAJQnPr/https://www.amazon.com/Logitech-G-Artanis-WL-Black/dp/B092CB69Q4/ref=sxbs_sbv_search_btf?content-id=amzn1.sym.805ca70d-e057-4820-b9b3-729eee71f8a9%3Aamzn1.sym.805ca70d-e057-4820-b9b3-729eee71f8a9&cv_ct_cx=gaming+mouse&dib=eyJ2IjoiMSJ9.yuzqdy56fc0lAIanyPLCWA.r-ohw2D0sUC7suaj_cCFrgerClLTmmzjwE-mK-QJ80g&dib_tag=se&keywords=gaming+mouse&pd_rd_i=B092CB69Q4&pd_rd_r=72b7e480-eed4-41bb-8c1e-cbeb1bc8686c&pd_rd_w=akYMY&pd_rd_wg=TsJq1&pf_rd_p=805ca70d-e057-4820-b9b3-729eee71f8a9&pf_rd_r=40PW6A7R8FFCTJAMYD8Y&qid=1724455491&sbo=RZvfv%2F%2FHxDF%2BO5021pAnSA%3D%3D&sr=1-305-48f7baba-8e26-45f3-8811-e1a601ad20bf (Caused by NameResolutionError(\"<urllib3.connection.HTTPSConnection object at 0x000002090A5D8DA0>: Failed to resolve 'www.amazon.comhttps' ([Errno 11001] getaddrinfo failed)\"))\n"
     ]
    },
    {
     "data": {
      "application/vnd.jupyter.widget-view+json": {
       "model_id": "094280b367c0410c85f119e4274ffcf9",
       "version_major": 2,
       "version_minor": 0
      },
      "text/plain": [
       "0it [00:00, ?it/s]"
      ]
     },
     "metadata": {},
     "output_type": "display_data"
    }
   ],
   "source": [
    "parse_product_reviews(products)"
   ]
  },
  {
   "cell_type": "markdown",
   "metadata": {},
   "source": [
    "#### Repeat for the products that got an error"
   ]
  },
  {
   "cell_type": "code",
   "execution_count": 45,
   "metadata": {},
   "outputs": [],
   "source": [
    "reviews_df = pd.read_csv(\"data/reviews.csv\", header=0)\n",
    "\n",
    "reviewed_product_links = reviews_df[\"product_link\"].unique()\n",
    "products_to_repeat = [\n",
    "    product for product in products if product[\"link\"] not in reviewed_product_links\n",
    "]"
   ]
  },
  {
   "cell_type": "code",
   "execution_count": 46,
   "metadata": {},
   "outputs": [
    {
     "data": {
      "text/plain": [
       "42"
      ]
     },
     "execution_count": 46,
     "metadata": {},
     "output_type": "execute_result"
    }
   ],
   "source": [
    "len(products_to_repeat)"
   ]
  },
  {
   "cell_type": "code",
   "execution_count": 21,
   "metadata": {},
   "outputs": [
    {
     "data": {
      "text/plain": [
       "'https://www.amazon.com/Logitech-Performance-Programmable-Adjustable-LIGHTSYNC/dp/B0D7NR55PF/ref=sr_1_129?dib=eyJ2IjoiMSJ9.lya5ASqFxY2WgsUV2-dPcoYwbGvmEtJ1VZzzQCpnXSE1JPteyJ9PXYlO3BVMkzXl_x_Q2Fv5nKCp5yu2HgdL68Mgw45PJwULkTxlKGlvp9gDwu3gtg80q4bg_RGfcB0xC9ODKNXAn6iABC2_A_xErZZTRky6MnmDpsBvD3BkxBlGkQbYZwtZJPIrW_oJHkcFTujLk-g7jorTEa0iXH_owjIpLmT67CWzFrC-vpXxSgs.07jcbTP7PbwdsORCmjo-Zd5-FCYXBZ6eMq8uDFdVl1o&dib_tag=se&keywords=gaming+mouse&qid=1724455431&sr=8-129'"
      ]
     },
     "execution_count": 21,
     "metadata": {},
     "output_type": "execute_result"
    }
   ],
   "source": [
    "products_to_repeat[0][\"link\"]"
   ]
  },
  {
   "cell_type": "code",
   "execution_count": 44,
   "metadata": {},
   "outputs": [
    {
     "data": {
      "application/vnd.jupyter.widget-view+json": {
       "model_id": "d1139cc356ea426fb3f648756edd9fc3",
       "version_major": 2,
       "version_minor": 0
      },
      "text/plain": [
       "  0%|          | 0/44 [00:00<?, ?it/s]"
      ]
     },
     "metadata": {},
     "output_type": "display_data"
    },
    {
     "name": "stdout",
     "output_type": "stream",
     "text": [
      "CAPTCHA detected. Please solve the CAPTCHA manually or use an anti-CAPTCHA service.\n"
     ]
    },
    {
     "data": {
      "application/vnd.jupyter.widget-view+json": {
       "model_id": "18d5c63da95348a2adbf3986e10ef89f",
       "version_major": 2,
       "version_minor": 0
      },
      "text/plain": [
       "0it [00:00, ?it/s]"
      ]
     },
     "metadata": {},
     "output_type": "display_data"
    },
    {
     "name": "stdout",
     "output_type": "stream",
     "text": [
      "CAPTCHA detected. Please solve the CAPTCHA manually or use an anti-CAPTCHA service.\n"
     ]
    },
    {
     "data": {
      "application/vnd.jupyter.widget-view+json": {
       "model_id": "e5a71a3b2e3846d8bfe471852e081c0d",
       "version_major": 2,
       "version_minor": 0
      },
      "text/plain": [
       "0it [00:00, ?it/s]"
      ]
     },
     "metadata": {},
     "output_type": "display_data"
    },
    {
     "data": {
      "application/vnd.jupyter.widget-view+json": {
       "model_id": "7bab14074e08446d92c44b3d3141fd1d",
       "version_major": 2,
       "version_minor": 0
      },
      "text/plain": [
       "0it [00:00, ?it/s]"
      ]
     },
     "metadata": {},
     "output_type": "display_data"
    },
    {
     "name": "stdout",
     "output_type": "stream",
     "text": [
      "CAPTCHA detected. Please solve the CAPTCHA manually or use an anti-CAPTCHA service.\n"
     ]
    },
    {
     "data": {
      "application/vnd.jupyter.widget-view+json": {
       "model_id": "e3a9042f15ba4429ae4219f6dcc9b7b3",
       "version_major": 2,
       "version_minor": 0
      },
      "text/plain": [
       "0it [00:00, ?it/s]"
      ]
     },
     "metadata": {},
     "output_type": "display_data"
    },
    {
     "data": {
      "application/vnd.jupyter.widget-view+json": {
       "model_id": "b21c922d97764676bdec6ae25c9ae633",
       "version_major": 2,
       "version_minor": 0
      },
      "text/plain": [
       "0it [00:00, ?it/s]"
      ]
     },
     "metadata": {},
     "output_type": "display_data"
    },
    {
     "name": "stdout",
     "output_type": "stream",
     "text": [
      "CAPTCHA detected. Please solve the CAPTCHA manually or use an anti-CAPTCHA service.\n"
     ]
    },
    {
     "data": {
      "application/vnd.jupyter.widget-view+json": {
       "model_id": "600bd58ce3a047d69a44698dc3f477b8",
       "version_major": 2,
       "version_minor": 0
      },
      "text/plain": [
       "0it [00:00, ?it/s]"
      ]
     },
     "metadata": {},
     "output_type": "display_data"
    },
    {
     "name": "stdout",
     "output_type": "stream",
     "text": [
      "CAPTCHA detected. Please solve the CAPTCHA manually or use an anti-CAPTCHA service.\n"
     ]
    },
    {
     "data": {
      "application/vnd.jupyter.widget-view+json": {
       "model_id": "c04b99f1fdf44b218eee28b071c49458",
       "version_major": 2,
       "version_minor": 0
      },
      "text/plain": [
       "0it [00:00, ?it/s]"
      ]
     },
     "metadata": {},
     "output_type": "display_data"
    },
    {
     "name": "stdout",
     "output_type": "stream",
     "text": [
      "CAPTCHA detected. Please solve the CAPTCHA manually or use an anti-CAPTCHA service.\n"
     ]
    },
    {
     "data": {
      "application/vnd.jupyter.widget-view+json": {
       "model_id": "df4c2ff80c344752a37e16bb8ae3ff54",
       "version_major": 2,
       "version_minor": 0
      },
      "text/plain": [
       "0it [00:00, ?it/s]"
      ]
     },
     "metadata": {},
     "output_type": "display_data"
    },
    {
     "name": "stdout",
     "output_type": "stream",
     "text": [
      "CAPTCHA detected. Please solve the CAPTCHA manually or use an anti-CAPTCHA service.\n"
     ]
    },
    {
     "data": {
      "application/vnd.jupyter.widget-view+json": {
       "model_id": "1e6c3a191cb14d71869d7ff5963aa232",
       "version_major": 2,
       "version_minor": 0
      },
      "text/plain": [
       "0it [00:00, ?it/s]"
      ]
     },
     "metadata": {},
     "output_type": "display_data"
    },
    {
     "data": {
      "application/vnd.jupyter.widget-view+json": {
       "model_id": "c651679bb48c4af18da51b3c1e7ab523",
       "version_major": 2,
       "version_minor": 0
      },
      "text/plain": [
       "0it [00:00, ?it/s]"
      ]
     },
     "metadata": {},
     "output_type": "display_data"
    },
    {
     "name": "stdout",
     "output_type": "stream",
     "text": [
      "CAPTCHA detected. Please solve the CAPTCHA manually or use an anti-CAPTCHA service.\n"
     ]
    },
    {
     "data": {
      "application/vnd.jupyter.widget-view+json": {
       "model_id": "38b1558e5518449e9d1c98fc5ce82408",
       "version_major": 2,
       "version_minor": 0
      },
      "text/plain": [
       "0it [00:00, ?it/s]"
      ]
     },
     "metadata": {},
     "output_type": "display_data"
    },
    {
     "name": "stdout",
     "output_type": "stream",
     "text": [
      "CAPTCHA detected. Please solve the CAPTCHA manually or use an anti-CAPTCHA service.\n"
     ]
    },
    {
     "data": {
      "application/vnd.jupyter.widget-view+json": {
       "model_id": "546ea9b22c504931beb8b577dc21ff85",
       "version_major": 2,
       "version_minor": 0
      },
      "text/plain": [
       "0it [00:00, ?it/s]"
      ]
     },
     "metadata": {},
     "output_type": "display_data"
    },
    {
     "name": "stdout",
     "output_type": "stream",
     "text": [
      "CAPTCHA detected. Please solve the CAPTCHA manually or use an anti-CAPTCHA service.\n"
     ]
    },
    {
     "data": {
      "application/vnd.jupyter.widget-view+json": {
       "model_id": "2e9a706b22264b2aa56fe66c933325b5",
       "version_major": 2,
       "version_minor": 0
      },
      "text/plain": [
       "0it [00:00, ?it/s]"
      ]
     },
     "metadata": {},
     "output_type": "display_data"
    },
    {
     "name": "stdout",
     "output_type": "stream",
     "text": [
      "CAPTCHA detected. Please solve the CAPTCHA manually or use an anti-CAPTCHA service.\n"
     ]
    },
    {
     "data": {
      "application/vnd.jupyter.widget-view+json": {
       "model_id": "9357df6f8bc442ae804e09d68889a7c4",
       "version_major": 2,
       "version_minor": 0
      },
      "text/plain": [
       "0it [00:00, ?it/s]"
      ]
     },
     "metadata": {},
     "output_type": "display_data"
    },
    {
     "name": "stdout",
     "output_type": "stream",
     "text": [
      "CAPTCHA detected. Please solve the CAPTCHA manually or use an anti-CAPTCHA service.\n"
     ]
    },
    {
     "data": {
      "application/vnd.jupyter.widget-view+json": {
       "model_id": "1fab72385ce54beeb6ff5c9430d016eb",
       "version_major": 2,
       "version_minor": 0
      },
      "text/plain": [
       "0it [00:00, ?it/s]"
      ]
     },
     "metadata": {},
     "output_type": "display_data"
    },
    {
     "data": {
      "application/vnd.jupyter.widget-view+json": {
       "model_id": "3fedd519f21a4419827f7dc4d8b23f3a",
       "version_major": 2,
       "version_minor": 0
      },
      "text/plain": [
       "  0%|          | 0/13 [00:00<?, ?it/s]"
      ]
     },
     "metadata": {},
     "output_type": "display_data"
    },
    {
     "name": "stdout",
     "output_type": "stream",
     "text": [
      "CAPTCHA detected. Please solve the CAPTCHA manually or use an anti-CAPTCHA service.\n"
     ]
    },
    {
     "data": {
      "application/vnd.jupyter.widget-view+json": {
       "model_id": "969e6a05ae9b4acdbd356b7328b5c0ae",
       "version_major": 2,
       "version_minor": 0
      },
      "text/plain": [
       "0it [00:00, ?it/s]"
      ]
     },
     "metadata": {},
     "output_type": "display_data"
    },
    {
     "name": "stdout",
     "output_type": "stream",
     "text": [
      "CAPTCHA detected. Please solve the CAPTCHA manually or use an anti-CAPTCHA service.\n"
     ]
    },
    {
     "data": {
      "application/vnd.jupyter.widget-view+json": {
       "model_id": "f7e10f983c5f4852b08abeee6ffca21c",
       "version_major": 2,
       "version_minor": 0
      },
      "text/plain": [
       "0it [00:00, ?it/s]"
      ]
     },
     "metadata": {},
     "output_type": "display_data"
    },
    {
     "name": "stdout",
     "output_type": "stream",
     "text": [
      "CAPTCHA detected. Please solve the CAPTCHA manually or use an anti-CAPTCHA service.\n"
     ]
    },
    {
     "data": {
      "application/vnd.jupyter.widget-view+json": {
       "model_id": "c5a0585f96274412b578823ed51d28b8",
       "version_major": 2,
       "version_minor": 0
      },
      "text/plain": [
       "0it [00:00, ?it/s]"
      ]
     },
     "metadata": {},
     "output_type": "display_data"
    },
    {
     "name": "stdout",
     "output_type": "stream",
     "text": [
      "CAPTCHA detected. Please solve the CAPTCHA manually or use an anti-CAPTCHA service.\n"
     ]
    },
    {
     "data": {
      "application/vnd.jupyter.widget-view+json": {
       "model_id": "fdbe3a67967d451fa0ede5fdf155d1bf",
       "version_major": 2,
       "version_minor": 0
      },
      "text/plain": [
       "0it [00:00, ?it/s]"
      ]
     },
     "metadata": {},
     "output_type": "display_data"
    },
    {
     "data": {
      "application/vnd.jupyter.widget-view+json": {
       "model_id": "e6a5c99987bf4f8d8b6f78f157580c94",
       "version_major": 2,
       "version_minor": 0
      },
      "text/plain": [
       "  0%|          | 0/2 [00:00<?, ?it/s]"
      ]
     },
     "metadata": {},
     "output_type": "display_data"
    },
    {
     "name": "stdout",
     "output_type": "stream",
     "text": [
      "CAPTCHA detected. Please solve the CAPTCHA manually or use an anti-CAPTCHA service.\n"
     ]
    },
    {
     "data": {
      "application/vnd.jupyter.widget-view+json": {
       "model_id": "d3240f78c85b4db394cf89ee39ee2002",
       "version_major": 2,
       "version_minor": 0
      },
      "text/plain": [
       "0it [00:00, ?it/s]"
      ]
     },
     "metadata": {},
     "output_type": "display_data"
    },
    {
     "name": "stdout",
     "output_type": "stream",
     "text": [
      "CAPTCHA detected. Please solve the CAPTCHA manually or use an anti-CAPTCHA service.\n"
     ]
    },
    {
     "data": {
      "application/vnd.jupyter.widget-view+json": {
       "model_id": "23c07952024b4361bcdacdc4cec2b136",
       "version_major": 2,
       "version_minor": 0
      },
      "text/plain": [
       "0it [00:00, ?it/s]"
      ]
     },
     "metadata": {},
     "output_type": "display_data"
    },
    {
     "name": "stdout",
     "output_type": "stream",
     "text": [
      "CAPTCHA detected. Please solve the CAPTCHA manually or use an anti-CAPTCHA service.\n"
     ]
    },
    {
     "data": {
      "application/vnd.jupyter.widget-view+json": {
       "model_id": "95e6aa5fb77a4a7b972920e9fbfd3b04",
       "version_major": 2,
       "version_minor": 0
      },
      "text/plain": [
       "0it [00:00, ?it/s]"
      ]
     },
     "metadata": {},
     "output_type": "display_data"
    },
    {
     "name": "stdout",
     "output_type": "stream",
     "text": [
      "CAPTCHA detected. Please solve the CAPTCHA manually or use an anti-CAPTCHA service.\n"
     ]
    },
    {
     "data": {
      "application/vnd.jupyter.widget-view+json": {
       "model_id": "8fe5fc087252412b8b851f7685876285",
       "version_major": 2,
       "version_minor": 0
      },
      "text/plain": [
       "0it [00:00, ?it/s]"
      ]
     },
     "metadata": {},
     "output_type": "display_data"
    },
    {
     "name": "stdout",
     "output_type": "stream",
     "text": [
      "CAPTCHA detected. Please solve the CAPTCHA manually or use an anti-CAPTCHA service.\n"
     ]
    },
    {
     "data": {
      "application/vnd.jupyter.widget-view+json": {
       "model_id": "e6e16b6b85884309baf066ee027c93f3",
       "version_major": 2,
       "version_minor": 0
      },
      "text/plain": [
       "0it [00:00, ?it/s]"
      ]
     },
     "metadata": {},
     "output_type": "display_data"
    },
    {
     "name": "stdout",
     "output_type": "stream",
     "text": [
      "CAPTCHA detected. Please solve the CAPTCHA manually or use an anti-CAPTCHA service.\n"
     ]
    },
    {
     "data": {
      "application/vnd.jupyter.widget-view+json": {
       "model_id": "6f14dbdf463d4683abe466aa3e823047",
       "version_major": 2,
       "version_minor": 0
      },
      "text/plain": [
       "0it [00:00, ?it/s]"
      ]
     },
     "metadata": {},
     "output_type": "display_data"
    },
    {
     "name": "stdout",
     "output_type": "stream",
     "text": [
      "CAPTCHA detected. Please solve the CAPTCHA manually or use an anti-CAPTCHA service.\n"
     ]
    },
    {
     "data": {
      "application/vnd.jupyter.widget-view+json": {
       "model_id": "4ce48a3550ef40c2b4c0f2fdbd04b2a4",
       "version_major": 2,
       "version_minor": 0
      },
      "text/plain": [
       "0it [00:00, ?it/s]"
      ]
     },
     "metadata": {},
     "output_type": "display_data"
    },
    {
     "name": "stdout",
     "output_type": "stream",
     "text": [
      "CAPTCHA detected. Please solve the CAPTCHA manually or use an anti-CAPTCHA service.\n"
     ]
    },
    {
     "data": {
      "application/vnd.jupyter.widget-view+json": {
       "model_id": "0a05cd3fa14b4b70afa6f68fb8eaae8e",
       "version_major": 2,
       "version_minor": 0
      },
      "text/plain": [
       "0it [00:00, ?it/s]"
      ]
     },
     "metadata": {},
     "output_type": "display_data"
    },
    {
     "name": "stdout",
     "output_type": "stream",
     "text": [
      "CAPTCHA detected. Please solve the CAPTCHA manually or use an anti-CAPTCHA service.\n"
     ]
    },
    {
     "data": {
      "application/vnd.jupyter.widget-view+json": {
       "model_id": "20315bcbc6364f7983a49730ef91f3c9",
       "version_major": 2,
       "version_minor": 0
      },
      "text/plain": [
       "0it [00:00, ?it/s]"
      ]
     },
     "metadata": {},
     "output_type": "display_data"
    },
    {
     "name": "stdout",
     "output_type": "stream",
     "text": [
      "CAPTCHA detected. Please solve the CAPTCHA manually or use an anti-CAPTCHA service.\n"
     ]
    },
    {
     "data": {
      "application/vnd.jupyter.widget-view+json": {
       "model_id": "de82f1ca024f44f2ad3a34766fc6a4bf",
       "version_major": 2,
       "version_minor": 0
      },
      "text/plain": [
       "0it [00:00, ?it/s]"
      ]
     },
     "metadata": {},
     "output_type": "display_data"
    },
    {
     "name": "stdout",
     "output_type": "stream",
     "text": [
      "CAPTCHA detected. Please solve the CAPTCHA manually or use an anti-CAPTCHA service.\n"
     ]
    },
    {
     "data": {
      "application/vnd.jupyter.widget-view+json": {
       "model_id": "53892c22e26f4da1a90198a68c933dc9",
       "version_major": 2,
       "version_minor": 0
      },
      "text/plain": [
       "0it [00:00, ?it/s]"
      ]
     },
     "metadata": {},
     "output_type": "display_data"
    },
    {
     "name": "stdout",
     "output_type": "stream",
     "text": [
      "CAPTCHA detected. Please solve the CAPTCHA manually or use an anti-CAPTCHA service.\n"
     ]
    },
    {
     "data": {
      "application/vnd.jupyter.widget-view+json": {
       "model_id": "74a18697424746229cdb72b2e5569a0f",
       "version_major": 2,
       "version_minor": 0
      },
      "text/plain": [
       "0it [00:00, ?it/s]"
      ]
     },
     "metadata": {},
     "output_type": "display_data"
    },
    {
     "name": "stdout",
     "output_type": "stream",
     "text": [
      "CAPTCHA detected. Please solve the CAPTCHA manually or use an anti-CAPTCHA service.\n"
     ]
    },
    {
     "data": {
      "application/vnd.jupyter.widget-view+json": {
       "model_id": "52db542fc02945cbb9373b641bf68875",
       "version_major": 2,
       "version_minor": 0
      },
      "text/plain": [
       "0it [00:00, ?it/s]"
      ]
     },
     "metadata": {},
     "output_type": "display_data"
    },
    {
     "name": "stdout",
     "output_type": "stream",
     "text": [
      "CAPTCHA detected. Please solve the CAPTCHA manually or use an anti-CAPTCHA service.\n"
     ]
    },
    {
     "data": {
      "application/vnd.jupyter.widget-view+json": {
       "model_id": "ca468afde443466ca9f37602e57bdf5f",
       "version_major": 2,
       "version_minor": 0
      },
      "text/plain": [
       "0it [00:00, ?it/s]"
      ]
     },
     "metadata": {},
     "output_type": "display_data"
    },
    {
     "ename": "AttributeError",
     "evalue": "'NoneType' object has no attribute 'get_text'",
     "output_type": "error",
     "traceback": [
      "\u001b[1;31m---------------------------------------------------------------------------\u001b[0m",
      "\u001b[1;31mAttributeError\u001b[0m                            Traceback (most recent call last)",
      "Cell \u001b[1;32mIn[44], line 1\u001b[0m\n\u001b[1;32m----> 1\u001b[0m \u001b[43mparse_product_reviews\u001b[49m\u001b[43m(\u001b[49m\u001b[43mproducts_to_repeat\u001b[49m\u001b[43m)\u001b[49m\n",
      "Cell \u001b[1;32mIn[13], line 27\u001b[0m, in \u001b[0;36mparse_product_reviews\u001b[1;34m(products, file_name)\u001b[0m\n\u001b[0;32m     24\u001b[0m writer\u001b[38;5;241m.\u001b[39mwriterow([\u001b[38;5;124m\"\u001b[39m\u001b[38;5;124mproduct_title\u001b[39m\u001b[38;5;124m\"\u001b[39m, \u001b[38;5;124m\"\u001b[39m\u001b[38;5;124mproduct_link\u001b[39m\u001b[38;5;124m\"\u001b[39m, \u001b[38;5;124m\"\u001b[39m\u001b[38;5;124mtitle\u001b[39m\u001b[38;5;124m\"\u001b[39m, \u001b[38;5;124m\"\u001b[39m\u001b[38;5;124mrating\u001b[39m\u001b[38;5;124m\"\u001b[39m, \u001b[38;5;124m\"\u001b[39m\u001b[38;5;124mtext\u001b[39m\u001b[38;5;124m\"\u001b[39m])\n\u001b[0;32m     26\u001b[0m \u001b[38;5;28;01mfor\u001b[39;00m product \u001b[38;5;129;01min\u001b[39;00m tqdm(products):\n\u001b[1;32m---> 27\u001b[0m     product_reviews \u001b[38;5;241m=\u001b[39m \u001b[43mparse_reviews\u001b[49m\u001b[43m(\u001b[49m\u001b[43mproduct\u001b[49m\u001b[43m[\u001b[49m\u001b[38;5;124;43m\"\u001b[39;49m\u001b[38;5;124;43mlink\u001b[39;49m\u001b[38;5;124;43m\"\u001b[39;49m\u001b[43m]\u001b[49m\u001b[43m)\u001b[49m\n\u001b[0;32m     28\u001b[0m     \u001b[38;5;28;01mfor\u001b[39;00m review \u001b[38;5;129;01min\u001b[39;00m tqdm(product_reviews):\n\u001b[0;32m     29\u001b[0m         writer\u001b[38;5;241m.\u001b[39mwriterow(\n\u001b[0;32m     30\u001b[0m             [\n\u001b[0;32m     31\u001b[0m                 product[\u001b[38;5;124m\"\u001b[39m\u001b[38;5;124mtitle\u001b[39m\u001b[38;5;124m\"\u001b[39m],\n\u001b[1;32m   (...)\u001b[0m\n\u001b[0;32m     36\u001b[0m             ]\n\u001b[0;32m     37\u001b[0m         )\n",
      "Cell \u001b[1;32mIn[13], line 7\u001b[0m, in \u001b[0;36mparse_reviews\u001b[1;34m(product_url)\u001b[0m\n\u001b[0;32m      5\u001b[0m     \u001b[38;5;28;01mreturn\u001b[39;00m reviews\n\u001b[0;32m      6\u001b[0m \u001b[38;5;28;01mfor\u001b[39;00m review \u001b[38;5;129;01min\u001b[39;00m page\u001b[38;5;241m.\u001b[39mselect(\u001b[38;5;124m\"\u001b[39m\u001b[38;5;124m.review\u001b[39m\u001b[38;5;124m\"\u001b[39m):\n\u001b[1;32m----> 7\u001b[0m     rating_title \u001b[38;5;241m=\u001b[39m \u001b[43mreview\u001b[49m\u001b[38;5;241;43m.\u001b[39;49m\u001b[43mselect_one\u001b[49m\u001b[43m(\u001b[49m\u001b[38;5;124;43m\"\u001b[39;49m\u001b[38;5;124;43m.review-title\u001b[39;49m\u001b[38;5;124;43m\"\u001b[39;49m\u001b[43m)\u001b[49m\u001b[38;5;241;43m.\u001b[39;49m\u001b[43mget_text\u001b[49m(strip\u001b[38;5;241m=\u001b[39m\u001b[38;5;28;01mTrue\u001b[39;00m)\n\u001b[0;32m      8\u001b[0m     rating \u001b[38;5;241m=\u001b[39m review\u001b[38;5;241m.\u001b[39mselect_one(\u001b[38;5;124m\"\u001b[39m\u001b[38;5;124m.review-rating\u001b[39m\u001b[38;5;124m\"\u001b[39m)\u001b[38;5;241m.\u001b[39mget_text(strip\u001b[38;5;241m=\u001b[39m\u001b[38;5;28;01mTrue\u001b[39;00m)\n\u001b[0;32m      9\u001b[0m     title \u001b[38;5;241m=\u001b[39m rating_title\u001b[38;5;241m.\u001b[39msplit(\u001b[38;5;124m\"\u001b[39m\u001b[38;5;124mstars\u001b[39m\u001b[38;5;124m\"\u001b[39m)[\u001b[38;5;241m-\u001b[39m\u001b[38;5;241m1\u001b[39m]\n",
      "\u001b[1;31mAttributeError\u001b[0m: 'NoneType' object has no attribute 'get_text'"
     ]
    }
   ],
   "source": [
    "parse_product_reviews(products_to_repeat)"
   ]
  },
  {
   "cell_type": "code",
   "execution_count": 47,
   "metadata": {},
   "outputs": [],
   "source": [
    "reviews_df = pd.read_csv(\"data/reviews.csv\", header=0)\n",
    "reviews_df = reviews_df.drop_duplicates()\n",
    "reviews_df.to_csv(\"data/reviews.csv\", sep=\",\", index=False)"
   ]
  },
  {
   "cell_type": "code",
   "execution_count": 48,
   "metadata": {},
   "outputs": [
    {
     "name": "stdout",
     "output_type": "stream",
     "text": [
      "<class 'pandas.core.frame.DataFrame'>\n",
      "RangeIndex: 3498 entries, 0 to 3497\n",
      "Data columns (total 5 columns):\n",
      " #   Column         Non-Null Count  Dtype \n",
      "---  ------         --------------  ----- \n",
      " 0   product_title  3498 non-null   object\n",
      " 1   product_link   3498 non-null   object\n",
      " 2   title          3497 non-null   object\n",
      " 3   rating         3498 non-null   object\n",
      " 4   text           3498 non-null   object\n",
      "dtypes: object(5)\n",
      "memory usage: 136.8+ KB\n"
     ]
    }
   ],
   "source": [
    "reviews_df.info()"
   ]
  },
  {
   "cell_type": "markdown",
   "metadata": {},
   "source": [
    "## Sentiment analysis"
   ]
  },
  {
   "cell_type": "markdown",
   "metadata": {},
   "source": [
    "### Libraries"
   ]
  },
  {
   "cell_type": "code",
   "execution_count": 1,
   "metadata": {},
   "outputs": [],
   "source": [
    "import traceback\n",
    "import pandas as pd\n",
    "\n",
    "import seaborn as sns\n",
    "import matplotlib.pyplot as plt\n",
    "\n",
    "from deep_translator import GoogleTranslator\n",
    "\n",
    "import nltk\n",
    "from nltk.tokenize import sent_tokenize\n",
    "from nltk.sentiment import SentimentIntensityAnalyzer\n",
    "\n",
    "from scipy import stats"
   ]
  },
  {
   "cell_type": "markdown",
   "metadata": {},
   "source": [
    "### Load and modify reviews"
   ]
  },
  {
   "cell_type": "code",
   "execution_count": 5,
   "metadata": {},
   "outputs": [],
   "source": [
    "reviews_df = pd.read_csv(\"data/reviews.csv\", header=0)"
   ]
  },
  {
   "cell_type": "code",
   "execution_count": 6,
   "metadata": {},
   "outputs": [
    {
     "name": "stdout",
     "output_type": "stream",
     "text": [
      "<class 'pandas.core.frame.DataFrame'>\n",
      "RangeIndex: 3498 entries, 0 to 3497\n",
      "Data columns (total 5 columns):\n",
      " #   Column         Non-Null Count  Dtype \n",
      "---  ------         --------------  ----- \n",
      " 0   product_title  3498 non-null   object\n",
      " 1   product_link   3498 non-null   object\n",
      " 2   title          3497 non-null   object\n",
      " 3   rating         3498 non-null   object\n",
      " 4   text           3494 non-null   object\n",
      "dtypes: object(5)\n",
      "memory usage: 136.8+ KB\n"
     ]
    }
   ],
   "source": [
    "reviews_df.info()"
   ]
  },
  {
   "cell_type": "markdown",
   "metadata": {},
   "source": [
    "#### Fix empty text and title"
   ]
  },
  {
   "cell_type": "code",
   "execution_count": 16,
   "metadata": {},
   "outputs": [],
   "source": [
    "def float2string(t):\n",
    "    try:\n",
    "        float(t)\n",
    "        return ''\n",
    "    except ValueError:\n",
    "        return t\n",
    "    \n",
    "reviews_df['title'] = reviews_df['title'].apply(float2string)\n",
    "reviews_df['text'] = reviews_df['text'].apply(float2string)"
   ]
  },
  {
   "cell_type": "markdown",
   "metadata": {},
   "source": [
    "#### Set numeric rating"
   ]
  },
  {
   "cell_type": "code",
   "execution_count": 7,
   "metadata": {},
   "outputs": [],
   "source": [
    "reviews_df['rating'] = reviews_df['rating'].str.extract(r'(\\d+\\.\\d+)').astype(float)"
   ]
  },
  {
   "cell_type": "markdown",
   "metadata": {},
   "source": [
    "#### Translate title and review to English"
   ]
  },
  {
   "cell_type": "code",
   "execution_count": 14,
   "metadata": {},
   "outputs": [],
   "source": [
    "en = 'EN-US'\n",
    "google_translate = GoogleTranslator(source='auto', target='en')"
   ]
  },
  {
   "cell_type": "code",
   "execution_count": 24,
   "metadata": {},
   "outputs": [
    {
     "name": "stderr",
     "output_type": "stream",
     "text": [
      "[nltk_data] Downloading package punkt to\n",
      "[nltk_data]     C:\\Users\\askador\\AppData\\Roaming\\nltk_data...\n",
      "[nltk_data]   Package punkt is already up-to-date!\n"
     ]
    }
   ],
   "source": [
    "nltk.download('punkt')  # sentence tokenizer\n",
    "\n",
    "def chunk_generator(text, max_length=4900):\n",
    "    sentences = sent_tokenize(text)\n",
    "    current_chunk = \"\"\n",
    "    \n",
    "    for sentence in sentences:\n",
    "        if len(current_chunk) + len(sentence) + 1 <= max_length:\n",
    "            if current_chunk:\n",
    "                current_chunk += \" \" + sentence\n",
    "            else:\n",
    "                current_chunk = sentence\n",
    "        else:\n",
    "            yield current_chunk\n",
    "            current_chunk = sentence\n",
    "    \n",
    "    if current_chunk:\n",
    "        yield current_chunk\n",
    "\n",
    "\n",
    "def translate2en(text):\n",
    "    if text == '':\n",
    "        return ''\n",
    "    \n",
    "    try:\n",
    "        translated_text = ''\n",
    "        \n",
    "        # Use the chunk generator\n",
    "        for chunk in chunk_generator(text):\n",
    "            translated_chunk = google_translate.translate(chunk)\n",
    "            # Check if translated_chunk is None before concatenating\n",
    "            if translated_chunk is not None:\n",
    "                translated_text += translated_chunk + \" \"\n",
    "            else:\n",
    "                translated_text += chunk + \" \"\n",
    "                print(f'Warning: Translation returned None for chunk: {chunk}')\n",
    "        \n",
    "        return translated_text.strip()\n",
    "    except Exception as e:\n",
    "        print(f'Error occured while processing the following text: {text}')\n",
    "        print(traceback.print_exception(e))\n",
    "        return ''"
   ]
  },
  {
   "cell_type": "code",
   "execution_count": 25,
   "metadata": {},
   "outputs": [
    {
     "name": "stdout",
     "output_type": "stream",
     "text": [
      "Warning: Translation returned None for chunk: !\n",
      "Warning: Translation returned None for chunk: 😈\n",
      "Warning: Translation returned None for chunk: 😈\n",
      "Warning: Translation returned None for chunk: 👍\n",
      "Warning: Translation returned None for chunk: 👍\n",
      "Warning: Translation returned None for chunk: 👍\n",
      "Warning: Translation returned None for chunk: !\n",
      "Warning: Translation returned None for chunk: 👍\n"
     ]
    }
   ],
   "source": [
    "reviews_df['title_en'] = reviews_df['title'].apply(translate2en)"
   ]
  },
  {
   "cell_type": "code",
   "execution_count": 26,
   "metadata": {},
   "outputs": [
    {
     "name": "stdout",
     "output_type": "stream",
     "text": [
      "Warning: Translation returned None for chunk: .\n",
      "Warning: Translation returned None for chunk: 👍\n",
      "Warning: Translation returned None for chunk: 👍\n"
     ]
    }
   ],
   "source": [
    "reviews_df['text_en'] = reviews_df['text'].apply(translate2en)"
   ]
  },
  {
   "cell_type": "code",
   "execution_count": 17,
   "metadata": {},
   "outputs": [],
   "source": [
    "reviews_df['title_en'] = reviews_df['title_en'].apply(float2string)\n",
    "reviews_df['text_en'] = reviews_df['text_en'].apply(float2string)"
   ]
  },
  {
   "cell_type": "code",
   "execution_count": 27,
   "metadata": {},
   "outputs": [],
   "source": [
    "reviews_df.to_csv(\"data/reviews_translated.csv\", sep=\",\", index=False)"
   ]
  },
  {
   "cell_type": "markdown",
   "metadata": {},
   "source": [
    "### Sentiment Analysis with VADER"
   ]
  },
  {
   "cell_type": "markdown",
   "metadata": {},
   "source": [
    "VADER (Valence Aware Dictionary and sEntiment Reasoner) is a lexicon and rule-based sentiment analysis tool that is sensitive to both the polarity (positive/negative) and the intensity (strength) of emotions. It's widely used for its effectiveness in analyzing the sentiment of short texts like tweets."
   ]
  },
  {
   "cell_type": "code",
   "execution_count": null,
   "metadata": {},
   "outputs": [],
   "source": [
    "nltk.download('vader_lexicon')\n",
    "sia = SentimentIntensityAnalyzer()"
   ]
  },
  {
   "cell_type": "code",
   "execution_count": 18,
   "metadata": {},
   "outputs": [],
   "source": [
    "reviews_df['title_sentiment'] = reviews_df['title_en'].apply(lambda x: sia.polarity_scores(x)['compound'])\n",
    "reviews_df['text_sentiment'] = reviews_df['text_en'].apply(lambda x: sia.polarity_scores(x)['compound'])\n",
    "\n",
    "# Categorize ratings\n",
    "reviews_df['rating_category'] = pd.cut(reviews_df['rating'], bins=[0, 2.5, 3.5, 5], labels=['Negative', 'Neutral', 'Positive'])\n",
    "\n",
    "# Calculate the difference between title and text sentiment\n",
    "reviews_df['sentiment_difference'] = reviews_df['title_sentiment'] - reviews_df['text_sentiment']"
   ]
  },
  {
   "cell_type": "code",
   "execution_count": 19,
   "metadata": {},
   "outputs": [
    {
     "data": {
      "image/png": "[encoded data removed]",
      "text/plain": [
       "<Figure size 1000x600 with 1 Axes>"
      ]
     },
     "metadata": {},
     "output_type": "display_data"
    }
   ],
   "source": [
    "# Visualize the distribution of sentiment difference\n",
    "plt.figure(figsize=(10, 6))\n",
    "sns.histplot(reviews_df['sentiment_difference'], kde=True)\n",
    "plt.title('Distribution of Sentiment Difference (Title EN - Text EN)')\n",
    "plt.xlabel('Sentiment Difference')\n",
    "plt.ylabel('Count')\n",
    "plt.show()"
   ]
  },
  {
   "cell_type": "code",
   "execution_count": 20,
   "metadata": {},
   "outputs": [
    {
     "data": {
      "image/png": "[encoded data removed]",
      "text/plain": [
       "<Figure size 800x600 with 2 Axes>"
      ]
     },
     "metadata": {},
     "output_type": "display_data"
    }
   ],
   "source": [
    "# Calculate correlation between title sentiment, text sentiment, and rating\n",
    "correlation_matrix = reviews_df[['title_sentiment', 'text_sentiment', 'rating']].corr()\n",
    "plt.figure(figsize=(8, 6))\n",
    "sns.heatmap(correlation_matrix, annot=True, cmap='coolwarm')\n",
    "plt.title('Correlation between Title Sentiment, Text Sentiment, and Rating')\n",
    "plt.show()"
   ]
  },
  {
   "cell_type": "markdown",
   "metadata": {},
   "source": [
    "**Correlation Matrix:**\n",
    "  - **Title Sentiment and Rating (0.41):** There's a moderate positive correlation between title sentiment and rating. This suggests that titles reflecting positive sentiment tend to be associated with higher ratings.\n",
    "  - **Text Sentiment and Rating (0.44):** The correlation between text sentiment and rating is slightly stronger than that of the title sentiment. Reviews with positive content generally receive higher ratings.\n",
    "  - **Title Sentiment and Text Sentiment (0.3):** The moderate correlation between title and text sentiment indicates that the sentiment expressed in the title is somewhat aligned with the overall sentiment of the review text, though not perfectly so.\n",
    "  \n",
    "Both title and text sentiments positively influence the rating, with text sentiment having a slightly stronger impact. However, the moderate correlation between title and text sentiment suggests that they capture different aspects of the reviewer's sentiment, making it important to consider both for sentiment analysis."
   ]
  },
  {
   "cell_type": "code",
   "execution_count": 21,
   "metadata": {},
   "outputs": [
    {
     "data": {
      "image/png": "[encoded data removed]",
      "text/plain": [
       "<Figure size 640x480 with 2 Axes>"
      ]
     },
     "metadata": {},
     "output_type": "display_data"
    }
   ],
   "source": [
    "# Compare sentiment categories with rating categories\n",
    "reviews_df['sentiment_category'] = pd.cut(reviews_df['text_sentiment'], bins=[-1, -0.05, 0.05, 1], labels=['Negative', 'Neutral', 'Positive'])\n",
    "\n",
    "confusion = pd.crosstab(reviews_df['sentiment_category'], reviews_df['rating_category'])\n",
    "sns.heatmap(confusion, annot=True, fmt='d', cmap='Blues')\n",
    "plt.title('Sentiment Categories vs Rating Categories')\n",
    "plt.show()"
   ]
  },
  {
   "cell_type": "markdown",
   "metadata": {},
   "source": [
    "**Confusion Matrix of Sentiment vs. Rating Categories:**\n",
    "   - **High Positive Sentiment, High Positive Rating (2913 cases):** Most positive sentiment reviews align with high ratings, reinforcing the idea that positive sentiment correlates strongly with positive ratings.\n",
    "   - **Negative Sentiment with Positive Ratings (134 cases) and Positive Sentiment with Negative Ratings (95 cases):** There are cases where the sentiment does not align with the rating, which could indicate complexities in reviewer behavior or external factors affecting the rating. This misalignment might indicate cases where users express dissatisfaction in the text but still provide a positive rating, which could be due to reasons unrelated to sentiment, such as product features or brand loyalty.\n",
    "   - Neutral Sentiment and Ratings: Neutral sentiment and ratings seem to have the least overlap (with only 4 cases aligning), suggesting that neutral language in reviews might not strongly correlate with the middle-ground ratings of 3 stars.\n",
    "\n",
    "While positive sentiment generally leads to higher ratings, there are instances where sentiment and ratings do not align, potentially due to factors like product expectations, external influences, or nuanced reviewer opinions."
   ]
  },
  {
   "cell_type": "code",
   "execution_count": 22,
   "metadata": {},
   "outputs": [
    {
     "name": "stdout",
     "output_type": "stream",
     "text": [
      "Percentage of reviews with significant sentiment mismatch:\n",
      "34.76272155517439\n"
     ]
    }
   ],
   "source": [
    "# Analyze reviews where title and text sentiments differ significantly\n",
    "sentiment_threshold = 0.5\n",
    "reviews_df['sentiment_mismatch'] = reviews_df['sentiment_difference'].abs() > sentiment_threshold\n",
    "\n",
    "print(\"Percentage of reviews with significant sentiment mismatch:\")\n",
    "print(reviews_df['sentiment_mismatch'].mean() * 100)"
   ]
  },
  {
   "cell_type": "markdown",
   "metadata": {},
   "source": [
    "A notable proportion of reviews show inconsistency between the sentiment of the title and the text. This could imply varying degrees of emphasis or focus between the title and the body of the review, or perhaps different interpretations of sentiment when writing a concise title versus a detailed review."
   ]
  },
  {
   "cell_type": "code",
   "execution_count": 23,
   "metadata": {},
   "outputs": [
    {
     "data": {
      "image/png": "[encoded data removed]",
      "text/plain": [
       "<Figure size 1000x600 with 1 Axes>"
      ]
     },
     "metadata": {},
     "output_type": "display_data"
    }
   ],
   "source": [
    "# Analyze rating distribution for mismatched sentiments\n",
    "plt.figure(figsize=(10, 6))\n",
    "sns.boxplot(x='sentiment_mismatch', y='rating', data=reviews_df)\n",
    "plt.title('Rating Distribution for Reviews with/without Sentiment Mismatch')\n",
    "plt.xlabel('Significant Sentiment Mismatch')\n",
    "plt.ylabel('Rating')\n",
    "plt.show()"
   ]
  },
  {
   "cell_type": "code",
   "execution_count": 24,
   "metadata": {},
   "outputs": [
    {
     "name": "stdout",
     "output_type": "stream",
     "text": [
      "T-test results: t-statistic = 5.7365, p-value = 0.0000\n"
     ]
    }
   ],
   "source": [
    "# T-test to compare ratings of matched vs mismatched sentiment reviews\n",
    "matched_ratings = reviews_df[~reviews_df['sentiment_mismatch']]['rating']\n",
    "mismatched_ratings = reviews_df[reviews_df['sentiment_mismatch']]['rating']\n",
    "t_stat, p_value = stats.ttest_ind(matched_ratings, mismatched_ratings)\n",
    "\n",
    "print(f\"T-test results: t-statistic = {t_stat:.4f}, p-value = {p_value:.4f}\")"
   ]
  },
  {
   "cell_type": "markdown",
   "metadata": {},
   "source": [
    "**T-Test for Sentiment Mismatch and Ratings:**\n",
    "   - **T-Statistic (5.7365) and P-Value (0.0000):** The T-test results reveal a statistically significant difference between the ratings of reviews with matched and mismatched sentiments.\n"
   ]
  },
  {
   "cell_type": "code",
   "execution_count": 42,
   "metadata": {},
   "outputs": [
    {
     "name": "stdout",
     "output_type": "stream",
     "text": [
      "Examples of reviews with mismatched sentiments:\n",
      "\n",
      "Rating: 2.0\n",
      "Title: great specs, not great shape\n",
      "Title Sentiment: 0.85\n",
      "Text: This mouse is equipped with good technologies. The sensor is great and fast, clicks are responsive, ...\n",
      "Text Sentiment: -0.82\n",
      "--------------------------------------------------------------------------------\n",
      "Rating: 2.0\n",
      "Title: great specs, not great shape\n",
      "Title Sentiment: 0.85\n",
      "Text: This mouse is equipped with good technologies. The sensor is great and fast, clicks are responsive, ...\n",
      "Text Sentiment: -0.82\n",
      "--------------------------------------------------------------------------------\n",
      "Rating: 5.0\n",
      "Title: I'm not a gamer, but I love this mouse\n",
      "Title Sentiment: -0.68\n",
      "Text: Great mouse. I am not a gamer, but I was looking for a comfortable, effective mouse that was simple ...\n",
      "Text Sentiment: 0.96\n",
      "--------------------------------------------------------------------------------\n",
      "Rating: 5.0\n",
      "Title: Easy and nice looking\n",
      "Title Sentiment: 0.69\n",
      "Text: I had bought the purple one and had used it for at least close to a year. I did have a few problems ...\n",
      "Text Sentiment: -0.92\n",
      "--------------------------------------------------------------------------------\n",
      "Rating: 5.0\n",
      "Title: Being an adult is sad, I haven't even used it for a month and I haven't played it for a long time.\n",
      "Title Sentiment: -0.63\n",
      "Text: The mouse is very good, comfortable, has all the buttons and with the Razer program you can control ...\n",
      "Text Sentiment: 0.98\n",
      "--------------------------------------------------------------------------------\n"
     ]
    }
   ],
   "source": [
    "# Analyze examples of mismatched sentiments\n",
    "mismatched_examples = reviews_df[reviews_df['sentiment_mismatch']].sort_values('sentiment_difference', key=abs, ascending=False)\n",
    "print(\"Examples of reviews with mismatched sentiments:\\n\")\n",
    "for _, row in mismatched_examples.head().iterrows():\n",
    "    print(f\"Rating: {row['rating']}\")\n",
    "    print(f\"Title: {row['title_en']}\")\n",
    "    print(f\"Title Sentiment: {row['title_sentiment']:.2f}\")\n",
    "    print(f\"Text: {row['text_en'][:100]}...\")\n",
    "    print(f\"Text Sentiment: {row['text_sentiment']:.2f}\")\n",
    "    print(\"-\" * 80)"
   ]
  },
  {
   "cell_type": "markdown",
   "metadata": {},
   "source": [
    "#### Check how title and text sentiment impacts overall rating"
   ]
  },
  {
   "cell_type": "code",
   "execution_count": 40,
   "metadata": {},
   "outputs": [],
   "source": [
    "def categorize_sentiment(title_sentiment, text_sentiment):\n",
    "    if title_sentiment > 0 and text_sentiment < 0:\n",
    "        return 'Pos-Neg'\n",
    "    elif title_sentiment < 0 and text_sentiment > 0:\n",
    "        return 'Neg-Pos'\n",
    "    elif title_sentiment > 0 and text_sentiment > 0:\n",
    "        return 'Pos-Pos'\n",
    "    elif title_sentiment < 0 and text_sentiment < 0:\n",
    "        return 'Neg-Neg'\n",
    "    elif title_sentiment == 0:\n",
    "        return 'Neutral-Any'\n",
    "    elif text_sentiment == 0:\n",
    "        return 'Any-Neutral'\n",
    "    else:\n",
    "        return 'Other'\n",
    "\n",
    "reviews_df['sentiment_category'] = reviews_df.apply(lambda row: categorize_sentiment(row['title_sentiment'], row['text_sentiment']), axis=1)"
   ]
  },
  {
   "cell_type": "code",
   "execution_count": 41,
   "metadata": {},
   "outputs": [
    {
     "data": {
      "image/png": "[encoded data removed]",
      "text/plain": [
       "<Figure size 640x480 with 1 Axes>"
      ]
     },
     "metadata": {},
     "output_type": "display_data"
    }
   ],
   "source": [
    "sns.boxplot(x='sentiment_category', y='rating', data=reviews_df)\n",
    "plt.title('Rating Distribution Across Sentiment Categories')\n",
    "plt.xlabel('Sentiment Category')\n",
    "plt.ylabel('Rating')\n",
    "plt.show()"
   ]
  },
  {
   "cell_type": "code",
   "execution_count": 44,
   "metadata": {},
   "outputs": [],
   "source": [
    "categories = ['Pos-Neg', 'Neg-Pos', 'Pos-Pos', 'Neg-Neg', 'Neutral-Any', 'Any-Neutral']"
   ]
  },
  {
   "cell_type": "code",
   "execution_count": 49,
   "metadata": {},
   "outputs": [
    {
     "name": "stdout",
     "output_type": "stream",
     "text": [
      "ANOVA test results: F-statistic = 192.5307, p-value = 0.0000\n"
     ]
    }
   ],
   "source": [
    "anova_list = [\n",
    "    reviews_df[reviews_df['sentiment_category'] == c]['rating'] \n",
    "    for c in categories\n",
    "]\n",
    "f_stat, p_value = stats.f_oneway(*anova_list)\n",
    "\n",
    "print(f\"ANOVA test results: F-statistic = {f_stat:.4f}, p-value = {p_value:.4f}\")\n"
   ]
  },
  {
   "cell_type": "markdown",
   "metadata": {},
   "source": [
    "The ANOVA test indicates that there is a statistically significant difference in ratings across different sentiment categories."
   ]
  },
  {
   "cell_type": "code",
   "execution_count": 51,
   "metadata": {},
   "outputs": [
    {
     "name": "stdout",
     "output_type": "stream",
     "text": [
      "T-test between Pos-Neg and Neg-Pos: t-statistic = 3.2859, p-value = 0.0012\n",
      "T-test between Pos-Neg and Pos-Pos: t-statistic = -13.7781, p-value = 0.0000\n",
      "T-test between Pos-Neg and Neg-Neg: t-statistic = 7.5940, p-value = 0.0000\n",
      "T-test between Pos-Neg and Neutral-Any: t-statistic = -2.2680, p-value = 0.0235\n",
      "T-test between Pos-Neg and Any-Neutral: t-statistic = -2.5999, p-value = 0.0101\n",
      "T-test between Neg-Pos and Pos-Pos: t-statistic = -25.8453, p-value = 0.0000\n",
      "T-test between Neg-Pos and Neg-Neg: t-statistic = 4.4636, p-value = 0.0000\n",
      "T-test between Neg-Pos and Neutral-Any: t-statistic = -7.6293, p-value = 0.0000\n",
      "T-test between Neg-Pos and Any-Neutral: t-statistic = -5.6420, p-value = 0.0000\n",
      "T-test between Pos-Pos and Neg-Neg: t-statistic = 37.0744, p-value = 0.0000\n",
      "T-test between Pos-Pos and Neutral-Any: t-statistic = 15.3751, p-value = 0.0000\n",
      "T-test between Pos-Pos and Any-Neutral: t-statistic = 4.3734, p-value = 0.0000\n",
      "T-test between Neg-Neg and Neutral-Any: t-statistic = -12.5573, p-value = 0.0000\n",
      "T-test between Neg-Neg and Any-Neutral: t-statistic = -10.4851, p-value = 0.0000\n",
      "T-test between Neutral-Any and Any-Neutral: t-statistic = -1.4174, p-value = 0.1567\n"
     ]
    }
   ],
   "source": [
    "from itertools import combinations\n",
    "\n",
    "# List to store the results\n",
    "results = []\n",
    "\n",
    "for cat1, cat2 in combinations(categories, 2):\n",
    "    t_stat, p_value = stats.ttest_ind(\n",
    "        reviews_df[reviews_df['sentiment_category'] == cat1]['rating'],\n",
    "        reviews_df[reviews_df['sentiment_category'] == cat2]['rating']\n",
    "    )\n",
    "    results.append((cat1, cat2, t_stat, p_value))\n",
    "\n",
    "# Display the results\n",
    "for cat1, cat2, t_stat, p_value in results:\n",
    "    print(f\"T-test between {cat1} and {cat2}: t-statistic = {t_stat:.4f}, p-value = {p_value:.4f}\")"
   ]
  },
  {
   "cell_type": "markdown",
   "metadata": {},
   "source": [
    "**Pairwise T-Tests Across Sentiment Categories:**\n",
    "   - **Significant Differences:** \n",
    "     - Pos-Neg vs. Pos-Pos (t-statistic = -13.7781): Reviews with positive titles but negative content differ greatly in ratings from those with consistent positive sentiment.\n",
    "     - Neg-Pos vs. Pos-Pos (t-statistic = -25.8453): Negative titles with positive content also show a stark difference from consistently positive reviews.\n",
    "     - Pos-Pos vs. Neg-Neg (t-statistic = 37.0744): There's a huge disparity in ratings between consistently positive and consistently negative reviews.\n",
    "     - Neutral-Any vs. Any-Neutral (t-statistic = -1.4174, p-value = 0.1567): The comparison between reviews with neutral title sentiment and neutral text sentiment does not show a statistically significant difference, suggesting that neutral sentiment in either aspect tends to result in similar ratings.\n",
    "\n",
    "The sentiment expressed in both the title and text significantly affects the rating, especially when they are inconsistent. Reviews with consistently positive or negative sentiments lead to more extreme ratings, whereas neutral sentiment does not significantly influence the rating."
   ]
  },
  {
   "cell_type": "markdown",
   "metadata": {},
   "source": [
    "The analysis shows that sentiment—whether in the title or text—plays a crucial role in determining the rating of a review. Positive sentiment correlates with higher ratings, while mismatches between title and text sentiments often lead to differing ratings. The significant differences observed across various sentiment categories and the strong correlation between sentiment and rating suggest that sentiment analysis is a valuable tool in predicting and understanding consumer ratings. However, the presence of sentiment mismatches and cases where sentiment does not align with ratings highlights the complexity of consumer reviews and suggests that a nuanced approach is necessary when analyzing such data."
   ]
  },
  {
   "cell_type": "code",
   "execution_count": 39,
   "metadata": {},
   "outputs": [],
   "source": [
    "reviews_df.to_csv('reviews4analysis.csv', sep=',', index=False)"
   ]
  },
  {
   "cell_type": "markdown",
   "metadata": {},
   "source": [
    "## Training a classification model"
   ]
  },
  {
   "cell_type": "markdown",
   "metadata": {},
   "source": [
    "### Libraries"
   ]
  },
  {
   "cell_type": "code",
   "execution_count": 1,
   "metadata": {},
   "outputs": [],
   "source": [
    "import json\n",
    "import numpy as np\n",
    "import pandas as pd\n",
    "import seaborn as sns\n",
    "import matplotlib.pyplot as plt\n",
    "\n",
    "import nlpaug.augmenter.word as naw\n",
    "\n",
    "from nltk.sentiment import SentimentIntensityAnalyzer\n",
    "\n",
    "import joblib\n",
    "from imblearn.over_sampling import SMOTE\n",
    "from sklearn.feature_extraction.text import TfidfVectorizer\n",
    "from sklearn.ensemble import RandomForestClassifier\n",
    "from sklearn.model_selection import train_test_split, GridSearchCV, RandomizedSearchCV, cross_val_score\n",
    "from sklearn.metrics import classification_report, confusion_matrix, f1_score\n",
    "from sklearn.preprocessing import OneHotEncoder"
   ]
  },
  {
   "cell_type": "markdown",
   "metadata": {},
   "source": [
    "### Load data"
   ]
  },
  {
   "cell_type": "code",
   "execution_count": 2,
   "metadata": {},
   "outputs": [],
   "source": [
    "reviews_df = pd.read_csv(\"data/reviews_translated.csv\", header=0)\n",
    "seed = 333"
   ]
  },
  {
   "cell_type": "markdown",
   "metadata": {},
   "source": [
    "### Text augmentation and resampling "
   ]
  },
  {
   "cell_type": "markdown",
   "metadata": {},
   "source": [
    "#### Adding features"
   ]
  },
  {
   "cell_type": "code",
   "execution_count": 3,
   "metadata": {},
   "outputs": [],
   "source": [
    "def float2string(t):\n",
    "    try:\n",
    "        float(t)\n",
    "        return ''\n",
    "    except ValueError:\n",
    "        return t\n",
    "    \n",
    "\n",
    "def add_features(df: pd.DataFrame):\n",
    "    sia = SentimentIntensityAnalyzer()\n",
    "    \n",
    "    df['title_en'] = reviews_df['title_en'].apply(float2string)\n",
    "    df['text_en'] = reviews_df['text_en'].apply(float2string)\n",
    "    \n",
    "    df['title_sentiment'] = df['title_en'].apply(lambda x: sia.polarity_scores(x)['compound'])\n",
    "    df['text_sentiment'] = df['text_en'].apply(lambda x: sia.polarity_scores(x)['compound'])\n",
    "    df['combined_sentiment'] = (df['title_sentiment'] + df['text_sentiment']) / 2\n",
    "    \n",
    "    \n",
    "    df['sentiment_difference'] = df['title_sentiment'] - df['text_sentiment']\n",
    "    \n",
    "    labels = ['Negative', 'Neutral', 'Positive']\n",
    "    df['rating_category'] = pd.cut(df['rating'], bins=[0, 2.5, 3.5, 5], labels=labels)\n",
    "    df['sentiment_category'] = pd.cut(df['text_sentiment'], bins=[-1, -0.05, 0.05, 1], labels=labels)\n",
    "    df['sentiment_cat_eq_rating_cat'] = df['sentiment_category'] == df['rating_category']\n",
    "    \n",
    "    sentiment_threshold = 0.5\n",
    "    df['sentiment_mismatch'] = df['sentiment_difference'].abs() > sentiment_threshold\n",
    "    \n",
    "    return df"
   ]
  },
  {
   "cell_type": "code",
   "execution_count": 4,
   "metadata": {},
   "outputs": [],
   "source": [
    "reviews_df = reviews_df.drop(['product_title', 'product_link', 'title', 'text'], axis=1)\n",
    "reviews_featured_df = add_features(reviews_df)"
   ]
  },
  {
   "cell_type": "markdown",
   "metadata": {},
   "source": [
    "#### Adding synonyms"
   ]
  },
  {
   "cell_type": "code",
   "execution_count": 5,
   "metadata": {},
   "outputs": [],
   "source": [
    "to_aug_df = reviews_featured_df[~reviews_df['sentiment_cat_eq_rating_cat']][['text_en', 'title_en', 'rating']]\n",
    "\n",
    "synonym_aug = naw.SynonymAug(aug_src='wordnet')\n",
    "aug_df = pd.DataFrame()\n",
    "\n",
    "for index, row in to_aug_df.iterrows():\n",
    "    \n",
    "    for _ in range(2):\n",
    "        aug_text_data = synonym_aug.augment(row['text_en'])\n",
    "        aug_title_data = synonym_aug.augment(row['title_en'])\n",
    "        \n",
    "        df_dict = pd.DataFrame({\n",
    "            'text_en': aug_text_data if aug_text_data else '',\n",
    "            'title_en': aug_title_data if aug_title_data else '',\n",
    "            'rating': row['rating'],\n",
    "        })\n",
    "\n",
    "        aug_df = pd.concat([aug_df, df_dict], ignore_index=True)\n",
    "        \n",
    "# Combine with the original data\n",
    "aug_df = add_features(aug_df)\n",
    "df_augmented = pd.concat([reviews_featured_df, aug_df], ignore_index=True)"
   ]
  },
  {
   "cell_type": "code",
   "execution_count": 6,
   "metadata": {},
   "outputs": [
    {
     "data": {
      "text/plain": [
       "rating                         4438\n",
       "title_en                       4438\n",
       "text_en                        4438\n",
       "title_sentiment                4438\n",
       "text_sentiment                 4438\n",
       "combined_sentiment             4438\n",
       "sentiment_difference           4438\n",
       "rating_category                4438\n",
       "sentiment_category             4438\n",
       "sentiment_cat_eq_rating_cat    4438\n",
       "sentiment_mismatch             4438\n",
       "dtype: int64"
      ]
     },
     "execution_count": 6,
     "metadata": {},
     "output_type": "execute_result"
    }
   ],
   "source": [
    "df_augmented.count()"
   ]
  },
  {
   "cell_type": "markdown",
   "metadata": {},
   "source": [
    "#### Preparing features"
   ]
  },
  {
   "cell_type": "code",
   "execution_count": 7,
   "metadata": {},
   "outputs": [],
   "source": [
    "sentiment_one_hot_encoder = OneHotEncoder(drop='first', sparse_output=False)\n",
    "vectorizer = TfidfVectorizer(max_features=5000)"
   ]
  },
  {
   "cell_type": "code",
   "execution_count": 8,
   "metadata": {},
   "outputs": [
    {
     "data": {
      "text/plain": [
       "['vectorizer.joblib']"
      ]
     },
     "execution_count": 8,
     "metadata": {},
     "output_type": "execute_result"
    }
   ],
   "source": [
    "combined_texts = df_augmented['text_en'] + \" \" + df_augmented['title_en']\n",
    "vectorizer = vectorizer.fit(combined_texts)\n",
    "# Save the vectorizer to a file\n",
    "joblib.dump(vectorizer, 'vectorizer.joblib')"
   ]
  },
  {
   "cell_type": "code",
   "execution_count": 9,
   "metadata": {},
   "outputs": [],
   "source": [
    "vectorizer = joblib.load('vectorizer.joblib')"
   ]
  },
  {
   "cell_type": "code",
   "execution_count": 10,
   "metadata": {},
   "outputs": [],
   "source": [
    "X_text_vec = vectorizer.transform(df_augmented['text_en'])\n",
    "X_title_vec = vectorizer.transform(df_augmented['title_en'])\n",
    "X_text_feature_names = [f\"{name}_text\" for name in vectorizer.get_feature_names_out()]\n",
    "X_title_feature_names = [f\"{name}_title\" for name in vectorizer.get_feature_names_out()]"
   ]
  },
  {
   "cell_type": "code",
   "execution_count": 11,
   "metadata": {},
   "outputs": [],
   "source": [
    "one_hot_feature = sentiment_one_hot_encoder.fit_transform(df_augmented[['sentiment_category', 'sentiment_mismatch']])\n",
    "\n",
    "# Combine all features\n",
    "X = pd.concat([\n",
    "    pd.DataFrame(X_title_vec.toarray(), columns=X_title_feature_names),\n",
    "    pd.DataFrame(X_text_vec.toarray(), columns=X_text_feature_names),\n",
    "    df_augmented[['title_sentiment', 'text_sentiment', 'combined_sentiment', 'sentiment_difference']],\n",
    "    pd.DataFrame(one_hot_feature, columns=sentiment_one_hot_encoder.get_feature_names_out())\n",
    "], axis=1)\n",
    "\n",
    "# y_one_hot = y_one_hot_encoder.fit_transform(df_augmented[['rating']])\n",
    "y = df_augmented['rating'].apply(int)"
   ]
  },
  {
   "cell_type": "markdown",
   "metadata": {},
   "source": [
    "SMOTE (Synthetic Minority Over-sampling Technique) is an algorithm used to address class imbalance in datasets. Here’s how it works and what it does in the context of our data, which includes both text features (encoded as TF-IDF vectors) and other numerical features.\n",
    "\n",
    "**What SMOTE Does:**\n",
    "\n",
    "1. **Identifies Minority Class**:\n",
    "   - SMOTE identifies the minority class in your dataset (the class with fewer instances).\n",
    "   \n",
    "2. **Generates Synthetic Samples**:\n",
    "   - Instead of simply duplicating existing minority class examples, SMOTE creates new synthetic examples. It does this by interpolating between existing examples of the minority class.\n",
    "   - For each minority class sample, SMOTE selects one or more of its nearest neighbors (based on Euclidean distance) and generates a new sample by randomly interpolating between the sample and its neighbor(s).\n",
    "\n",
    "**How SMOTE Synthesizes New Rows with Mixed Data (Text + Numerical):**\n",
    "\n",
    "When applying SMOTE to a dataset that includes both TF-IDF vectors (for text data) and numerical features, the synthetic rows are generated by interpolating between the existing rows' features in the following way:\n",
    "\n",
    "1. **TF-IDF Vectors**:\n",
    "   - **Linear Interpolation**: SMOTE will generate new TF-IDF vectors by linearly interpolating between the TF-IDF values of two nearby examples from the minority class. Since TF-IDF values are just numbers, SMOTE treats them the same way it treats any numerical feature.\n",
    "   - **Effect on Text Data**: The newly generated TF-IDF vector represents a blend of features from two original text samples. The words with higher TF-IDF scores in both samples will generally appear in the synthetic example.\n",
    "\n",
    "2. **Numerical Features**:\n",
    "   - **Simple Interpolation**: For purely numerical features (e.g., `title_sentiment`, `text_sentiment`, etc.), SMOTE interpolates between the values of these features in the same way it does for the TF-IDF vectors.\n",
    "\n",
    "**Practical Example:**\n",
    "\n",
    "Consider a simplified example where you have two samples from the minority class:\n",
    "\n",
    "- **Sample 1**: \n",
    "  - `text_tfidf`: `[0.1, 0.0, 0.3, 0.4]` \n",
    "  - `title_tfidf`: `[0.0, 0.2, 0.1, 0.5]`\n",
    "  - `sentiment`: `0.7`\n",
    "\n",
    "- **Sample 2**: \n",
    "  - `text_tfidf`: `[0.0, 0.3, 0.2, 0.5]`\n",
    "  - `title_tfidf`: `[0.1, 0.1, 0.2, 0.4]`\n",
    "  - `sentiment`: `0.5`\n",
    "\n",
    "SMOTE could generate a new synthetic sample as:\n",
    "\n",
    "- **Synthetic Sample**:\n",
    "  - `text_tfidf`: `[0.05, 0.15, 0.25, 0.45]` (A blend of the two TF-IDF vectors)\n",
    "  - `title_tfidf`: `[0.05, 0.15, 0.15, 0.45]`\n",
    "  - `sentiment`: `0.6` (Interpolated sentiment score)\n",
    "\n",
    "**Considerations:**\n",
    "\n",
    "- **High Dimensionality**: TF-IDF vectors are often high-dimensional and sparse, which can make interpolation less intuitive compared to simple numerical features. However, SMOTE still applies the same principle of interpolation.\n",
    "  \n",
    "- **Synthetic Samples**: The synthetic samples generated by SMOTE may not correspond to actual sentences or real-world text data since they are blends of numerical representations of text. However, they are useful for improving model performance by addressing class imbalance.\n",
    "\n"
   ]
  },
  {
   "cell_type": "code",
   "execution_count": 20,
   "metadata": {},
   "outputs": [
    {
     "name": "stderr",
     "output_type": "stream",
     "text": [
      "d:\\Files\\Programming\\PythonProjects\\nltk-sentiment-scrape\\.venv\\Lib\\site-packages\\joblib\\externals\\loky\\backend\\context.py:136: UserWarning: Could not find the number of physical cores for the following reason:\n",
      "found 0 physical cores < 1\n",
      "Returning the number of logical cores instead. You can silence this warning by setting LOKY_MAX_CPU_COUNT to the number of cores you want to use.\n",
      "  warnings.warn(\n",
      "  File \"d:\\Files\\Programming\\PythonProjects\\nltk-sentiment-scrape\\.venv\\Lib\\site-packages\\joblib\\externals\\loky\\backend\\context.py\", line 282, in _count_physical_cores\n",
      "    raise ValueError(f\"found {cpu_count_physical} physical cores < 1\")\n"
     ]
    }
   ],
   "source": [
    "# Train-test split\n",
    "X_train, X_test, y_train, y_test = train_test_split(X, y, test_size=0.2, random_state=seed)\n",
    "\n",
    "# Apply SMOTE to balance the training data\n",
    "smote = SMOTE(random_state=seed)\n",
    "X_train_smote, y_train_smote = smote.fit_resample(X_train, y_train)\n",
    "\n",
    "X_train_smote = pd.DataFrame(X_train_smote)\n",
    "y_train_smote = pd.Series(y_train_smote)"
   ]
  },
  {
   "cell_type": "code",
   "execution_count": 35,
   "metadata": {},
   "outputs": [
    {
     "name": "stdout",
     "output_type": "stream",
     "text": [
      "Length of the original X_train: 3550\n",
      "Length of X_train_smote: 12785\n"
     ]
    }
   ],
   "source": [
    "print(\"Length of the original X_train:\", len(X_train))\n",
    "print(\"Length of X_train_smote:\", len(X_train_smote))"
   ]
  },
  {
   "cell_type": "markdown",
   "metadata": {},
   "source": [
    "#### Decode rows"
   ]
  },
  {
   "cell_type": "code",
   "execution_count": 12,
   "metadata": {},
   "outputs": [],
   "source": [
    "def decode_row(row):\n",
    "    # Separate the TF-IDF vectors for text and title\n",
    "    text_tfidf_part = row[X_text_feature_names]\n",
    "    title_tfidf_part = row[X_title_feature_names]\n",
    "    \n",
    "    # Decode one-hot encoded part\n",
    "    one_hot_part = row[sentiment_one_hot_encoder.get_feature_names_out()]\n",
    "    original_categorical_values = sentiment_one_hot_encoder.inverse_transform([one_hot_part])\n",
    "    \n",
    "    a = vectorizer.get_feature_names_out()\n",
    "    # Find the words corresponding to the non-zero values in the TF-IDF vector\n",
    "    text_words = [a[i].replace('_text', '') for i in np.nonzero(text_tfidf_part)[0]]\n",
    "    title_words = [a[i].replace('_title', '') for i in np.nonzero(title_tfidf_part)[0]]\n",
    "\n",
    "    # Approximate the original text by joining the words\n",
    "    approx_text = ' '.join(text_words)\n",
    "    approx_title = ' '.join(title_words)\n",
    "\n",
    "    return {\n",
    "        \"text_tfidf_part\": approx_text,\n",
    "        \"title_tfidf_part\": approx_title,\n",
    "        \"sentiment_category\": original_categorical_values[0][0],\n",
    "        \"sentiment_mismatch\": original_categorical_values[0][1],\n",
    "        **row[['title_sentiment', 'text_sentiment', 'combined_sentiment', 'sentiment_difference']].to_dict()\n",
    "    }"
   ]
  },
  {
   "cell_type": "code",
   "execution_count": 158,
   "metadata": {},
   "outputs": [
    {
     "data": {
      "text/plain": [
       "{'text_tfidf_part': '10 200 30 absolute action after again all also and annoying another are awesome battery be because been better broke by can change closed comes constant could degree distance doesn don down driver else engineering engineers even favorite flick for found garbage get gets hard has have health here if immediately in inside into is isn it just kinda know left less liftoff like little logitech loose lot low may maybe me mm mouse move my nope nothing now of on only opening or paid part piece press product push rattling really right screw screws sensitivity sensor software something started starts stick stop super than that the then this tho thought tilt to toggle took trash tried try turns two up usage week weeks wheel when will without work working worthless yes you your',\n",
       " 'title_tfidf_part': 'absolute driver garbage mouse not overrated trash working',\n",
       " 'sentiment_category': 'Negative',\n",
       " 'sentiment_mismatch': np.False_,\n",
       " 'title_sentiment': 0.0,\n",
       " 'text_sentiment': -0.4416308100368599,\n",
       " 'combined_sentiment': -0.22081540501842994,\n",
       " 'sentiment_difference': 0.4416308100368599}"
      ]
     },
     "execution_count": 158,
     "metadata": {},
     "output_type": "execute_result"
    }
   ],
   "source": [
    "row = X_train_smote.iloc[3550] # synthetic\n",
    "decode_row(row)"
   ]
  },
  {
   "cell_type": "code",
   "execution_count": 156,
   "metadata": {},
   "outputs": [
    {
     "data": {
      "text/plain": [
       "{'text_tfidf_part': 'above all and as click colour cool disappeared does entire feel felt for good has have in is it life light made materials mouse my never of one precise the this tiredness using very well when while you',\n",
       " 'title_tfidf_part': 'best doubt mouse the without',\n",
       " 'sentiment_category': 'Positive',\n",
       " 'sentiment_mismatch': np.False_,\n",
       " 'title_sentiment': 0.7438,\n",
       " 'text_sentiment': 0.8221,\n",
       " 'combined_sentiment': 0.78295,\n",
       " 'sentiment_difference': -0.07830000000000004}"
      ]
     },
     "execution_count": 156,
     "metadata": {},
     "output_type": "execute_result"
    }
   ],
   "source": [
    "row = X_train.iloc[3549] # Real\n",
    "decode_row(row)"
   ]
  },
  {
   "cell_type": "markdown",
   "metadata": {},
   "source": [
    "### Random Forest classifier"
   ]
  },
  {
   "cell_type": "markdown",
   "metadata": {},
   "source": [
    "#### Hyperparameters tuning"
   ]
  },
  {
   "cell_type": "code",
   "execution_count": 15,
   "metadata": {},
   "outputs": [],
   "source": [
    "param_distributions = {\n",
    "    'n_estimators': [50, 100, 200, 300, 400, 500],\n",
    "    'max_depth': [None, 10, 20, 30, 40, 50],\n",
    "    'min_samples_split': [2, 5, 10, 15, 20],\n",
    "    'min_samples_leaf': [1, 2, 4, 6, 8],\n",
    "    'bootstrap': [True, False]\n",
    "}\n",
    "clf = RandomForestClassifier(class_weight='balanced', random_state=seed)\n",
    "\n",
    "random_search = RandomizedSearchCV(\n",
    "    estimator=clf,\n",
    "    param_distributions=param_distributions,\n",
    "    n_iter=100,  # Number of different parameter combinations to try\n",
    "    cv=5,       # Number of folds for cross-validation\n",
    "    verbose=2,  # Level of verbosity (optional)\n",
    "    n_jobs=-1,  # Use all available cores\n",
    "    random_state=42\n",
    ")"
   ]
  },
  {
   "cell_type": "markdown",
   "metadata": {},
   "source": [
    "#### Fitting"
   ]
  },
  {
   "cell_type": "code",
   "execution_count": null,
   "metadata": {},
   "outputs": [],
   "source": [
    "random_search = random_search.fit(X_train_smote, y_train_smote)"
   ]
  },
  {
   "cell_type": "code",
   "execution_count": null,
   "metadata": {},
   "outputs": [],
   "source": [
    "results_df = pd.DataFrame(random_search.cv_results_)\n",
    "results_df.to_csv('random_search_results.csv', sep=',', index=False)"
   ]
  },
  {
   "cell_type": "code",
   "execution_count": null,
   "metadata": {},
   "outputs": [],
   "source": [
    "best_clf = random_search.best_estimator_\n",
    "best_params = random_search.best_params_\n",
    "joblib.dump(best_clf, 'models/best_random_forest_model.joblib')\n",
    "joblib.dump(best_params, 'models/best_random_forest_params.joblib')"
   ]
  },
  {
   "cell_type": "markdown",
   "metadata": {},
   "source": [
    "#### Results Analysis"
   ]
  },
  {
   "cell_type": "code",
   "execution_count": 12,
   "metadata": {},
   "outputs": [
    {
     "data": {
      "text/plain": [
       "[\"{'n_estimators': 100, 'min_samples_split': 2, 'min_samples_leaf': 1, 'max_depth': None, 'bootstrap': False}\",\n",
       " \"{'n_estimators': 300, 'min_samples_split': 5, 'min_samples_leaf': 1, 'max_depth': None, 'bootstrap': False}\",\n",
       " \"{'n_estimators': 400, 'min_samples_split': 5, 'min_samples_leaf': 1, 'max_depth': 50, 'bootstrap': False}\",\n",
       " \"{'n_estimators': 300, 'min_samples_split': 5, 'min_samples_leaf': 1, 'max_depth': 50, 'bootstrap': False}\",\n",
       " \"{'n_estimators': 400, 'min_samples_split': 15, 'min_samples_leaf': 1, 'max_depth': 50, 'bootstrap': False}\",\n",
       " \"{'n_estimators': 100, 'min_samples_split': 10, 'min_samples_leaf': 2, 'max_depth': None, 'bootstrap': False}\",\n",
       " \"{'n_estimators': 500, 'min_samples_split': 15, 'min_samples_leaf': 1, 'max_depth': None, 'bootstrap': True}\",\n",
       " \"{'n_estimators': 50, 'min_samples_split': 10, 'min_samples_leaf': 1, 'max_depth': 50, 'bootstrap': False}\",\n",
       " \"{'n_estimators': 50, 'min_samples_split': 15, 'min_samples_leaf': 2, 'max_depth': None, 'bootstrap': False}\",\n",
       " \"{'n_estimators': 500, 'min_samples_split': 20, 'min_samples_leaf': 1, 'max_depth': None, 'bootstrap': True}\"]"
      ]
     },
     "execution_count": 12,
     "metadata": {},
     "output_type": "execute_result"
    }
   ],
   "source": [
    "results = pd.read_csv('random_search_results.csv', header=0)\n",
    "sorted_results = results.sort_values(by='mean_test_score', ascending=False)\n",
    "top_results = sorted_results.head(10)\n",
    "top_results['params'].tolist()"
   ]
  },
  {
   "cell_type": "code",
   "execution_count": 13,
   "metadata": {},
   "outputs": [
    {
     "data": {
      "image/png": "[encoded data removed]",
      "text/plain": [
       "<Figure size 1400x700 with 1 Axes>"
      ]
     },
     "metadata": {},
     "output_type": "display_data"
    },
    {
     "data": {
      "image/png": "[encoded data removed]",
      "text/plain": [
       "<Figure size 640x480 with 1 Axes>"
      ]
     },
     "metadata": {},
     "output_type": "display_data"
    },
    {
     "data": {
      "image/png": "[encoded data removed]",
      "text/plain": [
       "<Figure size 640x480 with 1 Axes>"
      ]
     },
     "metadata": {},
     "output_type": "display_data"
    },
    {
     "data": {
      "image/png": "[encoded data removed]",
      "text/plain": [
       "<Figure size 640x480 with 1 Axes>"
      ]
     },
     "metadata": {},
     "output_type": "display_data"
    }
   ],
   "source": [
    "import pandas as pd\n",
    "import seaborn as sns\n",
    "import matplotlib.pyplot as plt\n",
    "\n",
    "plt.figure(figsize=(14, 7))\n",
    "\n",
    "# Plot mean test score vs. n_estimators\n",
    "sns.lineplot(x='param_n_estimators', y='mean_test_score', data=results, marker='o')\n",
    "plt.title('Mean Test Score vs. Number of Estimators')\n",
    "plt.xlabel('Number of Estimators')\n",
    "plt.ylabel('Mean Test Score')\n",
    "plt.grid(True)\n",
    "plt.show()\n",
    "\n",
    "# Plot mean test score vs. max_depth\n",
    "sns.lineplot(x='param_max_depth', y='mean_test_score', data=results, marker='o')\n",
    "plt.title('Mean Test Score vs. Max Depth')\n",
    "plt.xlabel('Max Depth')\n",
    "plt.ylabel('Mean Test Score')\n",
    "plt.grid(True)\n",
    "plt.show()\n",
    "\n",
    "# Plot mean test score vs. min_samples_split\n",
    "sns.lineplot(x='param_min_samples_split', y='mean_test_score', data=results, marker='o')\n",
    "plt.title('Mean Test Score vs. Min Samples Split')\n",
    "plt.xlabel('Min Samples Split')\n",
    "plt.ylabel('Mean Test Score')\n",
    "plt.grid(True)\n",
    "plt.show()\n",
    "\n",
    "# Plot mean test score vs. min_samples_leaf\n",
    "sns.lineplot(x='param_min_samples_leaf', y='mean_test_score', data=results, marker='o')\n",
    "plt.title('Mean Test Score vs. Min Samples Leaf')\n",
    "plt.xlabel('Min Samples Leaf')\n",
    "plt.ylabel('Mean Test Score')\n",
    "plt.grid(True)\n",
    "plt.show()"
   ]
  },
  {
   "cell_type": "code",
   "execution_count": 39,
   "metadata": {},
   "outputs": [
    {
     "name": "stdout",
     "output_type": "stream",
     "text": [
      "Params: {'n_estimators': 100, 'min_samples_split': 2, 'min_samples_leaf': 1, 'max_depth': None, 'bootstrap': False} -> F1 Score: 0.6675\n",
      "Params: {'n_estimators': 300, 'min_samples_split': 5, 'min_samples_leaf': 1, 'max_depth': None, 'bootstrap': False} -> F1 Score: 0.6725\n",
      "Params: {'n_estimators': 400, 'min_samples_split': 5, 'min_samples_leaf': 1, 'max_depth': 50, 'bootstrap': False} -> F1 Score: 0.6678\n",
      "Params: {'n_estimators': 300, 'min_samples_split': 5, 'min_samples_leaf': 1, 'max_depth': 50, 'bootstrap': False} -> F1 Score: 0.6706\n",
      "Params: {'n_estimators': 400, 'min_samples_split': 15, 'min_samples_leaf': 1, 'max_depth': 50, 'bootstrap': False} -> F1 Score: 0.6685\n",
      "Params: {'n_estimators': 100, 'min_samples_split': 10, 'min_samples_leaf': 2, 'max_depth': None, 'bootstrap': False} -> F1 Score: 0.6709\n",
      "Params: {'n_estimators': 500, 'min_samples_split': 15, 'min_samples_leaf': 1, 'max_depth': None, 'bootstrap': True} -> F1 Score: 0.6607\n",
      "Params: {'n_estimators': 50, 'min_samples_split': 10, 'min_samples_leaf': 1, 'max_depth': 50, 'bootstrap': False} -> F1 Score: 0.6713\n",
      "Params: {'n_estimators': 50, 'min_samples_split': 15, 'min_samples_leaf': 2, 'max_depth': None, 'bootstrap': False} -> F1 Score: 0.6662\n",
      "Params: {'n_estimators': 500, 'min_samples_split': 20, 'min_samples_leaf': 1, 'max_depth': None, 'bootstrap': True} -> F1 Score: 0.6686\n"
     ]
    }
   ],
   "source": [
    "for index, row in top_results.iterrows():\n",
    "    params = row['params']\n",
    "    json_acceptable_string = params.replace(\"'\", \"\\\"\").replace('False', 'false').replace('None', 'null').replace('True', 'true')\n",
    "    params = json.loads(json_acceptable_string)\n",
    "    clf = RandomForestClassifier(random_state=seed, **params)\n",
    "    clf.fit(X_train_smote, y_train_smote)\n",
    "    y_pred = clf.predict(X_test)\n",
    "    f1 = f1_score(y_test, y_pred, average='weighted')\n",
    "    print(f\"Params: {params} -> F1 Score: {f1:.4f}\")"
   ]
  },
  {
   "cell_type": "markdown",
   "metadata": {},
   "source": [
    "#### Best classifier"
   ]
  },
  {
   "cell_type": "code",
   "execution_count": 18,
   "metadata": {},
   "outputs": [
    {
     "name": "stdout",
     "output_type": "stream",
     "text": [
      "Best hyperparameters found by GridSearchCV:\n",
      "bootstrap: False\n",
      "ccp_alpha: 0.0\n",
      "class_weight: None\n",
      "criterion: gini\n",
      "max_depth: None\n",
      "max_features: sqrt\n",
      "max_leaf_nodes: None\n",
      "max_samples: None\n",
      "min_impurity_decrease: 0.0\n",
      "min_samples_leaf: 1\n",
      "min_samples_split: 2\n",
      "min_weight_fraction_leaf: 0.0\n",
      "monotonic_cst: None\n",
      "n_estimators: 100\n",
      "n_jobs: None\n",
      "oob_score: False\n",
      "random_state: 333\n",
      "verbose: 0\n",
      "warm_start: False\n"
     ]
    }
   ],
   "source": [
    "# Best model\n",
    "best_params = joblib.load('models/best_random_forest_params.joblib')\n",
    "best_clf = RandomForestClassifier(random_state=seed, **best_params)\n",
    "best_params  = best_clf.get_params()\n",
    "\n",
    "# Print the best parameters\n",
    "print(\"Best hyperparameters found by GridSearchCV:\")\n",
    "for param_name in sorted(best_params.keys()):\n",
    "    print(f\"{param_name}: {best_params[param_name]}\")"
   ]
  },
  {
   "cell_type": "code",
   "execution_count": null,
   "metadata": {},
   "outputs": [],
   "source": [
    "# Cross-validation score\n",
    "cv_scores = cross_val_score(best_clf, X, y, cv=5)\n",
    "print(f\"Cross-validation accuracy: {cv_scores.mean():.4f}\")\n",
    "\n",
    "y_pred = best_clf.predict(X_test)\n",
    "\n",
    "print(classification_report(y_test, y_pred))\n",
    "\n",
    "cm = confusion_matrix(y_test, y_pred)\n",
    "plt.figure(figsize=(10, 7))\n",
    "sns.heatmap(cm, annot=True, fmt='d', cmap='Blues')\n",
    "plt.title('Confusion Matrix: Predicted vs Actual Rating Categories')\n",
    "plt.xlabel('Predicted')\n",
    "plt.ylabel('Actual')\n",
    "plt.show()\n",
    "\n",
    "feature_importance = pd.DataFrame({\n",
    "    'feature': X.columns,\n",
    "    'importance': best_clf.feature_importances_\n",
    "}).sort_values('importance', ascending=False)\n",
    "\n",
    "plt.figure(figsize=(10, 6))\n",
    "sns.barplot(x='importance', y='feature', data=feature_importance)\n",
    "plt.title('Feature Importance for Predicting Ratings')\n",
    "plt.tight_layout()\n",
    "plt.show()\n",
    "\n",
    "# # Analyze misclassifications\n",
    "# df['predicted_category'] = best_clf.predict(X)\n",
    "# misclassified = df[df['rating_category'] != df['predicted_category']]\n",
    "\n",
    "# # Optional: Print or analyze misclassified examples\n",
    "# print(f\"Number of misclassified reviews: {len(misclassified)}\")\n"
   ]
  }
 ],
 "metadata": {
  "kernelspec": {
   "display_name": ".venv",
   "language": "python",
   "name": "python3"
  },
  "language_info": {
   "codemirror_mode": {
    "name": "ipython",
    "version": 3
   },
   "file_extension": ".py",
   "mimetype": "text/x-python",
   "name": "python",
   "nbconvert_exporter": "python",
   "pygments_lexer": "ipython3",
   "version": "3.12.5"
  }
 },
 "nbformat": 4,
 "nbformat_minor": 2
}
